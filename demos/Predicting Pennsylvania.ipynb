{
 "cells": [
  {
   "cell_type": "markdown",
   "metadata": {},
   "source": [
    "# Predicting Pennsylvania with babypandas"
   ]
  },
  {
   "cell_type": "code",
   "execution_count": 1,
   "metadata": {},
   "outputs": [],
   "source": [
    "import babypandas as bpd\n",
    "import numpy as np"
   ]
  },
  {
   "cell_type": "markdown",
   "metadata": {},
   "source": [
    "## Who will win?"
   ]
  },
  {
   "cell_type": "markdown",
   "metadata": {},
   "source": [
    "As of Thursday afternoon on November 5, Donald Trump is leading Joe Biden in Pennsylvania by over 100,000 votes, with about 340,000 votes left to count. If these votes were a true random sample from the population of Pennsylvania, Biden would have no real chance of catching up. However, these votes are from *mail-in* ballots, which are known to overwhelmingly break towards Biden. Can he catch Trump, win Pennsylvania, and therefore win the election? Let's see."
   ]
  },
  {
   "cell_type": "code",
   "execution_count": 2,
   "metadata": {},
   "outputs": [],
   "source": [
    "# Trump's current lead in PA\n",
    "CURRENT_GAP = 108_367"
   ]
  },
  {
   "cell_type": "markdown",
   "metadata": {},
   "source": [
    "## The plan"
   ]
  },
  {
   "cell_type": "markdown",
   "metadata": {},
   "source": [
    "Here's the idea. Pennsylvania publishes current election data on [data.pa.gov](http://data.pa.gov). In particular, they [publish a data set](https://data.pa.gov/Government-Efficiency-Citizen-Engagement/2020-General-Election-Unofficial-Mail-Ballot-Proce/pg3c-9a9m) of the number of mail-in ballots that remain to be counted on a per-county basis. Let's read it in here:"
   ]
  },
  {
   "cell_type": "code",
   "execution_count": 3,
   "metadata": {},
   "outputs": [
    {
     "data": {
      "text/html": [
       "<div>\n",
       "<style scoped>\n",
       "    .dataframe tbody tr th:only-of-type {\n",
       "        vertical-align: middle;\n",
       "    }\n",
       "\n",
       "    .dataframe tbody tr th {\n",
       "        vertical-align: top;\n",
       "    }\n",
       "\n",
       "    .dataframe thead th {\n",
       "        text-align: right;\n",
       "    }\n",
       "</style>\n",
       "<table border=\"1\" class=\"dataframe\">\n",
       "  <thead>\n",
       "    <tr style=\"text-align: right;\">\n",
       "      <th></th>\n",
       "      <th>Ballots Issued to Voters</th>\n",
       "      <th>Ballots Cast</th>\n",
       "      <th>County</th>\n",
       "      <th>% counted</th>\n",
       "      <th>Ballots Counted</th>\n",
       "      <th>Ballots Remaining</th>\n",
       "    </tr>\n",
       "  </thead>\n",
       "  <tbody>\n",
       "    <tr>\n",
       "      <th>0</th>\n",
       "      <td>19460</td>\n",
       "      <td>15046</td>\n",
       "      <td>MERCER</td>\n",
       "      <td>0.3693</td>\n",
       "      <td>5556</td>\n",
       "      <td>9490</td>\n",
       "    </tr>\n",
       "    <tr>\n",
       "      <th>1</th>\n",
       "      <td>11269</td>\n",
       "      <td>9299</td>\n",
       "      <td>NORTHUMBERLAND</td>\n",
       "      <td>0.9824</td>\n",
       "      <td>9135</td>\n",
       "      <td>164</td>\n",
       "    </tr>\n",
       "    <tr>\n",
       "      <th>2</th>\n",
       "      <td>64958</td>\n",
       "      <td>55087</td>\n",
       "      <td>DAUPHIN</td>\n",
       "      <td>0.9836</td>\n",
       "      <td>54186</td>\n",
       "      <td>901</td>\n",
       "    </tr>\n",
       "    <tr>\n",
       "      <th>3</th>\n",
       "      <td>16166</td>\n",
       "      <td>12679</td>\n",
       "      <td>LAWRENCE</td>\n",
       "      <td>0.9437</td>\n",
       "      <td>11965</td>\n",
       "      <td>714</td>\n",
       "    </tr>\n",
       "    <tr>\n",
       "      <th>4</th>\n",
       "      <td>5708</td>\n",
       "      <td>4930</td>\n",
       "      <td>MIFFLIN</td>\n",
       "      <td>0.8696</td>\n",
       "      <td>4287</td>\n",
       "      <td>643</td>\n",
       "    </tr>\n",
       "    <tr>\n",
       "      <th>...</th>\n",
       "      <td>...</td>\n",
       "      <td>...</td>\n",
       "      <td>...</td>\n",
       "      <td>...</td>\n",
       "      <td>...</td>\n",
       "      <td>...</td>\n",
       "    </tr>\n",
       "    <tr>\n",
       "      <th>62</th>\n",
       "      <td>5464</td>\n",
       "      <td>4593</td>\n",
       "      <td>TIOGA</td>\n",
       "      <td>0.0000</td>\n",
       "      <td>0</td>\n",
       "      <td>4593</td>\n",
       "    </tr>\n",
       "    <tr>\n",
       "      <th>63</th>\n",
       "      <td>6886</td>\n",
       "      <td>6130</td>\n",
       "      <td>UNION</td>\n",
       "      <td>0.9737</td>\n",
       "      <td>5969</td>\n",
       "      <td>161</td>\n",
       "    </tr>\n",
       "    <tr>\n",
       "      <th>64</th>\n",
       "      <td>5162</td>\n",
       "      <td>4616</td>\n",
       "      <td>HUNTINGDON</td>\n",
       "      <td>0.9913</td>\n",
       "      <td>4576</td>\n",
       "      <td>40</td>\n",
       "    </tr>\n",
       "    <tr>\n",
       "      <th>65</th>\n",
       "      <td>1538</td>\n",
       "      <td>1253</td>\n",
       "      <td>FULTON</td>\n",
       "      <td>0.9649</td>\n",
       "      <td>1209</td>\n",
       "      <td>44</td>\n",
       "    </tr>\n",
       "    <tr>\n",
       "      <th>66</th>\n",
       "      <td>11107</td>\n",
       "      <td>9356</td>\n",
       "      <td>CARBON</td>\n",
       "      <td>0.3938</td>\n",
       "      <td>3684</td>\n",
       "      <td>5672</td>\n",
       "    </tr>\n",
       "  </tbody>\n",
       "</table>\n",
       "<p>67 rows × 6 columns</p>\n",
       "</div>"
      ],
      "text/plain": [
       "    Ballots Issued to Voters  Ballots Cast          County  % counted  \\\n",
       "0                      19460         15046          MERCER     0.3693   \n",
       "1                      11269          9299  NORTHUMBERLAND     0.9824   \n",
       "2                      64958         55087         DAUPHIN     0.9836   \n",
       "3                      16166         12679        LAWRENCE     0.9437   \n",
       "4                       5708          4930         MIFFLIN     0.8696   \n",
       "..                       ...           ...             ...        ...   \n",
       "62                      5464          4593           TIOGA     0.0000   \n",
       "63                      6886          6130           UNION     0.9737   \n",
       "64                      5162          4616      HUNTINGDON     0.9913   \n",
       "65                      1538          1253          FULTON     0.9649   \n",
       "66                     11107          9356          CARBON     0.3938   \n",
       "\n",
       "    Ballots Counted  Ballots Remaining  \n",
       "0              5556               9490  \n",
       "1              9135                164  \n",
       "2             54186                901  \n",
       "3             11965                714  \n",
       "4              4287                643  \n",
       "..              ...                ...  \n",
       "62                0               4593  \n",
       "63             5969                161  \n",
       "64             4576                 40  \n",
       "65             1209                 44  \n",
       "66             3684               5672  \n",
       "\n",
       "[67 rows x 6 columns]"
      ]
     },
     "execution_count": 3,
     "metadata": {},
     "output_type": "execute_result"
    }
   ],
   "source": [
    "remaining_raw = bpd.read_csv('data/2020_General_Election_Unofficial_Mail_Ballot_Processing_Current_Hourly_County_State.csv')\n",
    "remaining_raw"
   ]
  },
  {
   "cell_type": "markdown",
   "metadata": {},
   "source": [
    "Biden does well with main in ballots. Let's do the simplest possible analysis: suppose Biden wins 66% of the mail in ballots. How many *more* votes will he win than Trump?"
   ]
  },
  {
   "cell_type": "code",
   "execution_count": 4,
   "metadata": {},
   "outputs": [],
   "source": [
    "simple_for_biden = (remaining_raw.get('Ballots Remaining') * .66).sum()\n",
    "simple_for_trump = (remaining_raw.get('Ballots Remaining') * .33).sum()"
   ]
  },
  {
   "cell_type": "code",
   "execution_count": 5,
   "metadata": {},
   "outputs": [
    {
     "data": {
      "text/plain": [
       "112323.75"
      ]
     },
     "execution_count": 5,
     "metadata": {},
     "output_type": "execute_result"
    }
   ],
   "source": [
    "simple_for_biden - simple_for_trump"
   ]
  },
  {
   "cell_type": "markdown",
   "metadata": {},
   "source": [
    "This isn't enough to catch up (the current gap is larger), but it is very close!"
   ]
  },
  {
   "cell_type": "markdown",
   "metadata": {},
   "source": [
    "Now, we know that some of these counties lean toward Trump and some lean towards Biden. If most of the remaining votes are in Biden-leaning counties, he has a better chance of catching up. To start, we can use the [by county](https://www.nytimes.com/interactive/2020/11/03/us/elections/results-pennsylvania.html) results from the New York Times to get a sense of how each county votes:"
   ]
  },
  {
   "cell_type": "code",
   "execution_count": 6,
   "metadata": {},
   "outputs": [
    {
     "data": {
      "text/html": [
       "<div>\n",
       "<style scoped>\n",
       "    .dataframe tbody tr th:only-of-type {\n",
       "        vertical-align: middle;\n",
       "    }\n",
       "\n",
       "    .dataframe tbody tr th {\n",
       "        vertical-align: top;\n",
       "    }\n",
       "\n",
       "    .dataframe thead th {\n",
       "        text-align: right;\n",
       "    }\n",
       "</style>\n",
       "<table border=\"1\" class=\"dataframe\">\n",
       "  <thead>\n",
       "    <tr style=\"text-align: right;\">\n",
       "      <th></th>\n",
       "      <th>Winner</th>\n",
       "      <th>Point Margin</th>\n",
       "    </tr>\n",
       "    <tr>\n",
       "      <th>County</th>\n",
       "      <th></th>\n",
       "      <th></th>\n",
       "    </tr>\n",
       "  </thead>\n",
       "  <tbody>\n",
       "    <tr>\n",
       "      <th>CRAWFORD</th>\n",
       "      <td>Trump</td>\n",
       "      <td>59.0</td>\n",
       "    </tr>\n",
       "    <tr>\n",
       "      <th>CUMBERLAND</th>\n",
       "      <td>Trump</td>\n",
       "      <td>25.0</td>\n",
       "    </tr>\n",
       "    <tr>\n",
       "      <th>MERCER</th>\n",
       "      <td>Trump</td>\n",
       "      <td>38.0</td>\n",
       "    </tr>\n",
       "    <tr>\n",
       "      <th>LEHIGH</th>\n",
       "      <td>Trump</td>\n",
       "      <td>0.4</td>\n",
       "    </tr>\n",
       "    <tr>\n",
       "      <th>TIOGA</th>\n",
       "      <td>Trump</td>\n",
       "      <td>66.0</td>\n",
       "    </tr>\n",
       "    <tr>\n",
       "      <th>...</th>\n",
       "      <td>...</td>\n",
       "      <td>...</td>\n",
       "    </tr>\n",
       "    <tr>\n",
       "      <th>POTTER</th>\n",
       "      <td>Trump</td>\n",
       "      <td>61.0</td>\n",
       "    </tr>\n",
       "    <tr>\n",
       "      <th>FULTON</th>\n",
       "      <td>Trump</td>\n",
       "      <td>72.0</td>\n",
       "    </tr>\n",
       "    <tr>\n",
       "      <th>SULLIVAN</th>\n",
       "      <td>Trump</td>\n",
       "      <td>48.0</td>\n",
       "    </tr>\n",
       "    <tr>\n",
       "      <th>FOREST</th>\n",
       "      <td>Trump</td>\n",
       "      <td>44.0</td>\n",
       "    </tr>\n",
       "    <tr>\n",
       "      <th>CAMERON</th>\n",
       "      <td>Trump</td>\n",
       "      <td>47.0</td>\n",
       "    </tr>\n",
       "  </tbody>\n",
       "</table>\n",
       "<p>67 rows × 2 columns</p>\n",
       "</div>"
      ],
      "text/plain": [
       "           Winner  Point Margin\n",
       "County                         \n",
       "CRAWFORD    Trump          59.0\n",
       "CUMBERLAND  Trump          25.0\n",
       "MERCER      Trump          38.0\n",
       "LEHIGH      Trump           0.4\n",
       "TIOGA       Trump          66.0\n",
       "...           ...           ...\n",
       "POTTER      Trump          61.0\n",
       "FULTON      Trump          72.0\n",
       "SULLIVAN    Trump          48.0\n",
       "FOREST      Trump          44.0\n",
       "CAMERON     Trump          47.0\n",
       "\n",
       "[67 rows x 2 columns]"
      ]
     },
     "execution_count": 6,
     "metadata": {},
     "output_type": "execute_result"
    }
   ],
   "source": [
    "nyt_margins_raw = bpd.read_csv('data/nyt_margin.csv').set_index('County')\n",
    "nyt_margins_raw"
   ]
  },
  {
   "cell_type": "markdown",
   "metadata": {},
   "source": [
    "This shows who has won the county with all of the votes counted so far, and the margin of their victory in \"points\". If Trump gets 53% of the vote in a county, and Biden receives 47%, Trump has won by 6%, or 6 points.\n",
    "\n",
    "We could use these percentages to predict how many of the remaining votes will go for Biden, but we'd be undercounting. Why? These percentages are for mostly in-person votes, which favor Trump. Take for instance Crawford County."
   ]
  },
  {
   "cell_type": "code",
   "execution_count": 7,
   "metadata": {},
   "outputs": [
    {
     "data": {
      "text/plain": [
       "Winner          Trump\n",
       "Point Margin       59\n",
       "Name: CRAWFORD, dtype: object"
      ]
     },
     "execution_count": 7,
     "metadata": {},
     "output_type": "execute_result"
    }
   ],
   "source": [
    "nyt_margins_raw.loc['CRAWFORD']"
   ]
  },
  {
   "cell_type": "markdown",
   "metadata": {},
   "source": [
    "Trump won the in-person vote in Crawford by almost 60 points! That means he got 80% of the vote, to Biden's 20%.\n",
    "But Biden won *63%* of the mail-in votes, according to [538](https://fivethirtyeight.com/live-blog/2020-election-results-coverage/). This is a huge difference! This pattern repeats itself all over the state. Biden had 17% of the in-person vote in Tioga county, but 50% of the mail-in vote, for instance.\n",
    "\n",
    "All over, it looks like Biden gets a \"mail-in boost\" of about 30 - 40%. That is to say, we might predict that the percentage of mail-in ballots won by Biden is, say, the in-person percentage won by Biden, plus 35%. This is the basic idea of the approach.\n",
    "\n",
    "Of course, in areas like Philadelphia, Biden was winning a huge amount (75%+) of the in-person vote. Adding 35% to this gives 110%! That's not good. Clearly, there is less room for Biden to improve here, so we'll say that in Biden-leaning counties, Biden will be boosted less -- by maybe 5% to 10%."
   ]
  },
  {
   "cell_type": "markdown",
   "metadata": {},
   "source": [
    "So here's the model: if county was leaning for Trump before mail-in votes are counted, the mail-in ballots will lean towards Biden heavily. Think: Tioga county. We'll make this a parameter, but we'll say about 35%.\n",
    "\n",
    "If a county was leaning towards Biden on election day, the boost he gets from mail-in is less. We'll start at 35% for counties that are 50/50 Biden/Trump, and taper it down linearly to 0% for counties that voted entirely for Biden. Here's a function which does this."
   ]
  },
  {
   "cell_type": "code",
   "execution_count": 8,
   "metadata": {},
   "outputs": [],
   "source": [
    "def predicted_percent_biden(in_person_pct, baseline_boost):\n",
    "    \"\"\"baseline_boost is the boost for red counties; something like 35%\"\"\"\n",
    "    if in_person_pct <= .5:\n",
    "        return baseline_boost + in_person_pct\n",
    "    else:\n",
    "        return 2*(1 - in_person_pct)*baseline_boost + in_person_pct"
   ]
  },
  {
   "cell_type": "markdown",
   "metadata": {},
   "source": [
    "Let's test it out. Here is the boost for a county that went 30% Biden in-person:"
   ]
  },
  {
   "cell_type": "code",
   "execution_count": 9,
   "metadata": {},
   "outputs": [
    {
     "data": {
      "text/plain": [
       "0.6499999999999999"
      ]
     },
     "execution_count": 9,
     "metadata": {},
     "output_type": "execute_result"
    }
   ],
   "source": [
    "predicted_percent_biden(.30, .35)"
   ]
  },
  {
   "cell_type": "markdown",
   "metadata": {},
   "source": [
    "This says that the mail-in vote would be roughly 65% Biden."
   ]
  },
  {
   "cell_type": "markdown",
   "metadata": {},
   "source": [
    "Here's the boost for a county that went 75% Biden:"
   ]
  },
  {
   "cell_type": "code",
   "execution_count": 10,
   "metadata": {},
   "outputs": [
    {
     "data": {
      "text/plain": [
       "0.925"
      ]
     },
     "execution_count": 10,
     "metadata": {},
     "output_type": "execute_result"
    }
   ],
   "source": [
    "predicted_percent_biden(.75, .35)"
   ]
  },
  {
   "cell_type": "markdown",
   "metadata": {},
   "source": [
    "This says that the mail-in vote for Biden would be >90%. Is this too high? We can come back to this later, but it isn't too far from what has been observed (>80%)."
   ]
  },
  {
   "cell_type": "markdown",
   "metadata": {},
   "source": [
    "## Data cleaning"
   ]
  },
  {
   "cell_type": "markdown",
   "metadata": {},
   "source": [
    "We're going to need to join our two data sets, so let's make sure that both tables have their county names in all capital letters and get rid of any extra stuff."
   ]
  },
  {
   "cell_type": "code",
   "execution_count": 11,
   "metadata": {
    "scrolled": true
   },
   "outputs": [
    {
     "data": {
      "text/html": [
       "<div>\n",
       "<style scoped>\n",
       "    .dataframe tbody tr th:only-of-type {\n",
       "        vertical-align: middle;\n",
       "    }\n",
       "\n",
       "    .dataframe tbody tr th {\n",
       "        vertical-align: top;\n",
       "    }\n",
       "\n",
       "    .dataframe thead th {\n",
       "        text-align: right;\n",
       "    }\n",
       "</style>\n",
       "<table border=\"1\" class=\"dataframe\">\n",
       "  <thead>\n",
       "    <tr style=\"text-align: right;\">\n",
       "      <th></th>\n",
       "      <th>Point Margin</th>\n",
       "      <th>Winner</th>\n",
       "    </tr>\n",
       "    <tr>\n",
       "      <th>UpperCounty</th>\n",
       "      <th></th>\n",
       "      <th></th>\n",
       "    </tr>\n",
       "  </thead>\n",
       "  <tbody>\n",
       "    <tr>\n",
       "      <th>CRAWFORD</th>\n",
       "      <td>59.0</td>\n",
       "      <td>Trump</td>\n",
       "    </tr>\n",
       "    <tr>\n",
       "      <th>CUMBERLAND</th>\n",
       "      <td>25.0</td>\n",
       "      <td>Trump</td>\n",
       "    </tr>\n",
       "    <tr>\n",
       "      <th>MERCER</th>\n",
       "      <td>38.0</td>\n",
       "      <td>Trump</td>\n",
       "    </tr>\n",
       "    <tr>\n",
       "      <th>LEHIGH</th>\n",
       "      <td>0.4</td>\n",
       "      <td>Trump</td>\n",
       "    </tr>\n",
       "    <tr>\n",
       "      <th>TIOGA</th>\n",
       "      <td>66.0</td>\n",
       "      <td>Trump</td>\n",
       "    </tr>\n",
       "    <tr>\n",
       "      <th>...</th>\n",
       "      <td>...</td>\n",
       "      <td>...</td>\n",
       "    </tr>\n",
       "    <tr>\n",
       "      <th>POTTER</th>\n",
       "      <td>61.0</td>\n",
       "      <td>Trump</td>\n",
       "    </tr>\n",
       "    <tr>\n",
       "      <th>FULTON</th>\n",
       "      <td>72.0</td>\n",
       "      <td>Trump</td>\n",
       "    </tr>\n",
       "    <tr>\n",
       "      <th>SULLIVAN</th>\n",
       "      <td>48.0</td>\n",
       "      <td>Trump</td>\n",
       "    </tr>\n",
       "    <tr>\n",
       "      <th>FOREST</th>\n",
       "      <td>44.0</td>\n",
       "      <td>Trump</td>\n",
       "    </tr>\n",
       "    <tr>\n",
       "      <th>CAMERON</th>\n",
       "      <td>47.0</td>\n",
       "      <td>Trump</td>\n",
       "    </tr>\n",
       "  </tbody>\n",
       "</table>\n",
       "<p>67 rows × 2 columns</p>\n",
       "</div>"
      ],
      "text/plain": [
       "             Point Margin Winner\n",
       "UpperCounty                     \n",
       "CRAWFORD             59.0  Trump\n",
       "CUMBERLAND           25.0  Trump\n",
       "MERCER               38.0  Trump\n",
       "LEHIGH                0.4  Trump\n",
       "TIOGA                66.0  Trump\n",
       "...                   ...    ...\n",
       "POTTER               61.0  Trump\n",
       "FULTON               72.0  Trump\n",
       "SULLIVAN             48.0  Trump\n",
       "FOREST               44.0  Trump\n",
       "CAMERON              47.0  Trump\n",
       "\n",
       "[67 rows x 2 columns]"
      ]
     },
     "execution_count": 11,
     "metadata": {},
     "output_type": "execute_result"
    }
   ],
   "source": [
    "nyt_margins = (\n",
    "    nyt_margins_raw\n",
    "    .assign(UpperCounty=nyt_margins_raw.index.str.upper())\n",
    "    .reset_index()\n",
    "    .get(['UpperCounty', 'Point Margin', 'Winner'])\n",
    "    .set_index('UpperCounty')\n",
    ")\n",
    "nyt_margins"
   ]
  },
  {
   "cell_type": "code",
   "execution_count": 12,
   "metadata": {
    "scrolled": true
   },
   "outputs": [
    {
     "data": {
      "text/html": [
       "<div>\n",
       "<style scoped>\n",
       "    .dataframe tbody tr th:only-of-type {\n",
       "        vertical-align: middle;\n",
       "    }\n",
       "\n",
       "    .dataframe tbody tr th {\n",
       "        vertical-align: top;\n",
       "    }\n",
       "\n",
       "    .dataframe thead th {\n",
       "        text-align: right;\n",
       "    }\n",
       "</style>\n",
       "<table border=\"1\" class=\"dataframe\">\n",
       "  <thead>\n",
       "    <tr style=\"text-align: right;\">\n",
       "      <th></th>\n",
       "      <th>Ballots Remaining</th>\n",
       "    </tr>\n",
       "    <tr>\n",
       "      <th>County</th>\n",
       "      <th></th>\n",
       "    </tr>\n",
       "  </thead>\n",
       "  <tbody>\n",
       "    <tr>\n",
       "      <th>MERCER</th>\n",
       "      <td>9490</td>\n",
       "    </tr>\n",
       "    <tr>\n",
       "      <th>NORTHUMBERLAND</th>\n",
       "      <td>164</td>\n",
       "    </tr>\n",
       "    <tr>\n",
       "      <th>DAUPHIN</th>\n",
       "      <td>901</td>\n",
       "    </tr>\n",
       "    <tr>\n",
       "      <th>LAWRENCE</th>\n",
       "      <td>714</td>\n",
       "    </tr>\n",
       "    <tr>\n",
       "      <th>MIFFLIN</th>\n",
       "      <td>643</td>\n",
       "    </tr>\n",
       "    <tr>\n",
       "      <th>...</th>\n",
       "      <td>...</td>\n",
       "    </tr>\n",
       "    <tr>\n",
       "      <th>TIOGA</th>\n",
       "      <td>4593</td>\n",
       "    </tr>\n",
       "    <tr>\n",
       "      <th>UNION</th>\n",
       "      <td>161</td>\n",
       "    </tr>\n",
       "    <tr>\n",
       "      <th>HUNTINGDON</th>\n",
       "      <td>40</td>\n",
       "    </tr>\n",
       "    <tr>\n",
       "      <th>FULTON</th>\n",
       "      <td>44</td>\n",
       "    </tr>\n",
       "    <tr>\n",
       "      <th>CARBON</th>\n",
       "      <td>5672</td>\n",
       "    </tr>\n",
       "  </tbody>\n",
       "</table>\n",
       "<p>67 rows × 1 columns</p>\n",
       "</div>"
      ],
      "text/plain": [
       "                Ballots Remaining\n",
       "County                           \n",
       "MERCER                       9490\n",
       "NORTHUMBERLAND                164\n",
       "DAUPHIN                       901\n",
       "LAWRENCE                      714\n",
       "MIFFLIN                       643\n",
       "...                           ...\n",
       "TIOGA                        4593\n",
       "UNION                         161\n",
       "HUNTINGDON                     40\n",
       "FULTON                         44\n",
       "CARBON                       5672\n",
       "\n",
       "[67 rows x 1 columns]"
      ]
     },
     "execution_count": 12,
     "metadata": {},
     "output_type": "execute_result"
    }
   ],
   "source": [
    "remaining = remaining_raw.set_index('County').get(['Ballots Remaining'])\n",
    "remaining"
   ]
  },
  {
   "cell_type": "markdown",
   "metadata": {},
   "source": [
    "Now we'll merge:"
   ]
  },
  {
   "cell_type": "code",
   "execution_count": 13,
   "metadata": {},
   "outputs": [
    {
     "data": {
      "text/html": [
       "<div>\n",
       "<style scoped>\n",
       "    .dataframe tbody tr th:only-of-type {\n",
       "        vertical-align: middle;\n",
       "    }\n",
       "\n",
       "    .dataframe tbody tr th {\n",
       "        vertical-align: top;\n",
       "    }\n",
       "\n",
       "    .dataframe thead th {\n",
       "        text-align: right;\n",
       "    }\n",
       "</style>\n",
       "<table border=\"1\" class=\"dataframe\">\n",
       "  <thead>\n",
       "    <tr style=\"text-align: right;\">\n",
       "      <th></th>\n",
       "      <th>Ballots Remaining</th>\n",
       "      <th>Point Margin</th>\n",
       "      <th>Winner</th>\n",
       "    </tr>\n",
       "  </thead>\n",
       "  <tbody>\n",
       "    <tr>\n",
       "      <th>MERCER</th>\n",
       "      <td>9490</td>\n",
       "      <td>38.0</td>\n",
       "      <td>Trump</td>\n",
       "    </tr>\n",
       "    <tr>\n",
       "      <th>NORTHUMBERLAND</th>\n",
       "      <td>164</td>\n",
       "      <td>38.0</td>\n",
       "      <td>Trump</td>\n",
       "    </tr>\n",
       "    <tr>\n",
       "      <th>DAUPHIN</th>\n",
       "      <td>901</td>\n",
       "      <td>8.0</td>\n",
       "      <td>Biden</td>\n",
       "    </tr>\n",
       "    <tr>\n",
       "      <th>LAWRENCE</th>\n",
       "      <td>714</td>\n",
       "      <td>30.0</td>\n",
       "      <td>Trump</td>\n",
       "    </tr>\n",
       "    <tr>\n",
       "      <th>MIFFLIN</th>\n",
       "      <td>643</td>\n",
       "      <td>56.0</td>\n",
       "      <td>Trump</td>\n",
       "    </tr>\n",
       "    <tr>\n",
       "      <th>...</th>\n",
       "      <td>...</td>\n",
       "      <td>...</td>\n",
       "      <td>...</td>\n",
       "    </tr>\n",
       "    <tr>\n",
       "      <th>TIOGA</th>\n",
       "      <td>4593</td>\n",
       "      <td>66.0</td>\n",
       "      <td>Trump</td>\n",
       "    </tr>\n",
       "    <tr>\n",
       "      <th>UNION</th>\n",
       "      <td>161</td>\n",
       "      <td>25.0</td>\n",
       "      <td>Trump</td>\n",
       "    </tr>\n",
       "    <tr>\n",
       "      <th>HUNTINGDON</th>\n",
       "      <td>40</td>\n",
       "      <td>51.0</td>\n",
       "      <td>Trump</td>\n",
       "    </tr>\n",
       "    <tr>\n",
       "      <th>FULTON</th>\n",
       "      <td>44</td>\n",
       "      <td>72.0</td>\n",
       "      <td>Trump</td>\n",
       "    </tr>\n",
       "    <tr>\n",
       "      <th>CARBON</th>\n",
       "      <td>5672</td>\n",
       "      <td>32.0</td>\n",
       "      <td>Trump</td>\n",
       "    </tr>\n",
       "  </tbody>\n",
       "</table>\n",
       "<p>67 rows × 3 columns</p>\n",
       "</div>"
      ],
      "text/plain": [
       "                Ballots Remaining  Point Margin Winner\n",
       "MERCER                       9490          38.0  Trump\n",
       "NORTHUMBERLAND                164          38.0  Trump\n",
       "DAUPHIN                       901           8.0  Biden\n",
       "LAWRENCE                      714          30.0  Trump\n",
       "MIFFLIN                       643          56.0  Trump\n",
       "...                           ...           ...    ...\n",
       "TIOGA                        4593          66.0  Trump\n",
       "UNION                         161          25.0  Trump\n",
       "HUNTINGDON                     40          51.0  Trump\n",
       "FULTON                         44          72.0  Trump\n",
       "CARBON                       5672          32.0  Trump\n",
       "\n",
       "[67 rows x 3 columns]"
      ]
     },
     "execution_count": 13,
     "metadata": {},
     "output_type": "execute_result"
    }
   ],
   "source": [
    "merged = remaining.merge(nyt_margins, left_index=True, right_index=True)\n",
    "merged"
   ]
  },
  {
   "cell_type": "markdown",
   "metadata": {},
   "source": [
    "\n",
    "\n",
    "Let's add a column to the table which contains the percentage of the votes earned by Biden. We'll start by making the point margin negative if Trump won the county, and positive if Biden won."
   ]
  },
  {
   "cell_type": "code",
   "execution_count": 14,
   "metadata": {},
   "outputs": [
    {
     "data": {
      "text/html": [
       "<div>\n",
       "<style scoped>\n",
       "    .dataframe tbody tr th:only-of-type {\n",
       "        vertical-align: middle;\n",
       "    }\n",
       "\n",
       "    .dataframe tbody tr th {\n",
       "        vertical-align: top;\n",
       "    }\n",
       "\n",
       "    .dataframe thead th {\n",
       "        text-align: right;\n",
       "    }\n",
       "</style>\n",
       "<table border=\"1\" class=\"dataframe\">\n",
       "  <thead>\n",
       "    <tr style=\"text-align: right;\">\n",
       "      <th></th>\n",
       "      <th>Ballots Remaining</th>\n",
       "      <th>Point Margin</th>\n",
       "      <th>Winner</th>\n",
       "      <th>signed_margin</th>\n",
       "    </tr>\n",
       "  </thead>\n",
       "  <tbody>\n",
       "    <tr>\n",
       "      <th>MERCER</th>\n",
       "      <td>9490</td>\n",
       "      <td>38.0</td>\n",
       "      <td>Trump</td>\n",
       "      <td>-38.0</td>\n",
       "    </tr>\n",
       "    <tr>\n",
       "      <th>NORTHUMBERLAND</th>\n",
       "      <td>164</td>\n",
       "      <td>38.0</td>\n",
       "      <td>Trump</td>\n",
       "      <td>-38.0</td>\n",
       "    </tr>\n",
       "    <tr>\n",
       "      <th>DAUPHIN</th>\n",
       "      <td>901</td>\n",
       "      <td>8.0</td>\n",
       "      <td>Biden</td>\n",
       "      <td>8.0</td>\n",
       "    </tr>\n",
       "    <tr>\n",
       "      <th>LAWRENCE</th>\n",
       "      <td>714</td>\n",
       "      <td>30.0</td>\n",
       "      <td>Trump</td>\n",
       "      <td>-30.0</td>\n",
       "    </tr>\n",
       "    <tr>\n",
       "      <th>MIFFLIN</th>\n",
       "      <td>643</td>\n",
       "      <td>56.0</td>\n",
       "      <td>Trump</td>\n",
       "      <td>-56.0</td>\n",
       "    </tr>\n",
       "    <tr>\n",
       "      <th>...</th>\n",
       "      <td>...</td>\n",
       "      <td>...</td>\n",
       "      <td>...</td>\n",
       "      <td>...</td>\n",
       "    </tr>\n",
       "    <tr>\n",
       "      <th>TIOGA</th>\n",
       "      <td>4593</td>\n",
       "      <td>66.0</td>\n",
       "      <td>Trump</td>\n",
       "      <td>-66.0</td>\n",
       "    </tr>\n",
       "    <tr>\n",
       "      <th>UNION</th>\n",
       "      <td>161</td>\n",
       "      <td>25.0</td>\n",
       "      <td>Trump</td>\n",
       "      <td>-25.0</td>\n",
       "    </tr>\n",
       "    <tr>\n",
       "      <th>HUNTINGDON</th>\n",
       "      <td>40</td>\n",
       "      <td>51.0</td>\n",
       "      <td>Trump</td>\n",
       "      <td>-51.0</td>\n",
       "    </tr>\n",
       "    <tr>\n",
       "      <th>FULTON</th>\n",
       "      <td>44</td>\n",
       "      <td>72.0</td>\n",
       "      <td>Trump</td>\n",
       "      <td>-72.0</td>\n",
       "    </tr>\n",
       "    <tr>\n",
       "      <th>CARBON</th>\n",
       "      <td>5672</td>\n",
       "      <td>32.0</td>\n",
       "      <td>Trump</td>\n",
       "      <td>-32.0</td>\n",
       "    </tr>\n",
       "  </tbody>\n",
       "</table>\n",
       "<p>67 rows × 4 columns</p>\n",
       "</div>"
      ],
      "text/plain": [
       "                Ballots Remaining  Point Margin Winner  signed_margin\n",
       "MERCER                       9490          38.0  Trump          -38.0\n",
       "NORTHUMBERLAND                164          38.0  Trump          -38.0\n",
       "DAUPHIN                       901           8.0  Biden            8.0\n",
       "LAWRENCE                      714          30.0  Trump          -30.0\n",
       "MIFFLIN                       643          56.0  Trump          -56.0\n",
       "...                           ...           ...    ...            ...\n",
       "TIOGA                        4593          66.0  Trump          -66.0\n",
       "UNION                         161          25.0  Trump          -25.0\n",
       "HUNTINGDON                     40          51.0  Trump          -51.0\n",
       "FULTON                         44          72.0  Trump          -72.0\n",
       "CARBON                       5672          32.0  Trump          -32.0\n",
       "\n",
       "[67 rows x 4 columns]"
      ]
     },
     "execution_count": 14,
     "metadata": {},
     "output_type": "execute_result"
    }
   ],
   "source": [
    "def margin_sign(s):\n",
    "    if s == 'Trump':\n",
    "        return -1\n",
    "    else:\n",
    "        return 1\n",
    "\n",
    "with_signed_margins = merged.assign(\n",
    "    signed_margin=merged.get('Point Margin') * merged.get('Winner').apply(margin_sign)\n",
    ")\n",
    "with_signed_margins"
   ]
  },
  {
   "cell_type": "markdown",
   "metadata": {},
   "source": [
    "Now let's convert the points to percentage:"
   ]
  },
  {
   "cell_type": "code",
   "execution_count": 15,
   "metadata": {},
   "outputs": [
    {
     "data": {
      "text/html": [
       "<div>\n",
       "<style scoped>\n",
       "    .dataframe tbody tr th:only-of-type {\n",
       "        vertical-align: middle;\n",
       "    }\n",
       "\n",
       "    .dataframe tbody tr th {\n",
       "        vertical-align: top;\n",
       "    }\n",
       "\n",
       "    .dataframe thead th {\n",
       "        text-align: right;\n",
       "    }\n",
       "</style>\n",
       "<table border=\"1\" class=\"dataframe\">\n",
       "  <thead>\n",
       "    <tr style=\"text-align: right;\">\n",
       "      <th></th>\n",
       "      <th>Ballots Remaining</th>\n",
       "      <th>Point Margin</th>\n",
       "      <th>Winner</th>\n",
       "      <th>signed_margin</th>\n",
       "      <th>in_person_biden</th>\n",
       "    </tr>\n",
       "  </thead>\n",
       "  <tbody>\n",
       "    <tr>\n",
       "      <th>MERCER</th>\n",
       "      <td>9490</td>\n",
       "      <td>38.0</td>\n",
       "      <td>Trump</td>\n",
       "      <td>-38.0</td>\n",
       "      <td>0.310</td>\n",
       "    </tr>\n",
       "    <tr>\n",
       "      <th>NORTHUMBERLAND</th>\n",
       "      <td>164</td>\n",
       "      <td>38.0</td>\n",
       "      <td>Trump</td>\n",
       "      <td>-38.0</td>\n",
       "      <td>0.310</td>\n",
       "    </tr>\n",
       "    <tr>\n",
       "      <th>DAUPHIN</th>\n",
       "      <td>901</td>\n",
       "      <td>8.0</td>\n",
       "      <td>Biden</td>\n",
       "      <td>8.0</td>\n",
       "      <td>0.540</td>\n",
       "    </tr>\n",
       "    <tr>\n",
       "      <th>LAWRENCE</th>\n",
       "      <td>714</td>\n",
       "      <td>30.0</td>\n",
       "      <td>Trump</td>\n",
       "      <td>-30.0</td>\n",
       "      <td>0.350</td>\n",
       "    </tr>\n",
       "    <tr>\n",
       "      <th>MIFFLIN</th>\n",
       "      <td>643</td>\n",
       "      <td>56.0</td>\n",
       "      <td>Trump</td>\n",
       "      <td>-56.0</td>\n",
       "      <td>0.220</td>\n",
       "    </tr>\n",
       "    <tr>\n",
       "      <th>...</th>\n",
       "      <td>...</td>\n",
       "      <td>...</td>\n",
       "      <td>...</td>\n",
       "      <td>...</td>\n",
       "      <td>...</td>\n",
       "    </tr>\n",
       "    <tr>\n",
       "      <th>TIOGA</th>\n",
       "      <td>4593</td>\n",
       "      <td>66.0</td>\n",
       "      <td>Trump</td>\n",
       "      <td>-66.0</td>\n",
       "      <td>0.170</td>\n",
       "    </tr>\n",
       "    <tr>\n",
       "      <th>UNION</th>\n",
       "      <td>161</td>\n",
       "      <td>25.0</td>\n",
       "      <td>Trump</td>\n",
       "      <td>-25.0</td>\n",
       "      <td>0.375</td>\n",
       "    </tr>\n",
       "    <tr>\n",
       "      <th>HUNTINGDON</th>\n",
       "      <td>40</td>\n",
       "      <td>51.0</td>\n",
       "      <td>Trump</td>\n",
       "      <td>-51.0</td>\n",
       "      <td>0.245</td>\n",
       "    </tr>\n",
       "    <tr>\n",
       "      <th>FULTON</th>\n",
       "      <td>44</td>\n",
       "      <td>72.0</td>\n",
       "      <td>Trump</td>\n",
       "      <td>-72.0</td>\n",
       "      <td>0.140</td>\n",
       "    </tr>\n",
       "    <tr>\n",
       "      <th>CARBON</th>\n",
       "      <td>5672</td>\n",
       "      <td>32.0</td>\n",
       "      <td>Trump</td>\n",
       "      <td>-32.0</td>\n",
       "      <td>0.340</td>\n",
       "    </tr>\n",
       "  </tbody>\n",
       "</table>\n",
       "<p>67 rows × 5 columns</p>\n",
       "</div>"
      ],
      "text/plain": [
       "                Ballots Remaining  Point Margin Winner  signed_margin  \\\n",
       "MERCER                       9490          38.0  Trump          -38.0   \n",
       "NORTHUMBERLAND                164          38.0  Trump          -38.0   \n",
       "DAUPHIN                       901           8.0  Biden            8.0   \n",
       "LAWRENCE                      714          30.0  Trump          -30.0   \n",
       "MIFFLIN                       643          56.0  Trump          -56.0   \n",
       "...                           ...           ...    ...            ...   \n",
       "TIOGA                        4593          66.0  Trump          -66.0   \n",
       "UNION                         161          25.0  Trump          -25.0   \n",
       "HUNTINGDON                     40          51.0  Trump          -51.0   \n",
       "FULTON                         44          72.0  Trump          -72.0   \n",
       "CARBON                       5672          32.0  Trump          -32.0   \n",
       "\n",
       "                in_person_biden  \n",
       "MERCER                    0.310  \n",
       "NORTHUMBERLAND            0.310  \n",
       "DAUPHIN                   0.540  \n",
       "LAWRENCE                  0.350  \n",
       "MIFFLIN                   0.220  \n",
       "...                         ...  \n",
       "TIOGA                     0.170  \n",
       "UNION                     0.375  \n",
       "HUNTINGDON                0.245  \n",
       "FULTON                    0.140  \n",
       "CARBON                    0.340  \n",
       "\n",
       "[67 rows x 5 columns]"
      ]
     },
     "execution_count": 15,
     "metadata": {},
     "output_type": "execute_result"
    }
   ],
   "source": [
    "with_in_person_pct = with_signed_margins.assign(\n",
    "    in_person_biden=(with_signed_margins.get('signed_margin') / 2 + 50) / 100\n",
    ")\n",
    "with_in_person_pct"
   ]
  },
  {
   "cell_type": "markdown",
   "metadata": {},
   "source": [
    "Now let's get our predicted percent for mail-in for Biden, using a 35% mail-in boost for Biden in red counties, tapering to 0% for fully-blue counties."
   ]
  },
  {
   "cell_type": "code",
   "execution_count": 16,
   "metadata": {},
   "outputs": [
    {
     "data": {
      "text/html": [
       "<div>\n",
       "<style scoped>\n",
       "    .dataframe tbody tr th:only-of-type {\n",
       "        vertical-align: middle;\n",
       "    }\n",
       "\n",
       "    .dataframe tbody tr th {\n",
       "        vertical-align: top;\n",
       "    }\n",
       "\n",
       "    .dataframe thead th {\n",
       "        text-align: right;\n",
       "    }\n",
       "</style>\n",
       "<table border=\"1\" class=\"dataframe\">\n",
       "  <thead>\n",
       "    <tr style=\"text-align: right;\">\n",
       "      <th></th>\n",
       "      <th>Ballots Remaining</th>\n",
       "      <th>Point Margin</th>\n",
       "      <th>Winner</th>\n",
       "      <th>signed_margin</th>\n",
       "      <th>in_person_biden</th>\n",
       "      <th>predicted_biden_pct</th>\n",
       "    </tr>\n",
       "  </thead>\n",
       "  <tbody>\n",
       "    <tr>\n",
       "      <th>MERCER</th>\n",
       "      <td>9490</td>\n",
       "      <td>38.0</td>\n",
       "      <td>Trump</td>\n",
       "      <td>-38.0</td>\n",
       "      <td>0.310</td>\n",
       "      <td>0.660</td>\n",
       "    </tr>\n",
       "    <tr>\n",
       "      <th>NORTHUMBERLAND</th>\n",
       "      <td>164</td>\n",
       "      <td>38.0</td>\n",
       "      <td>Trump</td>\n",
       "      <td>-38.0</td>\n",
       "      <td>0.310</td>\n",
       "      <td>0.660</td>\n",
       "    </tr>\n",
       "    <tr>\n",
       "      <th>DAUPHIN</th>\n",
       "      <td>901</td>\n",
       "      <td>8.0</td>\n",
       "      <td>Biden</td>\n",
       "      <td>8.0</td>\n",
       "      <td>0.540</td>\n",
       "      <td>0.862</td>\n",
       "    </tr>\n",
       "    <tr>\n",
       "      <th>LAWRENCE</th>\n",
       "      <td>714</td>\n",
       "      <td>30.0</td>\n",
       "      <td>Trump</td>\n",
       "      <td>-30.0</td>\n",
       "      <td>0.350</td>\n",
       "      <td>0.700</td>\n",
       "    </tr>\n",
       "    <tr>\n",
       "      <th>MIFFLIN</th>\n",
       "      <td>643</td>\n",
       "      <td>56.0</td>\n",
       "      <td>Trump</td>\n",
       "      <td>-56.0</td>\n",
       "      <td>0.220</td>\n",
       "      <td>0.570</td>\n",
       "    </tr>\n",
       "    <tr>\n",
       "      <th>...</th>\n",
       "      <td>...</td>\n",
       "      <td>...</td>\n",
       "      <td>...</td>\n",
       "      <td>...</td>\n",
       "      <td>...</td>\n",
       "      <td>...</td>\n",
       "    </tr>\n",
       "    <tr>\n",
       "      <th>TIOGA</th>\n",
       "      <td>4593</td>\n",
       "      <td>66.0</td>\n",
       "      <td>Trump</td>\n",
       "      <td>-66.0</td>\n",
       "      <td>0.170</td>\n",
       "      <td>0.520</td>\n",
       "    </tr>\n",
       "    <tr>\n",
       "      <th>UNION</th>\n",
       "      <td>161</td>\n",
       "      <td>25.0</td>\n",
       "      <td>Trump</td>\n",
       "      <td>-25.0</td>\n",
       "      <td>0.375</td>\n",
       "      <td>0.725</td>\n",
       "    </tr>\n",
       "    <tr>\n",
       "      <th>HUNTINGDON</th>\n",
       "      <td>40</td>\n",
       "      <td>51.0</td>\n",
       "      <td>Trump</td>\n",
       "      <td>-51.0</td>\n",
       "      <td>0.245</td>\n",
       "      <td>0.595</td>\n",
       "    </tr>\n",
       "    <tr>\n",
       "      <th>FULTON</th>\n",
       "      <td>44</td>\n",
       "      <td>72.0</td>\n",
       "      <td>Trump</td>\n",
       "      <td>-72.0</td>\n",
       "      <td>0.140</td>\n",
       "      <td>0.490</td>\n",
       "    </tr>\n",
       "    <tr>\n",
       "      <th>CARBON</th>\n",
       "      <td>5672</td>\n",
       "      <td>32.0</td>\n",
       "      <td>Trump</td>\n",
       "      <td>-32.0</td>\n",
       "      <td>0.340</td>\n",
       "      <td>0.690</td>\n",
       "    </tr>\n",
       "  </tbody>\n",
       "</table>\n",
       "<p>67 rows × 6 columns</p>\n",
       "</div>"
      ],
      "text/plain": [
       "                Ballots Remaining  Point Margin Winner  signed_margin  \\\n",
       "MERCER                       9490          38.0  Trump          -38.0   \n",
       "NORTHUMBERLAND                164          38.0  Trump          -38.0   \n",
       "DAUPHIN                       901           8.0  Biden            8.0   \n",
       "LAWRENCE                      714          30.0  Trump          -30.0   \n",
       "MIFFLIN                       643          56.0  Trump          -56.0   \n",
       "...                           ...           ...    ...            ...   \n",
       "TIOGA                        4593          66.0  Trump          -66.0   \n",
       "UNION                         161          25.0  Trump          -25.0   \n",
       "HUNTINGDON                     40          51.0  Trump          -51.0   \n",
       "FULTON                         44          72.0  Trump          -72.0   \n",
       "CARBON                       5672          32.0  Trump          -32.0   \n",
       "\n",
       "                in_person_biden  predicted_biden_pct  \n",
       "MERCER                    0.310                0.660  \n",
       "NORTHUMBERLAND            0.310                0.660  \n",
       "DAUPHIN                   0.540                0.862  \n",
       "LAWRENCE                  0.350                0.700  \n",
       "MIFFLIN                   0.220                0.570  \n",
       "...                         ...                  ...  \n",
       "TIOGA                     0.170                0.520  \n",
       "UNION                     0.375                0.725  \n",
       "HUNTINGDON                0.245                0.595  \n",
       "FULTON                    0.140                0.490  \n",
       "CARBON                    0.340                0.690  \n",
       "\n",
       "[67 rows x 6 columns]"
      ]
     },
     "execution_count": 16,
     "metadata": {},
     "output_type": "execute_result"
    }
   ],
   "source": [
    "def predicted_biden_35(p):\n",
    "    \"\"\"Boost Biden by 35% in red counties\"\"\"\n",
    "    return predicted_percent_biden(p, .35)\n",
    "    \n",
    "\n",
    "with_predicted_pct = with_in_person_pct.assign(\n",
    "    predicted_biden_pct=with_in_person_pct.get('in_person_biden').apply(predicted_biden_35)\n",
    ")\n",
    "with_predicted_pct"
   ]
  },
  {
   "cell_type": "markdown",
   "metadata": {},
   "source": [
    "## Results"
   ]
  },
  {
   "cell_type": "markdown",
   "metadata": {},
   "source": [
    "Alright, now for the results. How many votes will Biden pick up from mail-in votes under our model?"
   ]
  },
  {
   "cell_type": "code",
   "execution_count": 17,
   "metadata": {},
   "outputs": [
    {
     "data": {
      "text/plain": [
       "280386.39149999997"
      ]
     },
     "execution_count": 17,
     "metadata": {},
     "output_type": "execute_result"
    }
   ],
   "source": [
    "biden_35 = (with_predicted_pct.get('predicted_biden_pct') * with_predicted_pct.get('Ballots Remaining')).sum()\n",
    "biden_35"
   ]
  },
  {
   "cell_type": "markdown",
   "metadata": {},
   "source": [
    "And Trump?"
   ]
  },
  {
   "cell_type": "code",
   "execution_count": 18,
   "metadata": {},
   "outputs": [
    {
     "data": {
      "text/plain": [
       "59988.60850000001"
      ]
     },
     "execution_count": 18,
     "metadata": {},
     "output_type": "execute_result"
    }
   ],
   "source": [
    "trump_35 = ((1 - with_predicted_pct.get('predicted_biden_pct')) * with_predicted_pct.get('Ballots Remaining')).sum()\n",
    "trump_35"
   ]
  },
  {
   "cell_type": "markdown",
   "metadata": {},
   "source": [
    "This means that Biden picks up this many more votes than Trump:"
   ]
  },
  {
   "cell_type": "code",
   "execution_count": 19,
   "metadata": {},
   "outputs": [
    {
     "data": {
      "text/plain": [
       "220397.78299999997"
      ]
     },
     "execution_count": 19,
     "metadata": {},
     "output_type": "execute_result"
    }
   ],
   "source": [
    "biden_35 - trump_35"
   ]
  },
  {
   "cell_type": "markdown",
   "metadata": {},
   "source": [
    "And therefore wins PA by:"
   ]
  },
  {
   "cell_type": "code",
   "execution_count": 20,
   "metadata": {},
   "outputs": [
    {
     "data": {
      "text/plain": [
       "112030.78299999997"
      ]
     },
     "execution_count": 20,
     "metadata": {},
     "output_type": "execute_result"
    }
   ],
   "source": [
    "(biden_35 - trump_35) - CURRENT_GAP"
   ]
  },
  {
   "cell_type": "markdown",
   "metadata": {},
   "source": [
    "## Is this realistic?"
   ]
  },
  {
   "cell_type": "markdown",
   "metadata": {},
   "source": [
    "Our boost to Biden in blue counties might be too nice, as it says that he might win >90% of ballots. Let's put a cap of 85% on the percentage of ballots won by Biden in any county."
   ]
  },
  {
   "cell_type": "code",
   "execution_count": 21,
   "metadata": {},
   "outputs": [],
   "source": [
    "def predicted_biden(p, alpha):\n",
    "    \"\"\"Boost Biden by alpha% in red counties, but cap percentage at .85\"\"\"\n",
    "    return np.minimum(predicted_percent_biden(p, alpha), .85)"
   ]
  },
  {
   "cell_type": "markdown",
   "metadata": {},
   "source": [
    "Is 35% a reasonable boost? The data suggests it is, but let's be conservative and try 20%. In fact, let's turn the analysis into a function so we can test several boosts:"
   ]
  },
  {
   "cell_type": "code",
   "execution_count": 22,
   "metadata": {},
   "outputs": [],
   "source": [
    "def predict_pennsylvania(baseline_boost):\n",
    "    \n",
    "    def mail_in_boost(p):\n",
    "        return predicted_biden(p, baseline_boost)\n",
    "    \n",
    "    with_predicted_pct = with_in_person_pct.assign(\n",
    "        predicted_biden_pct=with_in_person_pct.get('in_person_biden').apply(mail_in_boost)\n",
    "    )\n",
    "    \n",
    "    biden_gain = (with_predicted_pct.get('predicted_biden_pct') * with_predicted_pct.get('Ballots Remaining')).sum()\n",
    "    trump_gain = ((1 - with_predicted_pct.get('predicted_biden_pct')) * with_predicted_pct.get('Ballots Remaining')).sum()\n",
    "    \n",
    "    return biden_gain, trump_gain"
   ]
  },
  {
   "cell_type": "code",
   "execution_count": 26,
   "metadata": {},
   "outputs": [
    {
     "name": "stdout",
     "output_type": "stream",
     "text": [
      "Assuming Biden does 35.0% better on mail-in as compared to in-person in red counties.\n",
      "And assuming that Biden's mail-in boost is less as the county gets bluer.\n",
      "And assuming that Biden earns no more than 85% of mail-in votes in any county.\n",
      "Biden is projected to win PA by 91851 votes.\n"
     ]
    }
   ],
   "source": [
    "# change this to whatever you'd like\n",
    "# the race gets really close at baseline_boost = .15\n",
    "baseline_boost = 0.35\n",
    "\n",
    "biden_gain, trump_gain = predict_pennsylvania(baseline_boost)\n",
    "difference = biden_gain - trump_gain\n",
    "outcome = difference - CURRENT_GAP\n",
    "\n",
    "print(f\"Assuming Biden does {baseline_boost * 100}% better on mail-in as compared to in-person in red counties.\")\n",
    "print(f\"And assuming that Biden's mail-in boost is less as the county gets bluer.\")\n",
    "print(f'And assuming that Biden earns no more than 85% of mail-in votes in any county.')\n",
    "print(f'Biden is projected to {\"win\" if outcome > 0 else \"lose\"} PA by {int(outcome)} votes.')"
   ]
  },
  {
   "cell_type": "markdown",
   "metadata": {},
   "source": [
    "## Conclusion\n",
    "\n",
    "Biden is projected to win PA by around 80,000 - 120,000 votes in most plausible scenarios. However, I'm not Nate Silver. Even if this model is good, it is contingent upon the number of remaining votes in each county being accurate -- and that isn't always the case! Take it with a grain of salt."
   ]
  }
 ],
 "metadata": {
  "kernelspec": {
   "display_name": "Python 3",
   "language": "python",
   "name": "python3"
  },
  "language_info": {
   "codemirror_mode": {
    "name": "ipython",
    "version": 3
   },
   "file_extension": ".py",
   "mimetype": "text/x-python",
   "name": "python",
   "nbconvert_exporter": "python",
   "pygments_lexer": "ipython3",
   "version": "3.7.6"
  }
 },
 "nbformat": 4,
 "nbformat_minor": 4
}
