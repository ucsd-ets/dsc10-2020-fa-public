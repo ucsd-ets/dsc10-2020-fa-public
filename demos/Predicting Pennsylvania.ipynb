{
 "cells": [
  {
   "cell_type": "markdown",
   "metadata": {},
   "source": [
    "# Predicting Pennsylvania with babypandas"
   ]
  },
  {
   "cell_type": "code",
   "execution_count": null,
   "metadata": {},
   "outputs": [],
   "source": [
    "import babypandas as bpd\n",
    "import numpy as np"
   ]
  },
  {
   "cell_type": "markdown",
   "metadata": {},
   "source": [
    "## Who will win?"
   ]
  },
  {
   "cell_type": "markdown",
   "metadata": {},
   "source": [
    "As of Thursday afternoon on November 5, Donald Trump is leading Joe Biden in Pennsylvania by over 100,000 votes, with about 340,000 votes left to count. If these votes were a true random sample from the population of Pennsylvania, Biden would have no real chance of catching up. However, these votes are from *mail-in* ballots, which are known to overwhelmingly break towards Biden. Can he catch Trump, win Pennsylvania, and therefore win the election? Let's see."
   ]
  },
  {
   "cell_type": "code",
   "execution_count": null,
   "metadata": {},
   "outputs": [],
   "source": [
    "# Trump's current lead in PA\n",
    "CURRENT_GAP = 108_367"
   ]
  },
  {
   "cell_type": "markdown",
   "metadata": {},
   "source": [
    "## The plan"
   ]
  },
  {
   "cell_type": "markdown",
   "metadata": {},
   "source": [
    "Here's the idea. Pennsylvania publishes current election data on [data.pa.gov](http://data.pa.gov). In particular, they [publish a data set](https://data.pa.gov/Government-Efficiency-Citizen-Engagement/2020-General-Election-Unofficial-Mail-Ballot-Proce/pg3c-9a9m) of the number of mail-in ballots that remain to be counted on a per-county basis. Let's read it in here:"
   ]
  },
  {
   "cell_type": "code",
   "execution_count": null,
   "metadata": {},
   "outputs": [],
   "source": [
    "remaining_raw = bpd.read_csv('data/2020_General_Election_Unofficial_Mail_Ballot_Processing_Current_Hourly_County_State.csv')\n",
    "remaining_raw"
   ]
  },
  {
   "cell_type": "markdown",
   "metadata": {},
   "source": [
    "Biden does well with main in ballots. Let's do the simplest possible analysis: suppose Biden wins 66% of the mail in ballots. How many *more* votes will he win than Trump?"
   ]
  },
  {
   "cell_type": "code",
   "execution_count": null,
   "metadata": {},
   "outputs": [],
   "source": [
    "simple_for_biden = (remaining_raw.get('Ballots Remaining') * .66).sum()\n",
    "simple_for_trump = (remaining_raw.get('Ballots Remaining') * .33).sum()"
   ]
  },
  {
   "cell_type": "code",
   "execution_count": null,
   "metadata": {},
   "outputs": [],
   "source": [
    "simple_for_biden - simple_for_trump"
   ]
  },
  {
   "cell_type": "markdown",
   "metadata": {},
   "source": [
    "This isn't enough to catch up (the current gap is larger), but it is very close!"
   ]
  },
  {
   "cell_type": "markdown",
   "metadata": {},
   "source": [
    "Now, we know that some of these counties lean toward Trump and some lean towards Biden. If most of the remaining votes are in Biden-leaning counties, he has a better chance of catching up. To start, we can use the [by county](https://www.nytimes.com/interactive/2020/11/03/us/elections/results-pennsylvania.html) results from the New York Times to get a sense of how each county votes:"
   ]
  },
  {
   "cell_type": "code",
   "execution_count": null,
   "metadata": {},
   "outputs": [],
   "source": [
    "nyt_margins_raw = bpd.read_csv('data/nyt_margin.csv').set_index('County')\n",
    "nyt_margins_raw"
   ]
  },
  {
   "cell_type": "markdown",
   "metadata": {},
   "source": [
    "This shows who has won the county with all of the votes counted so far, and the margin of their victory in \"points\". If Trump gets 53% of the vote in a county, and Biden receives 47%, Trump has won by 6%, or 6 points.\n",
    "\n",
    "We could use these percentages to predict how many of the remaining votes will go for Biden, but we'd be undercounting. Why? These percentages are for mostly in-person votes, which favor Trump. Take for instance Crawford County."
   ]
  },
  {
   "cell_type": "code",
   "execution_count": null,
   "metadata": {},
   "outputs": [],
   "source": [
    "nyt_margins_raw.loc['CRAWFORD']"
   ]
  },
  {
   "cell_type": "markdown",
   "metadata": {},
   "source": [
    "Trump won the in-person vote in Crawford by almost 60 points! That means he got 80% of the vote, to Biden's 20%.\n",
    "But Biden won *63%* of the mail-in votes, according to [538](https://fivethirtyeight.com/live-blog/2020-election-results-coverage/). This is a huge difference! This pattern repeats itself all over the state. Biden had 17% of the in-person vote in Tioga county, but 50% of the mail-in vote, for instance.\n",
    "\n",
    "All over, it looks like Biden gets a \"mail-in boost\" of about 30 - 40%. That is to say, we might predict that the percentage of mail-in ballots won by Biden is, say, the in-person percentage won by Biden, plus 35%. This is the basic idea of the approach.\n",
    "\n",
    "Of course, in areas like Philadelphia, Biden was winning a huge amount (75%+) of the in-person vote. Adding 35% to this gives 110%! That's not good. Clearly, there is less room for Biden to improve here, so we'll say that in Biden-leaning counties, Biden will be boosted less -- by maybe 5% to 10%."
   ]
  },
  {
   "cell_type": "markdown",
   "metadata": {},
   "source": [
    "So here's the model: if county was leaning for Trump before mail-in votes are counted, the mail-in ballots will lean towards Biden heavily. Think: Tioga county. We'll make this a parameter, but we'll say about 35%.\n",
    "\n",
    "If a county was leaning towards Biden on election day, the boost he gets from mail-in is less. We'll start at 35% for counties that are 50/50 Biden/Trump, and taper it down linearly to 0% for counties that voted entirely for Biden. Here's a function which does this."
   ]
  },
  {
   "cell_type": "code",
   "execution_count": null,
   "metadata": {},
   "outputs": [],
   "source": [
    "def predicted_percent_biden(in_person_pct, baseline_boost):\n",
    "    \"\"\"baseline_boost is the boost for red counties; something like 35%\"\"\"\n",
    "    if in_person_pct <= .5:\n",
    "        return baseline_boost + in_person_pct\n",
    "    else:\n",
    "        return 2*(1 - in_person_pct)*baseline_boost + in_person_pct"
   ]
  },
  {
   "cell_type": "markdown",
   "metadata": {},
   "source": [
    "Let's test it out. Here is the boost for a county that went 30% Biden in-person:"
   ]
  },
  {
   "cell_type": "code",
   "execution_count": null,
   "metadata": {},
   "outputs": [],
   "source": [
    "predicted_percent_biden(.30, .35)"
   ]
  },
  {
   "cell_type": "markdown",
   "metadata": {},
   "source": [
    "This says that the mail-in vote would be roughly 65% Biden."
   ]
  },
  {
   "cell_type": "markdown",
   "metadata": {},
   "source": [
    "Here's the boost for a county that went 75% Biden:"
   ]
  },
  {
   "cell_type": "code",
   "execution_count": null,
   "metadata": {},
   "outputs": [],
   "source": [
    "predicted_percent_biden(.75, .35)"
   ]
  },
  {
   "cell_type": "markdown",
   "metadata": {},
   "source": [
    "This says that the mail-in vote for Biden would be >90%. Is this too high? We can come back to this later, but it isn't too far from what has been observed (>80%)."
   ]
  },
  {
   "cell_type": "markdown",
   "metadata": {},
   "source": [
    "## Data cleaning"
   ]
  },
  {
   "cell_type": "markdown",
   "metadata": {},
   "source": [
    "We're going to need to join our two data sets, so let's make sure that both tables have their county names in all capital letters and get rid of any extra stuff."
   ]
  },
  {
   "cell_type": "code",
   "execution_count": null,
   "metadata": {
    "scrolled": true
   },
   "outputs": [],
   "source": [
    "nyt_margins = (\n",
    "    nyt_margins_raw\n",
    "    .assign(UpperCounty=nyt_margins_raw.index.str.upper())\n",
    "    .reset_index()\n",
    "    .get(['UpperCounty', 'Point Margin', 'Winner'])\n",
    "    .set_index('UpperCounty')\n",
    ")\n",
    "nyt_margins"
   ]
  },
  {
   "cell_type": "code",
   "execution_count": null,
   "metadata": {
    "scrolled": true
   },
   "outputs": [],
   "source": [
    "remaining = remaining_raw.set_index('County').get(['Ballots Remaining'])\n",
    "remaining"
   ]
  },
  {
   "cell_type": "markdown",
   "metadata": {},
   "source": [
    "Now we'll merge:"
   ]
  },
  {
   "cell_type": "code",
   "execution_count": null,
   "metadata": {},
   "outputs": [],
   "source": [
    "merged = remaining.merge(nyt_margins, left_index=True, right_index=True)\n",
    "merged"
   ]
  },
  {
   "cell_type": "markdown",
   "metadata": {},
   "source": [
    "\n",
    "\n",
    "Let's add a column to the table which contains the percentage of the votes earned by Biden. We'll start by making the point margin negative if Trump won the county, and positive if Biden won."
   ]
  },
  {
   "cell_type": "code",
   "execution_count": null,
   "metadata": {},
   "outputs": [],
   "source": [
    "def margin_sign(s):\n",
    "    if s == 'Trump':\n",
    "        return -1\n",
    "    else:\n",
    "        return 1\n",
    "\n",
    "with_signed_margins = merged.assign(\n",
    "    signed_margin=merged.get('Point Margin') * merged.get('Winner').apply(margin_sign)\n",
    ")\n",
    "with_signed_margins"
   ]
  },
  {
   "cell_type": "markdown",
   "metadata": {},
   "source": [
    "Now let's convert the points to percentage:"
   ]
  },
  {
   "cell_type": "code",
   "execution_count": null,
   "metadata": {},
   "outputs": [],
   "source": [
    "with_in_person_pct = with_signed_margins.assign(\n",
    "    in_person_biden=(with_signed_margins.get('signed_margin') / 2 + 50) / 100\n",
    ")\n",
    "with_in_person_pct"
   ]
  },
  {
   "cell_type": "markdown",
   "metadata": {},
   "source": [
    "Now let's get our predicted percent for mail-in for Biden, using a 35% mail-in boost for Biden in red counties, tapering to 0% for fully-blue counties."
   ]
  },
  {
   "cell_type": "code",
   "execution_count": null,
   "metadata": {},
   "outputs": [],
   "source": [
    "def predicted_biden_35(p):\n",
    "    \"\"\"Boost Biden by 35% in red counties\"\"\"\n",
    "    return predicted_percent_biden(p, .35)\n",
    "    \n",
    "\n",
    "with_predicted_pct = with_in_person_pct.assign(\n",
    "    predicted_biden_pct=with_in_person_pct.get('in_person_biden').apply(predicted_biden_35)\n",
    ")\n",
    "with_predicted_pct"
   ]
  },
  {
   "cell_type": "markdown",
   "metadata": {},
   "source": [
    "## Results"
   ]
  },
  {
   "cell_type": "markdown",
   "metadata": {},
   "source": [
    "Alright, now for the results. How many votes will Biden pick up from mail-in votes under our model?"
   ]
  },
  {
   "cell_type": "code",
   "execution_count": null,
   "metadata": {},
   "outputs": [],
   "source": [
    "biden_35 = (with_predicted_pct.get('predicted_biden_pct') * with_predicted_pct.get('Ballots Remaining')).sum()\n",
    "biden_35"
   ]
  },
  {
   "cell_type": "markdown",
   "metadata": {},
   "source": [
    "And Trump?"
   ]
  },
  {
   "cell_type": "code",
   "execution_count": null,
   "metadata": {},
   "outputs": [],
   "source": [
    "trump_35 = ((1 - with_predicted_pct.get('predicted_biden_pct')) * with_predicted_pct.get('Ballots Remaining')).sum()\n",
    "trump_35"
   ]
  },
  {
   "cell_type": "markdown",
   "metadata": {},
   "source": [
    "This means that Biden picks up this many more votes than Trump:"
   ]
  },
  {
   "cell_type": "code",
   "execution_count": null,
   "metadata": {},
   "outputs": [],
   "source": [
    "biden_35 - trump_35"
   ]
  },
  {
   "cell_type": "markdown",
   "metadata": {},
   "source": [
    "And therefore wins PA by:"
   ]
  },
  {
   "cell_type": "code",
   "execution_count": null,
   "metadata": {},
   "outputs": [],
   "source": [
    "(biden_35 - trump_35) - CURRENT_GAP"
   ]
  },
  {
   "cell_type": "markdown",
   "metadata": {},
   "source": [
    "## Is this realistic?"
   ]
  },
  {
   "cell_type": "markdown",
   "metadata": {},
   "source": [
    "Our boost to Biden in blue counties might be too nice, as it says that he might win >90% of ballots. Let's put a cap of 85% on the percentage of ballots won by Biden in any county."
   ]
  },
  {
   "cell_type": "code",
   "execution_count": null,
   "metadata": {},
   "outputs": [],
   "source": [
    "def predicted_biden(p, alpha):\n",
    "    \"\"\"Boost Biden by alpha% in red counties, but cap percentage at .85\"\"\"\n",
    "    return np.minimum(predicted_percent_biden(p, alpha), .85)"
   ]
  },
  {
   "cell_type": "markdown",
   "metadata": {},
   "source": [
    "Is 35% a reasonable boost? The data suggests it is, but let's be conservative and try 20%. In fact, let's turn the analysis into a function so we can test several boosts:"
   ]
  },
  {
   "cell_type": "code",
   "execution_count": null,
   "metadata": {},
   "outputs": [],
   "source": [
    "def predict_pennsylvania(baseline_boost):\n",
    "    \n",
    "    def mail_in_boost(p):\n",
    "        return predicted_biden(p, baseline_boost)\n",
    "    \n",
    "    with_predicted_pct = with_in_person_pct.assign(\n",
    "        predicted_biden_pct=with_in_person_pct.get('in_person_biden').apply(mail_in_boost)\n",
    "    )\n",
    "    \n",
    "    biden_gain = (with_predicted_pct.get('predicted_biden_pct') * with_predicted_pct.get('Ballots Remaining')).sum()\n",
    "    trump_gain = ((1 - with_predicted_pct.get('predicted_biden_pct')) * with_predicted_pct.get('Ballots Remaining')).sum()\n",
    "    \n",
    "    return biden_gain, trump_gain"
   ]
  },
  {
   "cell_type": "code",
   "execution_count": null,
   "metadata": {},
   "outputs": [],
   "source": [
    "# change this to whatever you'd like\n",
    "# the race gets really close at baseline_boost = .15\n",
    "baseline_boost = 0.35\n",
    "\n",
    "biden_gain, trump_gain = predict_pennsylvania(baseline_boost)\n",
    "difference = biden_gain - trump_gain\n",
    "outcome = difference - CURRENT_GAP\n",
    "\n",
    "print(f\"Assuming Biden does {baseline_boost * 100}% better on mail-in as compared to in-person in red counties.\")\n",
    "print(f\"And assuming that Biden's mail-in boost is less as the county gets bluer.\")\n",
    "print(f'And assuming that Biden earns no more than 85% of mail-in votes in any county.')\n",
    "print(f'Biden is projected to {\"win\" if outcome > 0 else \"lose\"} PA by {int(outcome)} votes.')"
   ]
  },
  {
   "cell_type": "markdown",
   "metadata": {},
   "source": [
    "The mail in boost stays flat up until a county is 50/50, then decreases. Alternatively, it might be more realistically to start with a boost of around 40% for a totally-red county, then decrease it linearly until the county is totally blue. Here's what we get with this model:"
   ]
  },
  {
   "cell_type": "code",
   "execution_count": null,
   "metadata": {},
   "outputs": [],
   "source": [
    "def predict_pennsylvania_linear(baseline_boost):\n",
    "    \n",
    "    def mail_in_boost(p):\n",
    "        return np.minimum(baseline_boost * (1 - p) + p, .85)\n",
    "    \n",
    "    with_predicted_pct = with_in_person_pct.assign(\n",
    "        predicted_biden_pct=with_in_person_pct.get('in_person_biden').apply(mail_in_boost)\n",
    "    )\n",
    "    \n",
    "    biden_gain = (with_predicted_pct.get('predicted_biden_pct') * with_predicted_pct.get('Ballots Remaining')).sum()\n",
    "    trump_gain = ((1 - with_predicted_pct.get('predicted_biden_pct')) * with_predicted_pct.get('Ballots Remaining')).sum()\n",
    "    \n",
    "    return biden_gain, trump_gain"
   ]
  },
  {
   "cell_type": "code",
   "execution_count": null,
   "metadata": {},
   "outputs": [],
   "source": [
    "# change this to whatever you'd like\n",
    "# the race gets really close at baseline_boost = .15\n",
    "baseline_boost = 0.4\n",
    "\n",
    "biden_gain, trump_gain = predict_pennsylvania_linear(baseline_boost)\n",
    "difference = biden_gain - trump_gain\n",
    "outcome = difference - CURRENT_GAP\n",
    "\n",
    "print(f\"Assuming Biden does {baseline_boost * 100}% better on mail-in as compared to in-person in red counties.\")\n",
    "print(f\"And assuming that Biden's mail-in boost is less as the county gets bluer.\")\n",
    "print(f'And assuming that Biden earns no more than 85% of mail-in votes in any county.')\n",
    "print(f'Biden is projected to {\"win\" if outcome > 0 else \"lose\"} PA by {int(outcome)} votes.')"
   ]
  },
  {
   "cell_type": "markdown",
   "metadata": {},
   "source": [
    "## Conclusion\n",
    "\n",
    "Biden is projected to win PA by around 40,000 - 120,000 votes in most plausible scenarios. However, I'm not Nate Silver. Even if this model is good, it is contingent upon the number of remaining votes in each county being accurate -- and that isn't always the case! Take it with a grain of salt."
   ]
  }
 ],
 "metadata": {
  "kernelspec": {
   "display_name": "Python 3",
   "language": "python",
   "name": "python3"
  },
  "language_info": {
   "codemirror_mode": {
    "name": "ipython",
    "version": 3
   },
   "file_extension": ".py",
   "mimetype": "text/x-python",
   "name": "python",
   "nbconvert_exporter": "python",
   "pygments_lexer": "ipython3",
   "version": "3.7.6"
  }
 },
 "nbformat": 4,
 "nbformat_minor": 4
}
