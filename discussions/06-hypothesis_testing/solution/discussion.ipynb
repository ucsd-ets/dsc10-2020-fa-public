{
 "cells": [
  {
   "cell_type": "markdown",
   "metadata": {
    "slideshow": {
     "slide_type": "slide"
    }
   },
   "source": [
    "# DSC 10 Discussion Week 6\n",
    "---\n",
    "\n",
    "Welcome to Discussion 6!\n",
    "\n",
    "**IMPORTANT** \n",
    "- **MIDTERM** on November 10th \n",
    "- I will not be able to answer any midterm-related content questions until everyone has taken the exam\n",
    "\n",
    "<img src=\"data/panda_smile.jpg\" width=\"500\">"
   ]
  },
  {
   "cell_type": "markdown",
   "metadata": {},
   "source": [
    "## $\\underline{Lecture\\ 10 : Models\\ and\\ Statistics}$\n",
    "\n",
    "### Model\n",
    "- a set of assumptions about data\n",
    "- assessing the quality of models $\\rightarrow$ statistical inference!\n",
    "\n",
    "### Terminology\n",
    "- **Parameter** : a number associated with the *population* $\\rightarrow$ rarely known exactly\n",
    "- **Statistic** : a number calculated from the *sample* $\\rightarrow$ estimate of a parameter\n",
    "\n",
    "### Bias-Variance trade-off\n",
    "- **Bias** : systematic error in one direction (too high or too low) $\\rightarrow$ good estimates have *LOW bias*\n",
    "- **Variance** : degree to which the value of an estimate varies $\\rightarrow$ good estimates have *LOW variance*\n",
    "\n",
    "### Simulation\n",
    "- **Single experiment** : ```np.random.multinomial(sample_size, pop_distribution)```\n",
    "- **A bunch of experiments** : iteration!\n",
    "- **Visualize** : plot! $\\rightarrow$ often *histogram* to show distribution\n",
    "\n",
    "## $\\underline{Lecture\\ 11 : Hypothesis\\ Testing}$\n",
    "\n",
    "### Two Viewpoints\n",
    "- **Null Hypothesis** : default view $\\rightarrow$ must be simulatable\n",
    "- **Alternate Hypothesis** : opposite of Null Hypothesis \n",
    "\n",
    "### Computing statistics under Null Hypothesis\n",
    "- Choose a relevant *test statistic*\n",
    "    - counts, ratios, differences, absolute differences, etc. depending on problem\n",
    "    - **Total Variation Difference** : difference between two distributions  \n",
    "    - be careful with use of ```abs()```!\n",
    "- Track experiment outcomes and compute the **empirical distribution of the statistic under the null hypothesis**\n",
    "\n",
    "### Drawing conclusions\n",
    "- Compare the following : \n",
    "    - **observed test statistic** (red dot/line from class) \n",
    "    - **empirical distribution under the null hypothesis** (histograms from experiments)\n",
    "- Determine if observed value is consistent\n",
    "    - by visualization or some other conventional quantitative measure\n",
    "    - **p-value** : probability that a result *at least* as extreme as the observation holds under the null hypothesis\n",
    "        - common cutoff is 5% for statistical significance\n",
    "\n",
    "#### Extra\n",
    "- You can find additional help on these topics in the course [textbook](https://eldridgejm.github.io/dive_into_data_science/front.html).\n",
    "- [Here](https://ucsd-ets.github.io/dsc10-2020-fa/published/default/reference/babypandas-reference.pdf) is a pointer to that reference sheet we saw last time."
   ]
  },
  {
   "cell_type": "code",
   "execution_count": 1,
   "metadata": {},
   "outputs": [],
   "source": [
    "import babypandas as bpd\n",
    "import numpy as np\n",
    "import matplotlib.pyplot as plt\n",
    "%matplotlib inline"
   ]
  },
  {
   "cell_type": "markdown",
   "metadata": {
    "slideshow": {
     "slide_type": "slide"
    }
   },
   "source": [
    "# Example 1: Fighting Professors"
   ]
  },
  {
   "cell_type": "markdown",
   "metadata": {
    "slideshow": {
     "slide_type": "slide"
    }
   },
   "source": [
    "Two professors are fighting about who is a better teacher. To settle the matter, they decide to give each of their classes the same exam. Whoever's class performs better will be considered the best teacher."
   ]
  },
  {
   "cell_type": "markdown",
   "metadata": {
    "slideshow": {
     "slide_type": "slide"
    }
   },
   "source": [
    "## The Data"
   ]
  },
  {
   "cell_type": "code",
   "execution_count": 2,
   "metadata": {},
   "outputs": [
    {
     "data": {
      "text/html": [
       "<div>\n",
       "<style scoped>\n",
       "    .dataframe tbody tr th:only-of-type {\n",
       "        vertical-align: middle;\n",
       "    }\n",
       "\n",
       "    .dataframe tbody tr th {\n",
       "        vertical-align: top;\n",
       "    }\n",
       "\n",
       "    .dataframe thead th {\n",
       "        text-align: right;\n",
       "    }\n",
       "</style>\n",
       "<table border=\"1\" class=\"dataframe\">\n",
       "  <thead>\n",
       "    <tr style=\"text-align: right;\">\n",
       "      <th></th>\n",
       "      <th>prof</th>\n",
       "      <th>score</th>\n",
       "    </tr>\n",
       "  </thead>\n",
       "  <tbody>\n",
       "    <tr>\n",
       "      <th>0</th>\n",
       "      <td>A</td>\n",
       "      <td>87.133940</td>\n",
       "    </tr>\n",
       "    <tr>\n",
       "      <th>1</th>\n",
       "      <td>A</td>\n",
       "      <td>67.265656</td>\n",
       "    </tr>\n",
       "    <tr>\n",
       "      <th>2</th>\n",
       "      <td>A</td>\n",
       "      <td>62.050823</td>\n",
       "    </tr>\n",
       "    <tr>\n",
       "      <th>3</th>\n",
       "      <td>A</td>\n",
       "      <td>81.964750</td>\n",
       "    </tr>\n",
       "    <tr>\n",
       "      <th>4</th>\n",
       "      <td>A</td>\n",
       "      <td>91.909607</td>\n",
       "    </tr>\n",
       "    <tr>\n",
       "      <th>...</th>\n",
       "      <td>...</td>\n",
       "      <td>...</td>\n",
       "    </tr>\n",
       "    <tr>\n",
       "      <th>121</th>\n",
       "      <td>B</td>\n",
       "      <td>79.515321</td>\n",
       "    </tr>\n",
       "    <tr>\n",
       "      <th>122</th>\n",
       "      <td>B</td>\n",
       "      <td>72.241259</td>\n",
       "    </tr>\n",
       "    <tr>\n",
       "      <th>123</th>\n",
       "      <td>B</td>\n",
       "      <td>76.123686</td>\n",
       "    </tr>\n",
       "    <tr>\n",
       "      <th>124</th>\n",
       "      <td>B</td>\n",
       "      <td>69.966714</td>\n",
       "    </tr>\n",
       "    <tr>\n",
       "      <th>125</th>\n",
       "      <td>B</td>\n",
       "      <td>79.262894</td>\n",
       "    </tr>\n",
       "  </tbody>\n",
       "</table>\n",
       "<p>126 rows × 2 columns</p>\n",
       "</div>"
      ],
      "text/plain": [
       "    prof      score\n",
       "0      A  87.133940\n",
       "1      A  67.265656\n",
       "2      A  62.050823\n",
       "3      A  81.964750\n",
       "4      A  91.909607\n",
       "..   ...        ...\n",
       "121    B  79.515321\n",
       "122    B  72.241259\n",
       "123    B  76.123686\n",
       "124    B  69.966714\n",
       "125    B  79.262894\n",
       "\n",
       "[126 rows x 2 columns]"
      ]
     },
     "execution_count": 2,
     "metadata": {},
     "output_type": "execute_result"
    }
   ],
   "source": [
    "scores = bpd.read_csv('data/scores.csv')\n",
    "scores"
   ]
  },
  {
   "cell_type": "markdown",
   "metadata": {
    "slideshow": {
     "slide_type": "slide"
    }
   },
   "source": [
    "## Exploration"
   ]
  },
  {
   "cell_type": "markdown",
   "metadata": {
    "deletable": false,
    "editable": false
   },
   "source": [
    "<!-- BEGIN QUESTION -->\n",
    "\n",
    "Which professor (A or B) appears to have \"won\"?\n",
    "\n",
    "<!--\n",
    "BEGIN QUESTION\n",
    "name: q10\n",
    "manual: true\n",
    "-->"
   ]
  },
  {
   "cell_type": "code",
   "execution_count": 17,
   "metadata": {},
   "outputs": [],
   "source": [
    "scores.groupby('prof').mean() # SOLUTION NO PROMPT\n",
    "won_prof = 'A' # SOLUTION"
   ]
  },
  {
   "cell_type": "code",
   "execution_count": null,
   "metadata": {
    "deletable": false,
    "editable": false
   },
   "outputs": [],
   "source": [
    "grader.check(\"q10\")"
   ]
  },
  {
   "cell_type": "markdown",
   "metadata": {
    "slideshow": {
     "slide_type": "slide"
    }
   },
   "source": [
    "<!-- END QUESTION -->\n",
    "\n",
    "\n",
    "\n",
    "## Question 1"
   ]
  },
  {
   "cell_type": "markdown",
   "metadata": {},
   "source": [
    "The winning professor claims that they are significantly better than the other professor -- and it isn't just due to random chance. What technique can we use to evaluate their claim?\n",
    "\n",
    "**Answer**:"
   ]
  },
  {
   "cell_type": "markdown",
   "metadata": {
    "deletable": false,
    "editable": false
   },
   "source": [
    "<!-- BEGIN QUESTION -->\n",
    "\n",
    "<!--\n",
    "BEGIN QUESTION\n",
    "name: q11\n",
    "manual: true\n",
    "-->"
   ]
  },
  {
   "cell_type": "markdown",
   "metadata": {},
   "source": [
    "_Type your answer here, replacing this text._"
   ]
  },
  {
   "cell_type": "markdown",
   "metadata": {},
   "source": [
    "**Solution**:\n",
    "\n",
    "Hypothesis testing"
   ]
  },
  {
   "cell_type": "markdown",
   "metadata": {
    "slideshow": {
     "slide_type": "slide"
    }
   },
   "source": [
    "<!-- END QUESTION -->\n",
    "\n",
    "\n",
    "\n",
    "## Question 2"
   ]
  },
  {
   "cell_type": "markdown",
   "metadata": {},
   "source": [
    "What are the null and alternative hypotheses?\n",
    "\n",
    "- **Null**:\n",
    "- **Alternative**:"
   ]
  },
  {
   "cell_type": "markdown",
   "metadata": {
    "deletable": false,
    "editable": false
   },
   "source": [
    "<!-- BEGIN QUESTION -->\n",
    "\n",
    "<!--\n",
    "BEGIN QUESTION\n",
    "name: q12\n",
    "manual: true\n",
    "-->"
   ]
  },
  {
   "cell_type": "markdown",
   "metadata": {},
   "source": [
    "_Type your answer here, replacing this text._"
   ]
  },
  {
   "cell_type": "markdown",
   "metadata": {},
   "source": [
    "**Solution**:\n",
    "\n",
    "Null hypothesis: In the population, the distribution of scores of students under professor A is the same for students under professor B. The difference in the sample is due to chance.\n",
    "\n",
    "Alternative hypothesis: In the population, the distribution of scores of students under professor A have higher scores, on average, than the students under professor B"
   ]
  },
  {
   "cell_type": "markdown",
   "metadata": {
    "slideshow": {
     "slide_type": "slide"
    }
   },
   "source": [
    "<!-- END QUESTION -->\n",
    "\n",
    "\n",
    "\n",
    "## Question 3\n",
    "\n",
    "What test statistic can we use? Remember: it is usually better for *large* values of the test statistic to point towards the alternative hypothesis.\n",
    "\n",
    "**Answer**:"
   ]
  },
  {
   "cell_type": "markdown",
   "metadata": {
    "deletable": false,
    "editable": false
   },
   "source": [
    "<!-- BEGIN QUESTION -->\n",
    "\n",
    "<!--\n",
    "BEGIN QUESTION\n",
    "name: q13\n",
    "manual: true\n",
    "-->"
   ]
  },
  {
   "cell_type": "markdown",
   "metadata": {},
   "source": [
    "_Type your answer here, replacing this text._"
   ]
  },
  {
   "cell_type": "markdown",
   "metadata": {},
   "source": [
    "**Solution**:\n",
    "\n",
    "Difference in Means between student scores under professor A and professor B. The higher the difference the more the statistic leans towards professor A i.e the alternative hypothesis"
   ]
  },
  {
   "cell_type": "markdown",
   "metadata": {},
   "source": [
    "<!-- END QUESTION -->\n",
    "\n",
    "\n",
    "\n",
    "## Question 4\n",
    "\n",
    "What was the *observed value* of your test statistic?"
   ]
  },
  {
   "cell_type": "code",
   "execution_count": 5,
   "metadata": {},
   "outputs": [
    {
     "data": {
      "text/plain": [
       "4.7411054460319235"
      ]
     },
     "execution_count": 5,
     "metadata": {},
     "output_type": "execute_result"
    }
   ],
   "source": [
    "obs = scores.groupby('prof').mean().get('score').loc['A'] - scores.groupby('prof').mean().get('score').loc['B'] # SOLUTION\n",
    "obs"
   ]
  },
  {
   "cell_type": "code",
   "execution_count": null,
   "metadata": {
    "deletable": false,
    "editable": false
   },
   "outputs": [],
   "source": [
    "grader.check(\"q14\")"
   ]
  },
  {
   "cell_type": "markdown",
   "metadata": {
    "slideshow": {
     "slide_type": "slide"
    }
   },
   "source": [
    "## Question 5\n",
    "\n",
    "Implement your chosen technique to test whether the null hypothesis should be rejected."
   ]
  },
  {
   "cell_type": "code",
   "execution_count": 7,
   "metadata": {},
   "outputs": [
    {
     "data": {
      "text/plain": [
       "array([-8.03926446e-01,  8.97716941e-01,  3.22565010e+00,  2.36161957e+00,\n",
       "        3.95190648e-01, -2.62548026e-01,  1.58764686e+00,  3.24102629e+00,\n",
       "       -5.58152612e-01,  1.28746188e+00, -2.04997617e+00, -2.52243166e+00,\n",
       "        3.68243414e+00, -2.34986667e+00,  3.34508544e-01,  2.30471600e-01,\n",
       "        1.69733717e+00,  1.41808526e+00, -8.32158317e-01, -1.21975316e+00,\n",
       "        1.26563438e+00,  2.01503269e+00,  6.57817378e-01,  1.10095518e+00,\n",
       "       -3.61009359e-01,  3.36875483e-01, -9.91085335e-01,  2.05952645e+00,\n",
       "        5.64684740e-01,  1.47361849e+00,  3.54957639e+00,  2.69705909e+00,\n",
       "       -2.36416253e+00, -2.99829660e+00,  2.83669144e-01,  1.04211749e+00,\n",
       "       -1.20987863e+00,  2.26751194e+00,  5.01290382e-01,  9.65896134e-01,\n",
       "       -3.17607100e-01, -2.43772241e-01,  1.24400880e+00, -1.05497140e+00,\n",
       "       -5.25774316e+00, -8.45420040e-01, -1.12782432e+00,  3.66905715e-01,\n",
       "       -1.56270158e+00,  2.93657808e-01, -8.89914095e-01, -1.48170774e+00,\n",
       "       -1.37602141e+00, -1.90753897e+00, -1.00166708e+00,  8.32563682e-01,\n",
       "        3.06977552e-01, -1.17876178e+00,  8.40042485e-01, -1.24200867e+00,\n",
       "        2.23157603e+00, -6.92406083e-01,  2.66270338e+00, -4.58753921e-01,\n",
       "       -1.69145332e+00, -7.88210618e-01,  1.87943554e+00,  5.28253914e-01,\n",
       "       -1.75756050e+00, -2.20981506e+00, -1.84328786e+00,  3.10262829e-01,\n",
       "       -3.43961917e-01,  4.68984457e-01, -1.41281821e+00,  6.62913136e-01,\n",
       "        3.00580970e+00,  1.66557797e+00, -5.63576923e-01,  2.35054169e-01,\n",
       "        1.99624452e-01, -2.16153381e+00, -1.35299010e+00,  1.66251682e-02,\n",
       "        1.83819575e+00, -6.59819253e-01, -2.25739111e+00,  1.40108670e+00,\n",
       "        1.27287371e-01, -1.77901300e+00,  1.18829544e+00, -9.54727686e-01,\n",
       "        3.61333191e-01,  4.41099630e-01,  1.04233774e+00, -9.63155842e-02,\n",
       "       -1.70600153e-01,  5.12467931e-01,  2.34075239e+00, -5.09808499e-01,\n",
       "        2.21487621e+00,  1.05556920e+00,  3.71765279e+00, -1.61994092e+00,\n",
       "       -1.38447608e+00,  3.55069670e+00, -1.77874039e+00,  1.71000635e+00,\n",
       "       -4.39557589e+00,  5.16305397e-01,  4.62481880e-01, -9.28724088e-01,\n",
       "       -1.89025247e+00,  1.94831402e+00, -6.12103600e-01, -1.40604454e+00,\n",
       "        1.51306521e+00,  2.10349978e+00, -2.01463983e+00, -1.72362713e+00,\n",
       "        4.17651414e-01, -2.79998189e+00, -5.07067147e-02,  3.32683085e-01,\n",
       "        1.61932171e+00, -1.76704320e+00,  1.27618823e+00,  8.08904823e-01,\n",
       "        9.71597994e-01, -1.79749071e+00,  3.02294055e-01, -3.04866169e+00,\n",
       "        4.77691108e-01, -5.66197378e-01, -8.33164175e-01, -9.67027696e-01,\n",
       "       -2.19172065e+00, -1.09891780e+00, -8.42652806e-01, -5.78153314e-01,\n",
       "        9.80315590e-01,  1.05571228e+00,  1.30832599e+00,  2.52738563e-02,\n",
       "        1.51162805e+00,  1.03990781e+00, -6.14287118e-01, -3.20616822e+00,\n",
       "        1.48310591e+00, -1.18568932e+00, -1.94382377e+00,  7.30461434e-01,\n",
       "        1.69118757e+00,  1.77273965e+00, -4.19209012e-01,  5.96351955e-01,\n",
       "        1.64892589e+00,  1.41214782e+00, -2.54901868e+00,  6.62693970e-02,\n",
       "        2.32462680e+00,  2.36277391e+00, -1.90475227e-01, -8.31805971e-01,\n",
       "       -2.05960937e+00, -1.72874672e+00,  1.91639921e+00,  2.76815592e-01,\n",
       "        1.91355900e+00,  8.91238400e-01, -6.78657223e-01,  2.01016034e+00,\n",
       "        1.38213056e+00, -3.25874775e-01, -8.29933578e-04, -7.00017341e-01,\n",
       "       -1.22683592e+00,  1.99536829e+00, -8.44214564e-01,  1.81140888e+00,\n",
       "        2.69859945e+00,  5.26333601e-01,  1.44843892e+00,  3.94882659e+00,\n",
       "        1.33882683e+00, -1.86446868e+00, -5.71424946e-01, -2.23828915e+00,\n",
       "        6.54195292e-01, -1.85130321e+00, -7.35358144e-01,  1.23381079e+00,\n",
       "        3.64495499e+00,  2.04396864e+00, -2.22664253e+00,  1.58826796e+00,\n",
       "       -9.57424178e-01,  4.21058406e-01, -2.38690061e+00, -1.38443466e+00,\n",
       "       -1.99253323e+00, -1.50594080e+00,  3.39553543e+00, -9.91411659e-01,\n",
       "       -5.07744581e-01, -2.72348547e+00,  2.47893303e-01, -3.69635032e-01,\n",
       "        1.87527584e+00, -1.08435785e+00,  1.53176323e+00, -1.46622178e+00,\n",
       "       -3.07714289e+00,  5.50277140e-01, -2.12319667e-01, -2.73466130e+00,\n",
       "        1.56531776e+00,  2.96392054e+00, -5.18909634e-01, -3.65471779e+00,\n",
       "        6.38502806e-01,  2.62077946e+00, -3.64146252e-01, -2.09427499e+00,\n",
       "       -8.07318272e-01, -2.05288158e+00,  1.25783549e+00,  1.32095718e+00,\n",
       "       -3.00898657e+00,  7.61049215e-01, -2.63731613e+00,  8.67309283e-01,\n",
       "        1.03907044e-01, -3.26358346e-01,  1.72777528e+00, -3.30873538e+00,\n",
       "        1.42022864e+00,  8.60798654e-01, -1.43225939e+00, -2.57058733e+00,\n",
       "        1.18707990e-01, -1.46308238e+00,  2.18881563e+00, -1.00533326e+00,\n",
       "       -4.86097352e-01,  5.65989709e-01,  1.70146802e+00, -7.33734383e-01,\n",
       "        2.56846369e+00,  3.23155686e-02,  7.08226783e-01,  2.57499914e+00,\n",
       "       -7.39492696e-01,  7.73408301e-01, -5.57925635e-01,  3.29069441e+00,\n",
       "        7.48169897e-01, -6.10373568e-01, -6.44744361e-01,  3.93091464e-01,\n",
       "       -1.22638719e+00,  3.19635872e-01,  3.77149940e-02, -2.98359109e-01,\n",
       "        1.32604322e+00,  3.47163795e+00, -9.93965624e-01,  1.99123351e-01,\n",
       "        3.29688509e-02, -2.68519708e+00,  1.39750821e+00,  2.18460709e+00,\n",
       "        2.89214588e-01,  2.73129195e+00,  1.17675804e+00,  2.04478549e+00,\n",
       "       -1.49234401e+00,  1.03643356e+00, -1.66672753e+00, -3.04031341e+00,\n",
       "        2.53850736e-01, -2.51406892e+00,  4.37964618e-01, -2.10723034e+00,\n",
       "        8.46968391e-01, -4.17930822e-01, -7.98975644e-01,  2.46987913e+00,\n",
       "        4.62367402e-02,  1.06849204e+00, -1.60939972e+00,  6.45194128e-01,\n",
       "        2.20850716e+00, -2.48150033e+00,  7.26073590e-01,  5.49879045e-01,\n",
       "       -9.43686255e-01,  8.75279647e-01,  5.54126671e-01,  1.74466935e+00,\n",
       "       -4.20142274e-01,  2.63238694e+00, -6.08004285e-01, -7.83129659e-01,\n",
       "        3.51355413e+00, -1.44356289e+00, -5.33319721e-01,  1.62000260e+00,\n",
       "       -5.88286069e-01, -1.08890041e+00, -5.57832898e-02,  2.01376403e+00,\n",
       "       -1.34071602e+00,  5.25170531e-01,  3.73074027e+00,  1.70068327e+00,\n",
       "       -2.14473901e-01, -9.63002652e-01, -5.75146441e-01, -4.08089600e-01,\n",
       "        5.63733347e-01, -2.55151776e-01,  3.03689769e+00,  1.79907667e+00,\n",
       "        3.68644788e+00,  2.48239433e+00,  3.29330173e-02, -2.79711792e-01,\n",
       "       -1.80227306e+00,  4.34164716e+00,  3.51398834e-01,  6.59145555e-01,\n",
       "        1.59776250e-01, -5.79143558e-01,  1.00067231e+00, -8.80587391e-01,\n",
       "        9.47559854e-01,  1.29567066e-01, -3.02064912e+00, -1.79383696e+00,\n",
       "        4.43841183e-01, -1.13141990e-01, -1.54691608e+00,  1.97815421e+00,\n",
       "        4.65518238e-01, -1.23412202e+00,  9.88344952e-01, -1.07293126e-01,\n",
       "       -7.60524292e-01, -1.61149983e+00,  1.73226467e-01,  2.00709248e+00,\n",
       "       -5.51385617e-01, -2.13035480e+00, -2.51739732e+00, -8.15305916e-02,\n",
       "        3.18338717e-01, -4.59363411e-01,  2.08865650e+00,  1.18115992e+00,\n",
       "        2.68702094e+00,  5.54090396e-03,  1.26859161e-01, -3.43685341e+00,\n",
       "       -1.13908298e-01,  1.33593521e+00,  1.45098666e+00,  4.09692001e-01,\n",
       "       -1.73484869e+00, -2.21952871e+00, -1.54382143e+00,  3.60021542e-02,\n",
       "        7.63776572e-01,  5.27103685e-01, -3.04914010e-01, -7.16068935e-01,\n",
       "        1.32110585e+00, -1.87769107e-01,  4.16027345e-01, -1.46989007e+00,\n",
       "        5.26766762e-01, -6.97388032e-01, -7.17458925e-01, -2.27516042e+00,\n",
       "       -7.39442899e-01, -1.32620496e+00,  3.32509745e-02, -1.83024908e-01,\n",
       "        2.32721648e+00, -4.30602551e-01, -2.21144039e+00, -4.63974472e-01,\n",
       "        5.64405237e-01,  4.43292433e-01, -6.62513630e-01, -1.60084223e+00,\n",
       "        2.35379016e+00, -6.72930308e-01,  1.45287750e-01,  1.57913820e+00,\n",
       "        1.34600892e+00, -3.13643234e-01, -1.31601094e+00,  2.21511834e-01,\n",
       "        4.93430424e-01,  3.62918882e+00, -2.08704770e+00,  4.47441257e-01,\n",
       "        4.11204515e-01,  2.63312922e+00,  2.99972852e+00, -5.20644519e-01,\n",
       "        6.15209359e-01,  2.42562035e+00, -5.20369778e-01, -4.92994525e-01,\n",
       "        5.10536281e-01, -2.55660291e+00,  3.00848516e-01,  1.84735533e+00,\n",
       "        1.32229076e+00,  9.10501785e-01,  3.24893879e+00,  1.18762210e+00,\n",
       "       -5.14223563e-01, -3.91125000e-01, -3.83677967e-01,  1.50703167e+00,\n",
       "       -2.77793195e+00,  4.15938358e+00, -7.91399047e-01,  1.50706090e+00,\n",
       "       -5.48830032e-01, -1.48123069e-01,  7.08628509e-01, -9.98012683e-01,\n",
       "       -2.30660124e+00,  5.45204579e-01,  5.43710083e-01,  6.26227612e-01,\n",
       "       -8.80169019e-01,  2.09162239e+00,  7.22073669e-01, -2.14388390e+00,\n",
       "       -1.66746541e+00, -1.43593333e+00,  1.18383802e-01,  4.39764873e+00,\n",
       "        5.06976762e-02, -1.12074979e-01,  2.10227878e+00,  2.57423934e+00,\n",
       "        5.61630321e-01, -5.02160575e-01, -4.57236730e-01, -1.41570480e+00,\n",
       "        2.06939159e+00,  9.20915983e-01,  1.40191193e+00, -4.42126949e-01,\n",
       "       -2.88245234e+00,  7.01229357e-02, -3.23272841e-01,  2.85011514e-03,\n",
       "        6.02644603e-01, -8.24233081e-01,  1.17933411e+00,  2.37341365e+00,\n",
       "        1.67622395e+00,  1.19566371e+00, -9.74899088e-01,  2.28246152e+00,\n",
       "       -1.11933144e-01, -2.84856016e+00,  1.23362737e+00, -2.71485256e+00,\n",
       "        2.23258517e+00, -1.93415406e+00,  5.06278338e-01,  8.84583472e-01,\n",
       "        2.58187903e+00,  2.32841558e+00,  1.54251358e+00, -1.08979237e+00,\n",
       "       -8.26510074e-01,  1.08558612e+00,  2.74307361e+00, -2.86925630e+00,\n",
       "       -2.61829700e+00, -4.55438177e+00,  1.10471716e+00,  1.02363912e+00,\n",
       "       -1.08016603e+00,  1.30187599e+00,  3.37463020e-01, -5.74778167e-01,\n",
       "       -5.72867842e+00,  1.25574871e+00, -2.91865321e-01, -7.50333598e-01,\n",
       "        9.02709907e-02, -3.63785755e+00,  5.39740776e-01,  5.35471714e-01,\n",
       "       -1.87966913e+00,  3.32310311e+00, -2.23669275e+00, -2.86752123e+00,\n",
       "       -2.42302701e+00, -7.20007083e-02,  1.31008700e+00, -1.15267961e-01,\n",
       "       -2.20709807e+00,  6.47364568e-01, -2.61571497e-01,  2.74072093e+00,\n",
       "        1.09090183e+00, -2.36255507e-01, -1.14416443e+00, -5.08571811e-01,\n",
       "       -1.12279127e-01, -7.21381549e-01,  7.06713117e-01,  1.09224453e+00,\n",
       "       -6.30382444e-01,  1.80230401e+00,  1.35767449e+00, -2.77212947e+00,\n",
       "       -4.37370645e-01,  1.80387581e+00, -2.12571395e+00,  3.70818898e-01,\n",
       "        1.73920472e+00, -6.49234868e-01, -1.93392852e+00,  1.03196911e+00,\n",
       "        2.06871730e+00,  2.47282540e+00, -2.07594246e+00,  1.27346882e+00,\n",
       "       -8.84766396e-01, -3.06075489e+00, -1.86359202e+00, -2.54970305e+00,\n",
       "        6.03730445e-01, -2.34087913e+00,  3.61506922e-01,  3.55744572e+00,\n",
       "        2.01051828e+00, -1.88909393e+00,  8.85409831e-01,  1.66277737e+00,\n",
       "        1.34857654e+00,  1.38810523e+00, -2.17680671e-01,  6.19304227e-01,\n",
       "        1.41304388e+00,  1.15249297e+00, -6.28315520e-01,  9.32576898e-01,\n",
       "        8.84556158e-01,  9.82290466e-01, -8.28684954e-02, -3.56138072e+00,\n",
       "        3.02517702e-01,  5.61468647e-01, -3.08885302e+00,  1.19318975e-01,\n",
       "        1.26253828e+00,  2.21374197e+00,  1.06975295e+00,  1.89917443e+00,\n",
       "        5.69984879e-01,  6.34908333e-01, -7.24419082e-02,  1.82379738e+00,\n",
       "       -1.06255125e+00,  2.84252440e+00,  2.59852145e+00,  1.70208942e+00,\n",
       "        1.36712850e+00,  8.22308292e-01,  2.40412210e+00,  1.37063087e+00,\n",
       "       -1.77867298e+00, -9.25266867e-02, -7.56251281e-01,  3.39816826e-01,\n",
       "        1.67747937e+00, -1.97693028e+00,  2.07247035e+00, -4.73006789e-01,\n",
       "       -1.56940848e+00, -1.76278547e-01,  4.16209172e-01, -2.35150197e+00,\n",
       "       -8.48565983e-01, -1.26890951e+00, -8.95114700e-01, -1.22057510e+00,\n",
       "       -5.83171026e-01,  1.84668074e+00, -1.09628667e+00,  1.59466503e+00,\n",
       "        4.89705380e-01, -9.34066072e-01, -5.10908238e-01,  8.43262031e-01,\n",
       "        6.79656307e-02, -2.76568617e+00, -1.09004732e+00, -1.52709263e-01,\n",
       "        5.70547982e-01, -5.36670589e-01, -2.29386671e+00,  1.53129217e+00,\n",
       "        1.04136727e+00,  1.46017375e+00,  7.70478845e-02, -2.86159147e+00,\n",
       "       -1.06002296e+00,  7.24838111e-01,  5.93321535e-01, -2.26114881e+00,\n",
       "       -2.14764623e+00,  4.20491602e-01,  1.19941956e+00, -1.38539048e+00,\n",
       "        4.70898402e-01, -1.23108280e+00, -1.93764919e+00, -4.22869328e-01,\n",
       "        1.12345711e+00, -9.64711063e-01,  4.05559757e+00,  2.65885842e-01,\n",
       "       -1.99406466e-01, -5.72100120e-01, -3.74187748e-01, -1.18061715e+00,\n",
       "        1.05077801e+00,  6.69889770e-01,  6.95624660e-01,  7.83654968e-01,\n",
       "       -1.78432754e+00,  8.29563649e-01, -1.42378385e+00, -2.54878227e+00,\n",
       "        1.74162377e+00,  1.83978169e-01, -2.23572041e+00, -1.10754359e+00,\n",
       "        1.72485699e+00,  1.50365737e+00,  1.05595067e+00,  4.92972792e+00,\n",
       "       -4.82277948e-01,  5.72407793e-02,  1.33912026e+00,  7.88041656e-01,\n",
       "       -7.51061860e-01,  1.23961824e+00, -2.36043078e+00, -2.04134186e+00,\n",
       "        7.16446738e-01,  2.16971914e-01,  1.31898271e+00, -1.90930275e+00,\n",
       "        2.75033457e+00, -2.36331060e+00, -1.76265149e+00, -2.50364723e+00,\n",
       "       -5.19280445e-01,  4.88926118e-01, -2.12322128e-01, -1.81284596e+00,\n",
       "       -3.95997375e+00,  1.38883938e+00, -2.91058354e+00,  2.42893533e+00,\n",
       "        2.40155483e+00,  6.01818962e-01,  3.15550002e-01,  1.19385447e-01,\n",
       "        8.35787960e-01, -1.00821172e+00, -3.34640066e+00,  1.53285764e+00,\n",
       "        5.44374279e-01,  1.50728690e+00,  4.50989690e+00,  6.57814723e-01,\n",
       "       -6.32881625e-01,  3.30925922e+00,  2.12323374e-01, -3.08171731e-02,\n",
       "       -1.47045333e+00, -3.76386682e-01, -1.25532013e+00,  1.95781707e-01,\n",
       "        4.37107745e-01, -8.82971762e-01,  1.49350629e+00,  1.09688698e+00,\n",
       "        1.09098670e-01, -2.03583159e-01,  1.04648147e+00, -7.42365658e-01,\n",
       "       -1.43495247e+00, -1.60693430e+00,  1.37229698e+00, -9.49364648e-01,\n",
       "        2.86552136e+00,  6.44594631e-01, -1.22439631e+00, -1.93372212e+00,\n",
       "       -2.82182366e+00, -1.04291009e+00, -2.93400283e-01, -3.70332041e-01,\n",
       "       -6.75743577e-01,  1.19009428e-01, -1.15714646e+00,  2.51598779e-01,\n",
       "       -1.60960820e+00, -1.50640307e+00, -1.68009089e+00, -6.45515017e-01,\n",
       "        6.98317467e-01, -5.22869357e-01,  8.32828519e-01,  1.12735091e+00,\n",
       "        2.27797413e+00, -1.24089697e+00,  2.66864819e+00,  4.54692506e-01,\n",
       "       -2.00248463e-01,  1.71557119e+00, -9.91840898e-01,  2.68332134e+00,\n",
       "        8.64109857e-01,  1.62909359e+00, -8.58238209e-01,  2.60609233e+00,\n",
       "       -2.41779803e+00,  2.62602765e+00,  1.96902745e+00,  1.87598710e+00,\n",
       "       -3.61262527e-01,  1.10502287e+00, -3.19391953e+00, -1.40228582e+00,\n",
       "        1.14619605e-01, -1.49913358e+00, -2.60939432e+00, -4.27781238e-01,\n",
       "       -1.84787695e+00,  2.60447728e-01, -1.86717537e+00, -3.08469947e+00,\n",
       "       -5.52422785e-01,  1.46051214e+00, -7.26810046e-01,  2.05059410e+00,\n",
       "       -2.59512024e+00, -1.73193515e+00, -2.00730280e+00, -3.64233661e+00,\n",
       "       -2.67867566e+00, -3.50747914e-01, -1.04977561e-01, -2.01622318e+00,\n",
       "        1.32385027e+00, -2.34058118e+00,  7.79020616e-01, -1.85477723e+00,\n",
       "       -2.04190896e+00,  6.14755832e-01,  1.99797892e-01,  2.99008621e+00,\n",
       "        3.76353950e-01, -1.11907999e+00,  9.16814860e-01, -6.66858826e-01,\n",
       "        6.90473285e-01,  2.41755351e-01,  4.67550880e+00, -5.60149907e-02,\n",
       "       -9.53935743e-01,  2.00303885e+00,  2.16470623e+00,  3.84726192e+00,\n",
       "        1.07593250e+00, -1.76072074e+00,  2.35691237e-01,  1.19700846e+00,\n",
       "        4.45078276e-01,  2.56413136e-01,  6.31092931e-01,  1.32431613e+00,\n",
       "        2.13723274e+00, -2.94424104e+00,  9.07080833e-01, -1.40883428e+00,\n",
       "       -2.10398905e+00, -4.67012946e-01, -2.37090276e+00, -8.47452036e-01,\n",
       "       -1.52161245e+00,  5.54471500e-01,  2.51015886e-01,  9.10646699e-01,\n",
       "       -1.51904250e+00,  7.78191950e-01,  3.16384278e-02,  2.40010137e+00,\n",
       "       -3.59848566e+00,  1.23648584e+00, -2.06489653e-01, -1.70945502e+00,\n",
       "        1.60583725e+00,  1.43589933e+00,  2.18419363e+00,  1.97318065e+00,\n",
       "       -7.67439917e-01, -1.66996675e+00,  3.54426246e-01,  3.69534060e+00,\n",
       "        1.73936153e-01, -1.98044845e+00,  9.80896016e-01, -7.02147527e-01,\n",
       "       -2.99619584e+00,  2.02436965e+00, -1.46251925e+00,  2.76747924e+00,\n",
       "        1.26781578e+00,  1.40511590e+00,  2.20401141e+00,  1.40818297e+00,\n",
       "        2.27224058e+00, -3.01771576e+00, -1.23148095e-01,  1.31571519e+00,\n",
       "        5.56875408e-01,  5.39837568e+00,  2.05706579e+00,  2.85170253e+00,\n",
       "        1.81938081e+00, -1.49427299e+00, -1.27932976e+00, -2.60038178e-01,\n",
       "        1.39553171e+00,  7.85839299e-01, -1.88752964e+00,  3.47233211e+00,\n",
       "        2.70679234e+00, -1.93214259e+00,  3.92225845e-01, -6.09774956e-01,\n",
       "        7.37351032e-01, -2.96427994e+00, -1.89278182e-01,  3.58846570e-01,\n",
       "       -1.97047097e+00, -1.65629649e-02,  1.14096313e+00, -2.88858503e+00,\n",
       "       -1.58783775e+00,  2.42747814e+00,  6.21484994e-01, -9.22565418e-01,\n",
       "        2.00934267e+00, -1.05467192e+00,  3.87415283e-01, -1.30786058e+00,\n",
       "       -7.35142415e-01,  1.58680553e-01, -1.31822340e+00, -1.87255100e-01,\n",
       "        1.94552647e+00,  3.90078365e-01, -5.61765199e-01, -1.09361045e+00,\n",
       "       -1.93824628e-03,  2.57854118e-02, -1.04020756e+00,  1.08849995e+00,\n",
       "        3.27508839e+00,  9.78797928e-01,  2.67427146e-01, -4.39190013e-01,\n",
       "       -8.84314519e-02,  8.05352196e-01, -3.55656854e+00,  2.00371614e+00,\n",
       "        1.20090218e-01,  2.54619383e+00,  1.72485906e+00, -1.52127636e+00,\n",
       "       -2.35743964e+00, -1.01035824e+00, -2.61721298e+00,  4.79497612e-01,\n",
       "        1.65349847e+00,  1.65914714e-01, -1.15125622e+00,  9.73678176e-02,\n",
       "       -2.85764897e+00,  1.84791108e+00,  4.62696618e-01,  2.53265908e-01,\n",
       "       -7.90947885e-01, -1.75606334e+00,  1.06016988e+00, -1.50447948e+00,\n",
       "        1.36375154e+00, -1.49826524e+00, -2.07059374e+00,  6.92741507e-01,\n",
       "        1.45886378e+00,  4.95284826e-01, -3.66960439e-01,  3.98715146e+00,\n",
       "        1.49718735e+00, -1.56641662e+00,  2.00062244e-01,  2.26629180e-01,\n",
       "        1.12281969e+00,  3.16086402e-01, -1.65140723e+00,  1.02988666e+00,\n",
       "       -1.57942489e+00,  2.67509408e+00,  9.99845562e-01, -7.65673254e-01,\n",
       "        3.35432332e-01, -3.69150335e+00,  7.01753362e-01,  9.76421519e-01,\n",
       "       -5.53312616e-01, -8.80885191e-01,  3.97418091e+00, -4.70753513e-01,\n",
       "        2.36967323e+00,  1.48467158e+00, -1.00420825e+00,  1.08613036e+00,\n",
       "       -3.86319825e+00,  2.82402591e-01,  2.62316290e-01,  3.48829819e+00,\n",
       "       -2.76365929e+00,  1.33894473e+00, -3.07893215e-01, -8.65066343e-01,\n",
       "       -2.36411109e+00, -3.07016545e-01,  2.09398124e-01,  2.54576401e-01,\n",
       "       -3.23635477e+00, -1.18820156e+00, -1.97234117e+00, -1.32606386e-01,\n",
       "       -1.51812991e-01, -2.88801871e-01, -3.09172895e+00,  1.87518768e+00,\n",
       "        7.79706926e-01, -1.74543116e-01,  1.35169113e+00,  2.78689649e+00,\n",
       "        2.47001888e+00, -2.02856877e+00, -1.51125483e-01,  3.64905401e-01,\n",
       "        1.23048789e-01, -6.97902770e-01,  1.18685446e+00,  4.70517765e+00,\n",
       "       -8.31650647e-01,  1.50291806e+00,  5.51348189e-01, -3.30579107e+00,\n",
       "       -4.55006070e-01,  2.99422017e+00,  4.15661079e-01,  1.07352026e+00,\n",
       "       -5.42068449e-01,  1.12671133e+00, -8.72368178e-01, -9.97497575e-01,\n",
       "       -2.82535975e+00,  1.86541246e+00,  2.61569263e+00,  7.56174541e-01,\n",
       "       -5.65696075e-02,  1.28028939e+00, -2.34378302e-01,  1.76558565e+00])"
      ]
     },
     "execution_count": 7,
     "metadata": {},
     "output_type": "execute_result"
    }
   ],
   "source": [
    "num_simulations = 1000\n",
    "simulated_stats = np.array([]) # SOLUTION\n",
    "# BEGIN SOLUTION NO PROMPT\n",
    "for _ in range(num_simulations):\n",
    "    shuffled_scores = np.random.permutation(scores.get('score'))\n",
    "    shuffled = scores.assign(shuffled_score = shuffled_scores)\n",
    "    group_means = shuffled.groupby('prof').mean().get('shuffled_score')\n",
    "    difference = group_means.loc['A'] - group_means.loc['B']\n",
    "    simulated_stats = np.append(simulated_stats, difference)\n",
    "# END SOLUTION\n",
    "simulated_stats"
   ]
  },
  {
   "cell_type": "markdown",
   "metadata": {
    "slideshow": {
     "slide_type": "slide"
    }
   },
   "source": [
    "## Question 6\n",
    "\n",
    "What is the probability that we see our observed value of the test statistic if the null hypothesis is true?"
   ]
  },
  {
   "cell_type": "code",
   "execution_count": 8,
   "metadata": {},
   "outputs": [
    {
     "data": {
      "text/plain": [
       "0.002"
      ]
     },
     "execution_count": 8,
     "metadata": {},
     "output_type": "execute_result"
    }
   ],
   "source": [
    "p_val = (simulated_stats >= obs).mean() # SOLUTION\n",
    "p_val"
   ]
  },
  {
   "cell_type": "code",
   "execution_count": null,
   "metadata": {
    "deletable": false,
    "editable": false
   },
   "outputs": [],
   "source": [
    "grader.check(\"q16\")"
   ]
  },
  {
   "cell_type": "markdown",
   "metadata": {
    "slideshow": {
     "slide_type": "slide"
    }
   },
   "source": [
    "## Question 7\n",
    "\n",
    "The \"winning\" professor claims that the results show that they are the better teacher. Is this correct?"
   ]
  },
  {
   "cell_type": "code",
   "execution_count": 10,
   "metadata": {},
   "outputs": [
    {
     "data": {
      "text/plain": [
       "True"
      ]
     },
     "execution_count": 10,
     "metadata": {},
     "output_type": "execute_result"
    }
   ],
   "source": [
    "claim_true_or_false = True # SOLUTION\n",
    "claim_true_or_false"
   ]
  },
  {
   "cell_type": "code",
   "execution_count": null,
   "metadata": {
    "deletable": false,
    "editable": false
   },
   "outputs": [],
   "source": [
    "grader.check(\"q17\")"
   ]
  },
  {
   "cell_type": "markdown",
   "metadata": {
    "slideshow": {
     "slide_type": "slide"
    }
   },
   "source": [
    "# Example 2: Fun with Test Statistics"
   ]
  },
  {
   "cell_type": "markdown",
   "metadata": {
    "slideshow": {
     "slide_type": "slide"
    }
   },
   "source": [
    "## Question 8\n",
    "\n",
    "You want to test whether a coin is fair. Your hypotheses are:\n",
    "\n",
    "- **Null**: the coin is fair\n",
    "- **Alternative**: the coin is not fair\n",
    "\n",
    "You'll flip the coin 100 times. What test statistic should you use to assess your claim?"
   ]
  },
  {
   "cell_type": "code",
   "execution_count": 12,
   "metadata": {},
   "outputs": [
    {
     "name": "stdout",
     "output_type": "stream",
     "text": [
      "Test statistic result : 2\n"
     ]
    }
   ],
   "source": [
    "# fill out the following code to set up this experiment\n",
    "\n",
    "num_flips = 100 # SOLUTION\n",
    "\n",
    "# model the probability of our coin\n",
    "model = np.array([0.5, 0.5]) # SOLUTION\n",
    "\n",
    "# flip our coin ... times\n",
    "flip_outcomes = np.random.multinomial(num_flips, model) # SOLUTION\n",
    "\n",
    "# flip_outcomes = [num_heads, num_tails]\n",
    "num_heads = flip_outcomes[0]\n",
    "\n",
    "# What is our test statistic?\n",
    "def test_statistic(num_heads):\n",
    "    return np.abs(num_heads - 50) # SOLUTION\n",
    "\n",
    "# compute test statistic\n",
    "print(f\"Test statistic result : {test_statistic(num_heads)}\")"
   ]
  },
  {
   "cell_type": "markdown",
   "metadata": {
    "slideshow": {
     "slide_type": "slide"
    }
   },
   "source": [
    "## Question 9\n",
    "\n",
    "In your experiment, you saw 61 heads. What is the observed value of your test statistic?"
   ]
  },
  {
   "cell_type": "code",
   "execution_count": 13,
   "metadata": {},
   "outputs": [
    {
     "name": "stdout",
     "output_type": "stream",
     "text": [
      "Test statistic result : 11\n"
     ]
    }
   ],
   "source": [
    "num_heads_experiment = 61\n",
    "\n",
    "observed_test_statistic = test_statistic(num_heads_experiment) # SOLUTION\n",
    "\n",
    "print(f\"Test statistic result : {observed_test_statistic}\")"
   ]
  },
  {
   "cell_type": "markdown",
   "metadata": {
    "slideshow": {
     "slide_type": "slide"
    }
   },
   "source": [
    "## Question 10\n",
    "\n",
    "You want to test whether an *n*-sided die is fair. Your hypotheses are:\n",
    "\n",
    "- **Null**: the die is fair\n",
    "- **Alternative**: the die is not fair\n",
    "\n",
    "You'll roll the die 100 times. What test statistic should you use to assess your claim?"
   ]
  },
  {
   "cell_type": "code",
   "execution_count": 14,
   "metadata": {},
   "outputs": [
    {
     "name": "stdout",
     "output_type": "stream",
     "text": [
      "Test statistic result : 0.15000000000000002\n"
     ]
    }
   ],
   "source": [
    "# fill out the following code to set up this experiment\n",
    "\n",
    "\n",
    "# specify number of sides\n",
    "N = 20\n",
    "num_rolls = 100 # SOLUTION\n",
    "\n",
    "# model the probability of our die\n",
    "model_die = np.array([1/N]*N) # SOLUTION\n",
    "\n",
    "# roll our die ... times\n",
    "roll_outcomes = np.random.multinomial(num_rolls, model_die) # SOLUTION\n",
    "\n",
    "# roll_outcomes = [count_num_side_1 ,..., ..., count_num_side_N]\n",
    "# roll_outcomes_prob = [perc_num_side_1 ,..., ..., perc_num_side_N]\n",
    "\n",
    "roll_outcomes_prob = roll_outcomes / num_rolls # SOLUTION\n",
    "\n",
    "# What is our test statistic?\n",
    "def test_statistic_die(roll_outcomes_prob, model_die):\n",
    "    return np.abs(roll_outcomes_prob - model_die).sum() / 2 # SOLUTION\n",
    "\n",
    "# compute test statistic\n",
    "print(f\"Test statistic result : {test_statistic_die(roll_outcomes_prob, model_die)}\")"
   ]
  },
  {
   "cell_type": "markdown",
   "metadata": {
    "slideshow": {
     "slide_type": "slide"
    }
   },
   "source": [
    "## Question 11\n",
    "\n",
    "You rolled a 4-sided side 100 times and got \"one\" 20 times, \"two\" 30 times, \"three\" 40 times, and \"four\" 10 times. What is the observed value of your test statistic?"
   ]
  },
  {
   "cell_type": "code",
   "execution_count": 15,
   "metadata": {},
   "outputs": [
    {
     "name": "stdout",
     "output_type": "stream",
     "text": [
      "Test statistic result : 0.2\n"
     ]
    }
   ],
   "source": [
    "# specify number of sides\n",
    "N = 4\n",
    "num_rolls = 100 # SOLUTION\n",
    "\n",
    "# Given roll outcomes\n",
    "roll_outcomes = np.array([20, 30, 40, 10]) \n",
    "roll_outcomes_prob = roll_outcomes / num_rolls # SOLUTION\n",
    "\n",
    "# model the probability of our die\n",
    "model_die = np.array([1/N]*N) # SOLUTION\n",
    "\n",
    "# compute the test statistic\n",
    "test_statistic = test_statistic_die(roll_outcomes_prob, model_die) # SOLUTION\n",
    "\n",
    "# display results\n",
    "print(f\"Test statistic result : {test_statistic_die(roll_outcomes_prob, model_die)}\")"
   ]
  },
  {
   "cell_type": "markdown",
   "metadata": {
    "slideshow": {
     "slide_type": "slide"
    }
   },
   "source": [
    "## Question 12\n",
    "\n",
    "You rolled a 2-sided die 100 times and got \"one\" 61 times and \"two\" 39 times. What is the observed value of your test statistic?"
   ]
  },
  {
   "cell_type": "code",
   "execution_count": 16,
   "metadata": {},
   "outputs": [
    {
     "name": "stdout",
     "output_type": "stream",
     "text": [
      "Test statistic result : 0.10999999999999999\n"
     ]
    }
   ],
   "source": [
    "# specify number of sides\n",
    "N = 2\n",
    "num_rolls = 100 # SOLUTION\n",
    "\n",
    "# Given roll outcomes\n",
    "roll_outcomes = np.array([61, 39]) \n",
    "roll_outcomes_prob = roll_outcomes / num_rolls # SOLUTION\n",
    "\n",
    "# model the probability of our die\n",
    "model_die = np.array([1/N]*N) # SOLUTION\n",
    "\n",
    "# compute the test statistic\n",
    "test_statistic = test_statistic_die(roll_outcomes_prob, model_die) # SOLUTION\n",
    "\n",
    "# display results\n",
    "print(f\"Test statistic result : {test_statistic_die(roll_outcomes_prob, model_die)}\")"
   ]
  },
  {
   "cell_type": "code",
   "execution_count": null,
   "metadata": {
    "collapsed": true
   },
   "outputs": [],
   "source": []
  }
 ],
 "metadata": {
  "celltoolbar": "Slideshow",
  "kernelspec": {
   "display_name": "Python 3",
   "language": "python",
   "name": "python3"
  },
  "language_info": {
   "codemirror_mode": {
    "name": "ipython",
    "version": 3
   },
   "file_extension": ".py",
   "mimetype": "text/x-python",
   "name": "python",
   "nbconvert_exporter": "python",
   "pygments_lexer": "ipython3",
   "version": "3.7.6"
  }
 },
 "nbformat": 4,
 "nbformat_minor": 2
}
