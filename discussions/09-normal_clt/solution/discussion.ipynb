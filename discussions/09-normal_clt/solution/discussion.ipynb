{
 "cells": [
  {
   "cell_type": "markdown",
   "metadata": {},
   "source": [
    "# DSC 10 Discussion Week 9\n",
    "\n",
    "\n",
    "<img src=\"data/panda_eat.jpg\" width=\"500\">"
   ]
  },
  {
   "cell_type": "markdown",
   "metadata": {},
   "source": [
    "#### Extra\n",
    "- You can find additional help on these topics in the course [textbook](https://eldridgejm.github.io/dive_into_data_science/front.html).\n",
    "- [Here](https://ucsd-ets.github.io/dsc10-2020-fa/published/default/reference/babypandas-reference.pdf) is a pointer to that reference sheet we saw last time."
   ]
  },
  {
   "cell_type": "code",
   "execution_count": 1,
   "metadata": {},
   "outputs": [
    {
     "data": {
      "text/plain": [
       "{'width': 1500, 'height': 700, 'scroll': True}"
      ]
     },
     "execution_count": 1,
     "metadata": {},
     "output_type": "execute_result"
    }
   ],
   "source": [
    "from scipy import stats\n",
    "import numpy as np\n",
    "import matplotlib.pyplot as plt\n",
    "import babypandas as bpd\n",
    "%matplotlib inline\n",
    "\n",
    "import otter\n",
    "grader = otter.Notebook()\n",
    "\n",
    "from notebook.services.config import ConfigManager\n",
    "\n",
    "cm = ConfigManager()\n",
    "cm.update(\n",
    "    \"livereveal\", {\n",
    "        'width': 1500,\n",
    "        'height': 700,\n",
    "        \"scroll\": True,\n",
    "})"
   ]
  },
  {
   "cell_type": "markdown",
   "metadata": {},
   "source": [
    "\n",
    "# Area Under the Curve"
   ]
  },
  {
   "cell_type": "markdown",
   "metadata": {},
   "source": [
    "Area under the curve normally follows Chebychev's Bounds:\n",
    "\n",
    "For all lists, and all numbers  z , the proportion of entries that are in the range \"average  $\\pm z$  SDs\" is at least $1 - \\frac{1}{z^{2}} $\n",
    "\n",
    "In other words, we can say that at least $1-\\frac{1}{z^2}$ of data from a sample must fall within $z$ standard deviations from the mean.\n",
    "\n",
    "How is this useful? We can actually use it to find the what proportion of entries lie within a certain standard deviation which allows us to compute the area under a curve easily.\n",
    "\n",
    "NOTE : Chebyshev's inequality holds for any shaped distribution!"
   ]
  },
  {
   "cell_type": "markdown",
   "metadata": {},
   "source": [
    "### Question 0.1"
   ]
  },
  {
   "cell_type": "markdown",
   "metadata": {},
   "source": [
    "What is the proportion of entries that are in the range average $\\pm 1$ SD "
   ]
  },
  {
   "cell_type": "code",
   "execution_count": 2,
   "metadata": {},
   "outputs": [
    {
     "data": {
      "text/plain": [
       "0.0"
      ]
     },
     "execution_count": 2,
     "metadata": {},
     "output_type": "execute_result"
    }
   ],
   "source": [
    "cheby_area_pm_1 = 1 - (1/(1**2)) # SOLUTION\n",
    "cheby_area_pm_1"
   ]
  },
  {
   "cell_type": "markdown",
   "metadata": {},
   "source": [
    "### Question 0.2"
   ]
  },
  {
   "cell_type": "markdown",
   "metadata": {},
   "source": [
    "What is the proportion of entries that are in the range average $\\pm 2$ SD "
   ]
  },
  {
   "cell_type": "code",
   "execution_count": 3,
   "metadata": {},
   "outputs": [
    {
     "data": {
      "text/plain": [
       "0.75"
      ]
     },
     "execution_count": 3,
     "metadata": {},
     "output_type": "execute_result"
    }
   ],
   "source": [
    "cheby_area_pm_2 = 1 - (1/(2**2)) # SOLUTION\n",
    "cheby_area_pm_2"
   ]
  },
  {
   "cell_type": "markdown",
   "metadata": {},
   "source": [
    "### Question 0.3"
   ]
  },
  {
   "cell_type": "markdown",
   "metadata": {},
   "source": [
    "What is the proportion of entries that are in the range average $\\pm 3$ SD "
   ]
  },
  {
   "cell_type": "code",
   "execution_count": 4,
   "metadata": {},
   "outputs": [
    {
     "data": {
      "text/plain": [
       "0.8888888888888888"
      ]
     },
     "execution_count": 4,
     "metadata": {},
     "output_type": "execute_result"
    }
   ],
   "source": [
    "cheby_area_pm_3 = 1 - (1/(3**2)) # SOLUTION\n",
    "cheby_area_pm_3"
   ]
  },
  {
   "cell_type": "markdown",
   "metadata": {},
   "source": [
    "## Area Under the Curve : Normal Distribution\n",
    "\n",
    "In the case of a normal distribution the area under the curve does increase much more due to certain properties of the normal distribution. \n",
    "Let us explore what the same bounds look like under normal distributions with the help of scipy.stats. \n",
    "\n",
    "We will use the stats.norm.cdf function which gives us the cumulative distribution function till a certain point. So if I say stats.norm.cdf(1) it will give me the area between all the points to the left of 1 in a normal curve.\n",
    "\n",
    "In general, are within $[a.b]$ is ```stats.norm.cdf(b) - stats.norm.cdf(a)```"
   ]
  },
  {
   "cell_type": "markdown",
   "metadata": {},
   "source": [
    "### Question 0.4"
   ]
  },
  {
   "cell_type": "markdown",
   "metadata": {},
   "source": [
    "What is the proportion of entries that are in the range average $\\pm 1$ SD under the normal curve"
   ]
  },
  {
   "cell_type": "code",
   "execution_count": 5,
   "metadata": {},
   "outputs": [
    {
     "data": {
      "text/plain": [
       "0.6826894921370859"
      ]
     },
     "execution_count": 5,
     "metadata": {},
     "output_type": "execute_result"
    }
   ],
   "source": [
    "normal_area_pm_1 = stats.norm.cdf(1) - stats.norm.cdf(-1) # SOLUTION\n",
    "normal_area_pm_1"
   ]
  },
  {
   "cell_type": "markdown",
   "metadata": {},
   "source": [
    "### Question 0.5"
   ]
  },
  {
   "cell_type": "markdown",
   "metadata": {},
   "source": [
    "What is the proportion of entries that are in the range average $\\pm 2$ SD under the normal curve"
   ]
  },
  {
   "cell_type": "code",
   "execution_count": 6,
   "metadata": {},
   "outputs": [
    {
     "data": {
      "text/plain": [
       "0.9544997361036416"
      ]
     },
     "execution_count": 6,
     "metadata": {},
     "output_type": "execute_result"
    }
   ],
   "source": [
    "normal_area_pm_2 = stats.norm.cdf(2) - stats.norm.cdf(-2) # SOLUTION\n",
    "normal_area_pm_2"
   ]
  },
  {
   "cell_type": "markdown",
   "metadata": {},
   "source": [
    "### Question 0.6"
   ]
  },
  {
   "cell_type": "markdown",
   "metadata": {},
   "source": [
    "What is the proportion of entries that are in the range average $\\pm 3$ SD under the normal curve"
   ]
  },
  {
   "cell_type": "code",
   "execution_count": 7,
   "metadata": {},
   "outputs": [
    {
     "data": {
      "text/plain": [
       "0.9973002039367398"
      ]
     },
     "execution_count": 7,
     "metadata": {},
     "output_type": "execute_result"
    }
   ],
   "source": [
    "normal_area_pm_3 = stats.norm.cdf(3) - stats.norm.cdf(-3) # SOLUTION\n",
    "normal_area_pm_3"
   ]
  },
  {
   "cell_type": "code",
   "execution_count": 8,
   "metadata": {},
   "outputs": [
    {
     "name": "stdout",
     "output_type": "stream",
     "text": [
      "For ±1 SD --> Cheby. : 0.0\t Normal : 0.683\n",
      "For ±2 SD --> Cheby. : 0.75\t Normal : 0.954\n",
      "For ±3 SD --> Cheby. : 0.889\t Normal : 0.997\n"
     ]
    }
   ],
   "source": [
    "# comparing AUC results\n",
    "\n",
    "print(f\"For ±1 SD --> Cheby. : {round(cheby_area_pm_1,3)}\\t Normal : {round(normal_area_pm_1,3)}\")\n",
    "print(f\"For ±2 SD --> Cheby. : {round(cheby_area_pm_2,3)}\\t Normal : {round(normal_area_pm_2,3)}\")\n",
    "print(f\"For ±3 SD --> Cheby. : {round(cheby_area_pm_3,3)}\\t Normal : {round(normal_area_pm_3,3)}\")"
   ]
  },
  {
   "cell_type": "markdown",
   "metadata": {},
   "source": [
    "Although it is completely valid, Chebyshev's inequality provides a much weaker lower bound to the proportion of data that lies within $z$ standard deviations from the mean."
   ]
  },
  {
   "cell_type": "markdown",
   "metadata": {},
   "source": [
    "# Central Limit Theorem"
   ]
  },
  {
   "cell_type": "markdown",
   "metadata": {},
   "source": [
    "The Central Limit Theorem says that the probability distribution of the sum or average of a large random sample drawn with replacement will be roughly normal, regardless of the distribution of the population from which the sample is drawn."
   ]
  },
  {
   "cell_type": "markdown",
   "metadata": {},
   "source": [
    "This is really useful since it can allow us to work with normal curves in most problems. \n",
    "\n",
    "Until now you have used this fact when computing the p value. When we say p value <= 0.05 we actually mean that our statistic is at least $\\pm 2$ SDs away from the normal mean which is pretty rare under a normal curve. In any other curve under the Chebychev bounds $\\pm 2$ SDs is much narrower (around 75%)."
   ]
  },
  {
   "cell_type": "code",
   "execution_count": 9,
   "metadata": {},
   "outputs": [
    {
     "data": {
      "text/plain": [
       "(array([22., 23., 25., 20., 20., 16., 21., 22., 15., 16.]),\n",
       " array([ 0.03442853,  2.03042666,  4.02642478,  6.0224229 ,  8.01842103,\n",
       "        10.01441915, 12.01041727, 14.0064154 , 16.00241352, 17.99841165,\n",
       "        19.99440977]),\n",
       " <a list of 10 Patch objects>)"
      ]
     },
     "execution_count": 9,
     "metadata": {},
     "output_type": "execute_result"
    },
    {
     "data": {
      "image/png": "[encoded data removed]",
      "text/plain": [
       "<Figure size 432x288 with 1 Axes>"
      ]
     },
     "metadata": {
      "needs_background": "light"
     },
     "output_type": "display_data"
    }
   ],
   "source": [
    "# Let us introduce a random uniformly distributed dataset\n",
    "\n",
    "data = np.random.uniform(0, 20, 200)\n",
    "plt.hist(data)"
   ]
  },
  {
   "cell_type": "markdown",
   "metadata": {},
   "source": [
    "As you can see above we have a dataset that is clearly not normal. Let's try bootstrapping this and computing the mean"
   ]
  },
  {
   "cell_type": "code",
   "execution_count": 10,
   "metadata": {},
   "outputs": [
    {
     "data": {
      "text/plain": [
       "(array([ 12.,  19.,  66.,  90., 126.,  96.,  58.,  18.,  10.,   5.]),\n",
       " array([ 8.41647118,  8.64049736,  8.86452353,  9.08854971,  9.31257588,\n",
       "         9.53660206,  9.76062823,  9.98465441, 10.20868059, 10.43270676,\n",
       "        10.65673294]),\n",
       " <a list of 10 Patch objects>)"
      ]
     },
     "execution_count": 10,
     "metadata": {},
     "output_type": "execute_result"
    },
    {
     "data": {
      "image/png": "[encoded data removed]",
      "text/plain": [
       "<Figure size 432x288 with 1 Axes>"
      ]
     },
     "metadata": {
      "needs_background": "light"
     },
     "output_type": "display_data"
    }
   ],
   "source": [
    "num_simulations = 500\n",
    "sample_means = np.array([])\n",
    "for _ in range(num_simulations):\n",
    "    sample = np.random.choice(data, 200) # Note: Using .sample is better. I am working with a numpy array which is why I use this\n",
    "    mean_of_sample = np.mean(sample)\n",
    "    sample_means = np.append(sample_means, mean_of_sample)\n",
    "\n",
    "plt.hist(sample_means)"
   ]
  },
  {
   "cell_type": "markdown",
   "metadata": {},
   "source": [
    "This may be surprising, but our statistics are normally distributed!\n",
    "\n",
    "This is extremely useful since we can compute the p-value even with non-normal data as the distribution of the statistics are normal (as a result of the CLT)."
   ]
  },
  {
   "cell_type": "markdown",
   "metadata": {},
   "source": [
    "### Question 2.1"
   ]
  },
  {
   "cell_type": "markdown",
   "metadata": {},
   "source": [
    "What is the p value if we have an observed statistic of 9?"
   ]
  },
  {
   "cell_type": "code",
   "execution_count": 11,
   "metadata": {},
   "outputs": [
    {
     "data": {
      "text/plain": [
       "0.134"
      ]
     },
     "execution_count": 11,
     "metadata": {},
     "output_type": "execute_result"
    }
   ],
   "source": [
    "p_value_with_obs_9 = np.mean(sample_means <= 9) # SOLUTION\n",
    "p_value_with_obs_9"
   ]
  },
  {
   "cell_type": "markdown",
   "metadata": {},
   "source": [
    "### Question 2.2"
   ]
  },
  {
   "cell_type": "markdown",
   "metadata": {},
   "source": [
    "What is the p value if we have an observed statistic of 10?"
   ]
  },
  {
   "cell_type": "code",
   "execution_count": 12,
   "metadata": {},
   "outputs": [
    {
     "data": {
      "text/plain": [
       "0.934"
      ]
     },
     "execution_count": 12,
     "metadata": {},
     "output_type": "execute_result"
    }
   ],
   "source": [
    "p_value_with_obs_10 = np.mean(sample_means <= 10) # SOLUTION\n",
    "p_value_with_obs_10"
   ]
  },
  {
   "cell_type": "markdown",
   "metadata": {},
   "source": [
    "## Remember this dataset? Life expectancy data\n",
    "\n",
    "This data comes from the World Health Organization.  We can learn more about the meanings of the columns by looking here: https://www.kaggle.com/kumarajarshi/life-expectancy-who\n",
    "\n",
    "Let's travel back in time to the year 2015 and collect some data!  For the duration of this discussion, we're going to consider the following data to be our *\"population\"*.\n",
    "\n",
    "Let's take a look at it."
   ]
  },
  {
   "cell_type": "code",
   "execution_count": 13,
   "metadata": {
    "scrolled": false
   },
   "outputs": [
    {
     "data": {
      "text/html": [
       "<div>\n",
       "<style scoped>\n",
       "    .dataframe tbody tr th:only-of-type {\n",
       "        vertical-align: middle;\n",
       "    }\n",
       "\n",
       "    .dataframe tbody tr th {\n",
       "        vertical-align: top;\n",
       "    }\n",
       "\n",
       "    .dataframe thead th {\n",
       "        text-align: right;\n",
       "    }\n",
       "</style>\n",
       "<table border=\"1\" class=\"dataframe\">\n",
       "  <thead>\n",
       "    <tr style=\"text-align: right;\">\n",
       "      <th></th>\n",
       "      <th>Country</th>\n",
       "      <th>Year</th>\n",
       "      <th>Status</th>\n",
       "      <th>Life expectancy</th>\n",
       "      <th>Adult Mortality</th>\n",
       "      <th>infant deaths</th>\n",
       "      <th>Alcohol</th>\n",
       "      <th>percentage expenditure</th>\n",
       "      <th>Hepatitis B</th>\n",
       "      <th>Measles</th>\n",
       "      <th>...</th>\n",
       "      <th>Polio</th>\n",
       "      <th>Total expenditure</th>\n",
       "      <th>Diphtheria</th>\n",
       "      <th>HIV/AIDS</th>\n",
       "      <th>GDP</th>\n",
       "      <th>Population</th>\n",
       "      <th>thinness  1-19 years</th>\n",
       "      <th>thinness 5-9 years</th>\n",
       "      <th>Income composition of resources</th>\n",
       "      <th>Schooling</th>\n",
       "    </tr>\n",
       "  </thead>\n",
       "  <tbody>\n",
       "    <tr>\n",
       "      <th>0</th>\n",
       "      <td>Afghanistan</td>\n",
       "      <td>2015</td>\n",
       "      <td>Developing</td>\n",
       "      <td>65.0</td>\n",
       "      <td>263.0</td>\n",
       "      <td>62</td>\n",
       "      <td>0.01</td>\n",
       "      <td>71.279624</td>\n",
       "      <td>65.0</td>\n",
       "      <td>1154</td>\n",
       "      <td>...</td>\n",
       "      <td>6.0</td>\n",
       "      <td>8.16</td>\n",
       "      <td>65.0</td>\n",
       "      <td>0.1</td>\n",
       "      <td>584.259210</td>\n",
       "      <td>33736494.0</td>\n",
       "      <td>17.2</td>\n",
       "      <td>17.3</td>\n",
       "      <td>0.479</td>\n",
       "      <td>10.1</td>\n",
       "    </tr>\n",
       "    <tr>\n",
       "      <th>16</th>\n",
       "      <td>Albania</td>\n",
       "      <td>2015</td>\n",
       "      <td>Developing</td>\n",
       "      <td>77.8</td>\n",
       "      <td>74.0</td>\n",
       "      <td>0</td>\n",
       "      <td>4.60</td>\n",
       "      <td>364.975229</td>\n",
       "      <td>99.0</td>\n",
       "      <td>0</td>\n",
       "      <td>...</td>\n",
       "      <td>99.0</td>\n",
       "      <td>6.00</td>\n",
       "      <td>99.0</td>\n",
       "      <td>0.1</td>\n",
       "      <td>3954.227830</td>\n",
       "      <td>28873.0</td>\n",
       "      <td>1.2</td>\n",
       "      <td>1.3</td>\n",
       "      <td>0.762</td>\n",
       "      <td>14.2</td>\n",
       "    </tr>\n",
       "    <tr>\n",
       "      <th>32</th>\n",
       "      <td>Algeria</td>\n",
       "      <td>2015</td>\n",
       "      <td>Developing</td>\n",
       "      <td>75.6</td>\n",
       "      <td>19.0</td>\n",
       "      <td>21</td>\n",
       "      <td>NaN</td>\n",
       "      <td>0.000000</td>\n",
       "      <td>95.0</td>\n",
       "      <td>63</td>\n",
       "      <td>...</td>\n",
       "      <td>95.0</td>\n",
       "      <td>NaN</td>\n",
       "      <td>95.0</td>\n",
       "      <td>0.1</td>\n",
       "      <td>4132.762920</td>\n",
       "      <td>39871528.0</td>\n",
       "      <td>6.0</td>\n",
       "      <td>5.8</td>\n",
       "      <td>0.743</td>\n",
       "      <td>14.4</td>\n",
       "    </tr>\n",
       "    <tr>\n",
       "      <th>48</th>\n",
       "      <td>Angola</td>\n",
       "      <td>2015</td>\n",
       "      <td>Developing</td>\n",
       "      <td>52.4</td>\n",
       "      <td>335.0</td>\n",
       "      <td>66</td>\n",
       "      <td>NaN</td>\n",
       "      <td>0.000000</td>\n",
       "      <td>64.0</td>\n",
       "      <td>118</td>\n",
       "      <td>...</td>\n",
       "      <td>7.0</td>\n",
       "      <td>NaN</td>\n",
       "      <td>64.0</td>\n",
       "      <td>1.9</td>\n",
       "      <td>3695.793748</td>\n",
       "      <td>2785935.0</td>\n",
       "      <td>8.3</td>\n",
       "      <td>8.2</td>\n",
       "      <td>0.531</td>\n",
       "      <td>11.4</td>\n",
       "    </tr>\n",
       "    <tr>\n",
       "      <th>64</th>\n",
       "      <td>Antigua and Barbuda</td>\n",
       "      <td>2015</td>\n",
       "      <td>Developing</td>\n",
       "      <td>76.4</td>\n",
       "      <td>13.0</td>\n",
       "      <td>0</td>\n",
       "      <td>NaN</td>\n",
       "      <td>0.000000</td>\n",
       "      <td>99.0</td>\n",
       "      <td>0</td>\n",
       "      <td>...</td>\n",
       "      <td>86.0</td>\n",
       "      <td>NaN</td>\n",
       "      <td>99.0</td>\n",
       "      <td>0.2</td>\n",
       "      <td>13566.954100</td>\n",
       "      <td>NaN</td>\n",
       "      <td>3.3</td>\n",
       "      <td>3.3</td>\n",
       "      <td>0.784</td>\n",
       "      <td>13.9</td>\n",
       "    </tr>\n",
       "    <tr>\n",
       "      <th>...</th>\n",
       "      <td>...</td>\n",
       "      <td>...</td>\n",
       "      <td>...</td>\n",
       "      <td>...</td>\n",
       "      <td>...</td>\n",
       "      <td>...</td>\n",
       "      <td>...</td>\n",
       "      <td>...</td>\n",
       "      <td>...</td>\n",
       "      <td>...</td>\n",
       "      <td>...</td>\n",
       "      <td>...</td>\n",
       "      <td>...</td>\n",
       "      <td>...</td>\n",
       "      <td>...</td>\n",
       "      <td>...</td>\n",
       "      <td>...</td>\n",
       "      <td>...</td>\n",
       "      <td>...</td>\n",
       "      <td>...</td>\n",
       "      <td>...</td>\n",
       "    </tr>\n",
       "    <tr>\n",
       "      <th>2858</th>\n",
       "      <td>Venezuela (Bolivarian Republic of)</td>\n",
       "      <td>2015</td>\n",
       "      <td>Developing</td>\n",
       "      <td>74.1</td>\n",
       "      <td>157.0</td>\n",
       "      <td>9</td>\n",
       "      <td>NaN</td>\n",
       "      <td>0.000000</td>\n",
       "      <td>87.0</td>\n",
       "      <td>0</td>\n",
       "      <td>...</td>\n",
       "      <td>87.0</td>\n",
       "      <td>NaN</td>\n",
       "      <td>87.0</td>\n",
       "      <td>0.1</td>\n",
       "      <td>NaN</td>\n",
       "      <td>NaN</td>\n",
       "      <td>1.6</td>\n",
       "      <td>1.5</td>\n",
       "      <td>0.769</td>\n",
       "      <td>14.3</td>\n",
       "    </tr>\n",
       "    <tr>\n",
       "      <th>2874</th>\n",
       "      <td>Viet Nam</td>\n",
       "      <td>2015</td>\n",
       "      <td>Developing</td>\n",
       "      <td>76.0</td>\n",
       "      <td>127.0</td>\n",
       "      <td>28</td>\n",
       "      <td>NaN</td>\n",
       "      <td>0.000000</td>\n",
       "      <td>97.0</td>\n",
       "      <td>256</td>\n",
       "      <td>...</td>\n",
       "      <td>97.0</td>\n",
       "      <td>NaN</td>\n",
       "      <td>97.0</td>\n",
       "      <td>0.1</td>\n",
       "      <td>NaN</td>\n",
       "      <td>NaN</td>\n",
       "      <td>14.2</td>\n",
       "      <td>14.5</td>\n",
       "      <td>0.678</td>\n",
       "      <td>12.6</td>\n",
       "    </tr>\n",
       "    <tr>\n",
       "      <th>2890</th>\n",
       "      <td>Yemen</td>\n",
       "      <td>2015</td>\n",
       "      <td>Developing</td>\n",
       "      <td>65.7</td>\n",
       "      <td>224.0</td>\n",
       "      <td>37</td>\n",
       "      <td>NaN</td>\n",
       "      <td>0.000000</td>\n",
       "      <td>69.0</td>\n",
       "      <td>468</td>\n",
       "      <td>...</td>\n",
       "      <td>63.0</td>\n",
       "      <td>NaN</td>\n",
       "      <td>69.0</td>\n",
       "      <td>0.1</td>\n",
       "      <td>NaN</td>\n",
       "      <td>NaN</td>\n",
       "      <td>13.6</td>\n",
       "      <td>13.4</td>\n",
       "      <td>0.499</td>\n",
       "      <td>9.0</td>\n",
       "    </tr>\n",
       "    <tr>\n",
       "      <th>2906</th>\n",
       "      <td>Zambia</td>\n",
       "      <td>2015</td>\n",
       "      <td>Developing</td>\n",
       "      <td>61.8</td>\n",
       "      <td>33.0</td>\n",
       "      <td>27</td>\n",
       "      <td>NaN</td>\n",
       "      <td>0.000000</td>\n",
       "      <td>9.0</td>\n",
       "      <td>9</td>\n",
       "      <td>...</td>\n",
       "      <td>9.0</td>\n",
       "      <td>NaN</td>\n",
       "      <td>9.0</td>\n",
       "      <td>4.1</td>\n",
       "      <td>1313.889646</td>\n",
       "      <td>161587.0</td>\n",
       "      <td>6.3</td>\n",
       "      <td>6.1</td>\n",
       "      <td>0.576</td>\n",
       "      <td>12.5</td>\n",
       "    </tr>\n",
       "    <tr>\n",
       "      <th>2922</th>\n",
       "      <td>Zimbabwe</td>\n",
       "      <td>2015</td>\n",
       "      <td>Developing</td>\n",
       "      <td>67.0</td>\n",
       "      <td>336.0</td>\n",
       "      <td>22</td>\n",
       "      <td>NaN</td>\n",
       "      <td>0.000000</td>\n",
       "      <td>87.0</td>\n",
       "      <td>0</td>\n",
       "      <td>...</td>\n",
       "      <td>88.0</td>\n",
       "      <td>NaN</td>\n",
       "      <td>87.0</td>\n",
       "      <td>6.2</td>\n",
       "      <td>118.693830</td>\n",
       "      <td>15777451.0</td>\n",
       "      <td>5.6</td>\n",
       "      <td>5.5</td>\n",
       "      <td>0.507</td>\n",
       "      <td>10.3</td>\n",
       "    </tr>\n",
       "  </tbody>\n",
       "</table>\n",
       "<p>183 rows × 22 columns</p>\n",
       "</div>"
      ],
      "text/plain": [
       "                                 Country  Year      Status  Life expectancy   \\\n",
       "0                            Afghanistan  2015  Developing              65.0   \n",
       "16                               Albania  2015  Developing              77.8   \n",
       "32                               Algeria  2015  Developing              75.6   \n",
       "48                                Angola  2015  Developing              52.4   \n",
       "64                   Antigua and Barbuda  2015  Developing              76.4   \n",
       "...                                  ...   ...         ...               ...   \n",
       "2858  Venezuela (Bolivarian Republic of)  2015  Developing              74.1   \n",
       "2874                            Viet Nam  2015  Developing              76.0   \n",
       "2890                               Yemen  2015  Developing              65.7   \n",
       "2906                              Zambia  2015  Developing              61.8   \n",
       "2922                            Zimbabwe  2015  Developing              67.0   \n",
       "\n",
       "      Adult Mortality  infant deaths  Alcohol  percentage expenditure  \\\n",
       "0               263.0             62     0.01               71.279624   \n",
       "16               74.0              0     4.60              364.975229   \n",
       "32               19.0             21      NaN                0.000000   \n",
       "48              335.0             66      NaN                0.000000   \n",
       "64               13.0              0      NaN                0.000000   \n",
       "...               ...            ...      ...                     ...   \n",
       "2858            157.0              9      NaN                0.000000   \n",
       "2874            127.0             28      NaN                0.000000   \n",
       "2890            224.0             37      NaN                0.000000   \n",
       "2906             33.0             27      NaN                0.000000   \n",
       "2922            336.0             22      NaN                0.000000   \n",
       "\n",
       "      Hepatitis B  Measles   ...  Polio  Total expenditure  Diphtheria   \\\n",
       "0            65.0      1154  ...    6.0               8.16         65.0   \n",
       "16           99.0         0  ...   99.0               6.00         99.0   \n",
       "32           95.0        63  ...   95.0                NaN         95.0   \n",
       "48           64.0       118  ...    7.0                NaN         64.0   \n",
       "64           99.0         0  ...   86.0                NaN         99.0   \n",
       "...           ...       ...  ...    ...                ...          ...   \n",
       "2858         87.0         0  ...   87.0                NaN         87.0   \n",
       "2874         97.0       256  ...   97.0                NaN         97.0   \n",
       "2890         69.0       468  ...   63.0                NaN         69.0   \n",
       "2906          9.0         9  ...    9.0                NaN          9.0   \n",
       "2922         87.0         0  ...   88.0                NaN         87.0   \n",
       "\n",
       "       HIV/AIDS           GDP  Population   thinness  1-19 years  \\\n",
       "0           0.1    584.259210  33736494.0                   17.2   \n",
       "16          0.1   3954.227830     28873.0                    1.2   \n",
       "32          0.1   4132.762920  39871528.0                    6.0   \n",
       "48          1.9   3695.793748   2785935.0                    8.3   \n",
       "64          0.2  13566.954100         NaN                    3.3   \n",
       "...         ...           ...         ...                    ...   \n",
       "2858        0.1           NaN         NaN                    1.6   \n",
       "2874        0.1           NaN         NaN                   14.2   \n",
       "2890        0.1           NaN         NaN                   13.6   \n",
       "2906        4.1   1313.889646    161587.0                    6.3   \n",
       "2922        6.2    118.693830  15777451.0                    5.6   \n",
       "\n",
       "       thinness 5-9 years  Income composition of resources  Schooling  \n",
       "0                    17.3                            0.479       10.1  \n",
       "16                    1.3                            0.762       14.2  \n",
       "32                    5.8                            0.743       14.4  \n",
       "48                    8.2                            0.531       11.4  \n",
       "64                    3.3                            0.784       13.9  \n",
       "...                   ...                              ...        ...  \n",
       "2858                  1.5                            0.769       14.3  \n",
       "2874                 14.5                            0.678       12.6  \n",
       "2890                 13.4                            0.499        9.0  \n",
       "2906                  6.1                            0.576       12.5  \n",
       "2922                  5.5                            0.507       10.3  \n",
       "\n",
       "[183 rows x 22 columns]"
      ]
     },
     "execution_count": 13,
     "metadata": {},
     "output_type": "execute_result"
    }
   ],
   "source": [
    "# load in all the data\n",
    "life_expectancy = bpd.read_csv(\"data/Life Expectancy Data.csv\")\n",
    "\n",
    "# choose only data from 2015\n",
    "recent_data = life_expectancy[life_expectancy.get(\"Year\") == 2015]\n",
    "\n",
    "recent_data"
   ]
  },
  {
   "cell_type": "markdown",
   "metadata": {},
   "source": [
    "# Recall from last time...\n",
    "\n",
    "### Plot the distribution of sample means\n",
    "- Grab a sample\n",
    "- Use bootstrapping to sample from the sample\n",
    "- Compute the statistic for each bootstrapped sample\n",
    "- Plot them all"
   ]
  },
  {
   "cell_type": "markdown",
   "metadata": {},
   "source": [
    "## Population Mean"
   ]
  },
  {
   "cell_type": "code",
   "execution_count": 14,
   "metadata": {},
   "outputs": [
    {
     "data": {
      "text/plain": [
       "71.61693989071036"
      ]
     },
     "execution_count": 14,
     "metadata": {},
     "output_type": "execute_result"
    }
   ],
   "source": [
    "# compute population mean to compare\n",
    "\n",
    "pop_data = recent_data.get('Life expectancy ')\n",
    "pop_mean = pop_data.mean()\n",
    "pop_mean"
   ]
  },
  {
   "cell_type": "markdown",
   "metadata": {},
   "source": [
    "# Population Distribution"
   ]
  },
  {
   "cell_type": "code",
   "execution_count": 15,
   "metadata": {},
   "outputs": [
    {
     "data": {
      "text/plain": [
       "(array([ 1.,  0.,  1.,  1.,  2.,  1.,  0.,  1.,  1.,  0.,  0.,  0.,  2.,\n",
       "         1.,  3.,  2.,  1.,  4.,  1.,  0.,  2.,  3.,  2.,  2.,  2.,  3.,\n",
       "         1.,  4.,  1.,  5.,  6.,  2.,  1.,  1.,  2.,  4.,  5.,  3.,  0.,\n",
       "         0.,  4.,  3.,  4.,  2.,  3.,  5.,  6., 12.,  6.,  8.,  9.,  4.,\n",
       "         4.,  5.,  2.,  2.,  3.,  1.,  0.,  0.,  7.,  5.,  5.,  5.,  2.,\n",
       "         1.,  0.,  0.,  2.,  0.,  1.,  0.,  0.,  0.,  1.,  0.]),\n",
       " array([51. , 51.5, 52. , 52.5, 53. , 53.5, 54. , 54.5, 55. , 55.5, 56. ,\n",
       "        56.5, 57. , 57.5, 58. , 58.5, 59. , 59.5, 60. , 60.5, 61. , 61.5,\n",
       "        62. , 62.5, 63. , 63.5, 64. , 64.5, 65. , 65.5, 66. , 66.5, 67. ,\n",
       "        67.5, 68. , 68.5, 69. , 69.5, 70. , 70.5, 71. , 71.5, 72. , 72.5,\n",
       "        73. , 73.5, 74. , 74.5, 75. , 75.5, 76. , 76.5, 77. , 77.5, 78. ,\n",
       "        78.5, 79. , 79.5, 80. , 80.5, 81. , 81.5, 82. , 82.5, 83. , 83.5,\n",
       "        84. , 84.5, 85. , 85.5, 86. , 86.5, 87. , 87.5, 88. , 88.5, 89. ]),\n",
       " <a list of 76 Patch objects>)"
      ]
     },
     "execution_count": 15,
     "metadata": {},
     "output_type": "execute_result"
    },
    {
     "data": {
      "image/png": "[encoded data removed]",
      "text/plain": [
       "<Figure size 432x288 with 1 Axes>"
      ]
     },
     "metadata": {
      "needs_background": "light"
     },
     "output_type": "display_data"
    }
   ],
   "source": [
    "# Visualization help\n",
    "def get_bins(array, bin_size=1):\n",
    "    smallestNum = int(array.min())\n",
    "    \n",
    "    largestNum = int(array.max())\n",
    "    upperLimit = largestNum + bin_size + 1\n",
    "    \n",
    "    return np.arange(smallestNum, upperLimit, bin_size)\n",
    "\n",
    "plt.title(\"Population Distribution\")\n",
    "plt.hist(pop_data, bins=get_bins(pop_data,0.5))"
   ]
  },
  {
   "cell_type": "markdown",
   "metadata": {},
   "source": [
    "## The population distribution is clearly not a normal distribution"
   ]
  },
  {
   "cell_type": "markdown",
   "metadata": {},
   "source": [
    "# Distribution of Sample Means"
   ]
  },
  {
   "cell_type": "code",
   "execution_count": 16,
   "metadata": {},
   "outputs": [
    {
     "data": {
      "image/png": "[encoded data removed]",
      "text/plain": [
       "<Figure size 432x288 with 1 Axes>"
      ]
     },
     "metadata": {
      "needs_background": "light"
     },
     "output_type": "display_data"
    }
   ],
   "source": [
    "# Get a sample\n",
    "num_samples = 60\n",
    "collected = recent_data.sample(n=num_samples, replace=False)\n",
    "\n",
    "# Bootstrap\n",
    "sample_means = np.array([])\n",
    "\n",
    "for i in range(1000):\n",
    "    bootstrapped = collected.sample(num_samples,replace=True)\n",
    "    boot_mean = bootstrapped.get('Life expectancy ').mean()\n",
    "    sample_means = np.append(sample_means, boot_mean)\n",
    "    \n",
    "plt.title(\"Distribution of Sample Means (with Population Mean)\")\n",
    "plt.hist(sample_means, bins=get_bins(sample_means, 0.5))\n",
    "plt.scatter(pop_mean, 0, color='red', s=80).set_zorder(2)"
   ]
  },
  {
   "cell_type": "markdown",
   "metadata": {},
   "source": [
    "## However, the distribution of sample means is a normal distribution -- Thanks Central Limit Theorem!"
   ]
  },
  {
   "cell_type": "markdown",
   "metadata": {},
   "source": [
    "# Bootstrapped Confidence Intervals"
   ]
  },
  {
   "cell_type": "code",
   "execution_count": 17,
   "metadata": {},
   "outputs": [
    {
     "name": "stdout",
     "output_type": "stream",
     "text": [
      "\n",
      "    Mean:\t71.70729500000002\n",
      "\n",
      "    Lower Percentile:\t2.5\n",
      "    Upper Percentile:\t97.5\n",
      "\n",
      "    Lower Bound:\t69.62495833333335\n",
      "    Upper Bound:\t73.7667083333333\n",
      "\n",
      "    Confidence Level:\t95%\n",
      "    \n"
     ]
    },
    {
     "data": {
      "image/png": "[encoded data removed]",
      "text/plain": [
       "<Figure size 432x288 with 1 Axes>"
      ]
     },
     "metadata": {
      "needs_background": "light"
     },
     "output_type": "display_data"
    }
   ],
   "source": [
    "# compute the lower percentile given a confidence interval\n",
    "def compute_lower_percentile(perc_conf):\n",
    "    \n",
    "    lower_perc = (100-perc_conf)/2\n",
    "    \n",
    "    return lower_perc\n",
    "\n",
    "# compute the upper percentile given a confidence interval\n",
    "def compute_upper_percentile(perc_conf):\n",
    "    \n",
    "    upper_perc = 100 - (100-perc_conf)/2 \n",
    "    \n",
    "    return upper_perc\n",
    "\n",
    "def compute_ci(confidence_level, sample_means):\n",
    "\n",
    "    # What is the mean we're estimating?\n",
    "    mean = np.mean(sample_means) \n",
    "\n",
    "    # What are the percentiles?\n",
    "    # Use the functions we made above\n",
    "    lower_perc = compute_lower_percentile(confidence_level)\n",
    "    upper_perc = compute_upper_percentile(confidence_level)\n",
    "\n",
    "    # And then our lower and upper bounds?\n",
    "    lower_bound = np.percentile(sample_means, lower_perc) \n",
    "    upper_bound = np.percentile(sample_means, upper_perc) \n",
    "\n",
    "    # Printing it out so we can easily see our results.\n",
    "    print(\"\"\"\n",
    "    Mean:\\t{}\n",
    "\n",
    "    Lower Percentile:\\t{}\n",
    "    Upper Percentile:\\t{}\n",
    "\n",
    "    Lower Bound:\\t{}\n",
    "    Upper Bound:\\t{}\n",
    "\n",
    "    Confidence Level:\\t{}%\n",
    "    \"\"\".format(mean, lower_perc, upper_perc, lower_bound, upper_bound, confidence_level))\n",
    "    \n",
    "    return lower_bound, upper_bound\n",
    "\n",
    "lower_bound, upper_bound = compute_ci(95, sample_means)\n",
    "\n",
    "def plot_ci(ci, lower_bound, upper_bound, sample_means, pop_mean):\n",
    "    plt.title(f\"{ci}% confidence interval\")\n",
    "    plt.hist(sample_means, bins=get_bins(sample_means, 0.5), density=True)\n",
    "    plt.scatter(pop_mean, 0, color='red', s=80).set_zorder(3)\n",
    "    plt.plot([lower_bound, upper_bound], [0,0], color='lime', linewidth=4, zorder=2)\n",
    "    \n",
    "plot_ci(95, lower_bound, upper_bound, sample_means, pop_mean)"
   ]
  },
  {
   "cell_type": "markdown",
   "metadata": {},
   "source": [
    "# A bit of recap info...\n",
    "\n",
    "---\n",
    "- Our **POPULATION DISTRIBUTION** is unknown, and can be any shape.\n",
    "\n",
    "\n",
    "- A **SAMPLE DISTRIBUTION** should have a shape roughly similar to the population distribution.  \n",
    "(provided that the sample was large enough and was properly randomized)\n",
    "\n",
    "\n",
    "- A **SAMPLE MEAN** is just the mean of that sample distribution. This is just a single value.\n",
    "\n",
    "\n",
    "- We can collect a handful of sample means (or fake it by bootstrapping)\n",
    "\n",
    "\n",
    "- The **DISTRIBUTION OF SAMPLE MEANS** will resemble a normal distribution as the number of sample means increases.\n",
    "\n",
    "\n",
    "- The **CENTER/MEAN** of the distribution of sample means should be similar to the true population mean.  \n",
    "(provided that our original sample was proper)\n",
    "\n",
    "## So what does this all mean...\n",
    "\n",
    "---\n",
    "\n",
    "Since we know that a normal distribution will arise as the number of resamples increases, then do we really need to go through all the effort of running a bootstrap?\n",
    "\n",
    "Instead, we can rely on what we know about normal distributions!  The two defining features of a normal distribution are its center/mean and it's spread/standard deviation.\n",
    "\n",
    "Let us compute the **mean** and **standard deviation** of our **DISTRIBUTION OF SAMPLE MEANS** and parameterize a normal curve!\n"
   ]
  },
  {
   "cell_type": "code",
   "execution_count": 18,
   "metadata": {},
   "outputs": [
    {
     "name": "stdout",
     "output_type": "stream",
     "text": [
      "Center (mean) : 71.707\n",
      "Spread (std) : 1.092\n"
     ]
    },
    {
     "data": {
      "image/png": "[encoded data removed]",
      "text/plain": [
       "<Figure size 432x288 with 1 Axes>"
      ]
     },
     "metadata": {
      "needs_background": "light"
     },
     "output_type": "display_data"
    }
   ],
   "source": [
    "from scipy.stats import norm\n",
    "\n",
    "# compute the mean\n",
    "sample_dist_mean = np.mean(sample_means) # SOLUTION\n",
    "sample_dist_std = np.std(sample_means) # SOLUTION\n",
    "\n",
    "# set limits for plot\n",
    "start = sample_dist_mean-5*sample_dist_std\n",
    "stop = sample_dist_mean+5*sample_dist_std\n",
    "x = np.linspace(start, stop, 100)\n",
    "\n",
    "plt.title(\"Distribution of Sample Means (and Normal Curve)\")\n",
    "\n",
    "# plot histogram\n",
    "plt.hist(sample_means, bins=get_bins(sample_means, 0.5), density=True)\n",
    "\n",
    "# plot normal curve\n",
    "plt.plot(x, norm.pdf(x, sample_dist_mean, sample_dist_std), c='r')\n",
    "\n",
    "print(f\"Center (mean) : {round(sample_dist_mean,3)}\")\n",
    "print(f\"Spread (std) : {round(sample_dist_std,3)}\")"
   ]
  },
  {
   "cell_type": "markdown",
   "metadata": {},
   "source": [
    "### We now know the Mean and Standard Deviation of the normal curve associated with the distribution of sample means\n",
    "\n",
    "As you can see above, this normal curve is centered at our sample mean (70.609 years) and has a standard deviation of 1.118 years.\n",
    "\n",
    "However, we often want to standardize this distribution to be centered at 0 and have a standard deviation of 1.\n",
    "\n",
    "Standardizing distributions make it very easy to compare multiple normal distributions that originally had vastly different centers and spreads. It also makes it really easy to compute different statistics about the distribution.\n",
    "\n",
    "Let's take a look at how to do that now."
   ]
  },
  {
   "cell_type": "markdown",
   "metadata": {},
   "source": [
    "# Standard Normal Curve "
   ]
  },
  {
   "cell_type": "markdown",
   "metadata": {},
   "source": [
    "## CENTERING\n",
    "- Mean = 0"
   ]
  },
  {
   "cell_type": "code",
   "execution_count": 19,
   "metadata": {},
   "outputs": [
    {
     "name": "stdout",
     "output_type": "stream",
     "text": [
      "First 5 sample means : \t\t\t[71.34833333 70.765      71.015      72.97166667 71.94166667]\n",
      "Center of sample distribution : \t71.707\n",
      "Std of sample distribution : \t\t1.092\n"
     ]
    }
   ],
   "source": [
    "# recall our sample of means\n",
    "print(f\"First 5 sample means : \\t\\t\\t{sample_means[:5]}\")\n",
    "print(f\"Center of sample distribution : \\t{round(sample_dist_mean,3)}\")\n",
    "print(f\"Std of sample distribution : \\t\\t{round(sample_dist_std,3)}\")"
   ]
  },
  {
   "cell_type": "code",
   "execution_count": 20,
   "metadata": {},
   "outputs": [
    {
     "name": "stdout",
     "output_type": "stream",
     "text": [
      "First 5 centered sample means : \t\t[-0.35896167 -0.942295   -0.692295    1.26437167  0.23437167]\n",
      "Center of centered sample distribution : \t-0.0\n",
      "Std of centered sample distribution : \t\t1.092\n"
     ]
    }
   ],
   "source": [
    "# center the data to have mean = 0\n",
    "centered_sample_means = sample_means - sample_dist_mean # SOLUTION\n",
    "centered_sample_dist_mean = centered_sample_means.mean() # SOLUTION\n",
    "centered_sample_dist_std = centered_sample_means.std() # SOLUTION\n",
    "\n",
    "print(f\"First 5 centered sample means : \\t\\t{centered_sample_means[:5]}\")\n",
    "print(f\"Center of centered sample distribution : \\t{round(centered_sample_dist_mean,3)}\")\n",
    "print(f\"Std of centered sample distribution : \\t\\t{round(centered_sample_dist_std,3)}\")"
   ]
  },
  {
   "cell_type": "code",
   "execution_count": 21,
   "metadata": {},
   "outputs": [
    {
     "data": {
      "text/plain": [
       "(array([0.01408451, 0.03822938, 0.10261569, 0.20523139, 0.28772636,\n",
       "        0.30985915, 0.39235412, 0.30784708, 0.16700201, 0.10663984,\n",
       "        0.05030181, 0.01408451, 0.00201207, 0.00201207]),\n",
       " array([-3. , -2.5, -2. , -1.5, -1. , -0.5,  0. ,  0.5,  1. ,  1.5,  2. ,\n",
       "         2.5,  3. ,  3.5,  4. ]),\n",
       " <a list of 14 Patch objects>)"
      ]
     },
     "execution_count": 21,
     "metadata": {},
     "output_type": "execute_result"
    },
    {
     "data": {
      "image/png": "[encoded data removed]",
      "text/plain": [
       "<Figure size 432x288 with 1 Axes>"
      ]
     },
     "metadata": {
      "needs_background": "light"
     },
     "output_type": "display_data"
    }
   ],
   "source": [
    "# visualize \n",
    "plt.title(\"Distribution of Sample Means (Centered)\")\n",
    "plt.hist(centered_sample_means, bins=get_bins(centered_sample_means, 0.5), density=True)"
   ]
  },
  {
   "cell_type": "markdown",
   "metadata": {},
   "source": [
    "## SCALING\n",
    "- Standard Deviation = 1"
   ]
  },
  {
   "cell_type": "code",
   "execution_count": 22,
   "metadata": {},
   "outputs": [
    {
     "name": "stdout",
     "output_type": "stream",
     "text": [
      "First 5 centered and scaled sample means : \t\t[-0.32870231 -0.86286244 -0.63393667  1.15778904  0.21461486]\n",
      "Center of centered and scaled sample distribution : \t-0.0\n",
      "Std of centered and scaled sample distribution : \t1.0\n"
     ]
    }
   ],
   "source": [
    "# scale the data to have std = 1\n",
    "centered_and_scaled_means = centered_sample_means / sample_dist_std # SOLUTION\n",
    "centered_and_scaled_sample_dist_mean = centered_and_scaled_means.mean() # SOLUTION\n",
    "centered_and_scaled_sample_dist_std = centered_and_scaled_means.std() # SOLUTION\n",
    "\n",
    "print(f\"First 5 centered and scaled sample means : \\t\\t{centered_and_scaled_means[:5]}\")\n",
    "print(f\"Center of centered and scaled sample distribution : \\t{round(centered_and_scaled_sample_dist_mean,3)}\")\n",
    "print(f\"Std of centered and scaled sample distribution : \\t{round(centered_and_scaled_sample_dist_std,3)}\")"
   ]
  },
  {
   "cell_type": "code",
   "execution_count": 23,
   "metadata": {},
   "outputs": [
    {
     "data": {
      "text/plain": [
       "(array([0.01408451, 0.03822938, 0.10261569, 0.20523139, 0.28772636,\n",
       "        0.30985915, 0.39235412, 0.30784708, 0.16700201, 0.10663984,\n",
       "        0.05030181, 0.01408451, 0.00201207, 0.00201207]),\n",
       " array([-3. , -2.5, -2. , -1.5, -1. , -0.5,  0. ,  0.5,  1. ,  1.5,  2. ,\n",
       "         2.5,  3. ,  3.5,  4. ]),\n",
       " <a list of 14 Patch objects>)"
      ]
     },
     "execution_count": 23,
     "metadata": {},
     "output_type": "execute_result"
    },
    {
     "data": {
      "image/png": "[encoded data removed]",
      "text/plain": [
       "<Figure size 432x288 with 1 Axes>"
      ]
     },
     "metadata": {
      "needs_background": "light"
     },
     "output_type": "display_data"
    }
   ],
   "source": [
    "# visualize \n",
    "plt.title(\"Distribution of Sample Means (Centered and Scaled)\")\n",
    "plt.hist(centered_sample_means, bins=get_bins(centered_and_scaled_means, 0.5), density=True)"
   ]
  },
  {
   "cell_type": "markdown",
   "metadata": {},
   "source": [
    "# Plot the normal curve"
   ]
  },
  {
   "cell_type": "code",
   "execution_count": 24,
   "metadata": {},
   "outputs": [
    {
     "name": "stdout",
     "output_type": "stream",
     "text": [
      "Center (mean) : -0.0\n",
      "Spread (std) : 1.0\n"
     ]
    },
    {
     "data": {
      "image/png": "[encoded data removed]",
      "text/plain": [
       "<Figure size 432x288 with 1 Axes>"
      ]
     },
     "metadata": {
      "needs_background": "light"
     },
     "output_type": "display_data"
    }
   ],
   "source": [
    "# get the mean and std\n",
    "\n",
    "centered_and_scaled_sample_dist_mean = centered_and_scaled_sample_dist_mean # SOLUTION\n",
    "centered_and_scaled_sample_dist_std = centered_and_scaled_sample_dist_std # SOLUTION\n",
    "\n",
    "# set limits for plot\n",
    "start = centered_and_scaled_sample_dist_mean-5*centered_and_scaled_sample_dist_std\n",
    "stop = centered_and_scaled_sample_dist_mean+5*centered_and_scaled_sample_dist_std\n",
    "x = np.linspace(start, stop, 100)\n",
    "\n",
    "plt.title(\"Distribution of Sample Means (and Normal Curve)\")\n",
    "\n",
    "# plot histogram\n",
    "plt.hist(centered_and_scaled_means, bins=get_bins(centered_and_scaled_means, 0.5), density=True)\n",
    "\n",
    "# plot normal curve\n",
    "plt.plot(x, norm.pdf(x, centered_and_scaled_sample_dist_mean, centered_and_scaled_sample_dist_std), c='r')\n",
    "\n",
    "print(f\"Center (mean) : {round(centered_and_scaled_sample_dist_mean,3)}\")\n",
    "print(f\"Spread (std) : {round(centered_and_scaled_sample_dist_std,3)}\")"
   ]
  },
  {
   "cell_type": "markdown",
   "metadata": {},
   "source": [
    "Now that we are looking at a normal distribution, let's talk about standard units and area.\n",
    "\n",
    "# Standard Units and Area\n",
    "- Define $z(x) = \\frac{x-\\text{mean}}{\\text{std}}$\n",
    "- $z(x)$ maps $x$ to standard units \n",
    "    - If a distribution is roughly normal, then the area between $a$ and $b$ is approx. equal to the area between $z(a)$ and $z(b)$"
   ]
  },
  {
   "cell_type": "markdown",
   "metadata": {},
   "source": [
    "## What proportion of countries have a life expectancy between 72 and 74 years?"
   ]
  },
  {
   "cell_type": "markdown",
   "metadata": {},
   "source": [
    "### Using Standard Units"
   ]
  },
  {
   "cell_type": "code",
   "execution_count": 25,
   "metadata": {},
   "outputs": [],
   "source": [
    "# define z(x)\n",
    "def z(x):\n",
    "    return (x - sample_dist_mean) / sample_dist_std # SOLUTION"
   ]
  },
  {
   "cell_type": "code",
   "execution_count": 26,
   "metadata": {},
   "outputs": [
    {
     "name": "stdout",
     "output_type": "stream",
     "text": [
      "Mean life expectancy : 71.71\n",
      "LOWER : 72 years --> 0.27 standard units --> 0.27 stdev's above the mean\n",
      "UPPER : 74 years --> 2.1 standard units --> 2.1 stdev's above the mean\n"
     ]
    }
   ],
   "source": [
    "# define age bounds\n",
    "lower_age = 72\n",
    "upper_age = 74\n",
    "\n",
    "# comute standard units\n",
    "lower_standard = z(lower_age) # SOLUTION\n",
    "upper_standard = z(upper_age) # SOLUTION\n",
    "\n",
    "print(f\"Mean life expectancy : {round(sample_dist_mean,2)}\")\n",
    "\n",
    "print(f\"LOWER : {lower_age} years --> {round(lower_standard,2)} standard units --> {round(lower_standard,2)} stdev's above the mean\")\n",
    "print(f\"UPPER : {upper_age} years --> {round(upper_standard,2)} standard units --> {round(upper_standard,2)} stdev's above the mean\")"
   ]
  },
  {
   "cell_type": "code",
   "execution_count": 27,
   "metadata": {},
   "outputs": [
    {
     "data": {
      "text/plain": [
       "0.37644858173370765"
      ]
     },
     "execution_count": 27,
     "metadata": {},
     "output_type": "execute_result"
    }
   ],
   "source": [
    "# compute the area under the curve between\n",
    "approx_prop_standard = stats.norm.cdf(upper_standard) - stats.norm.cdf(lower_standard) # SOLUTION\n",
    "approx_prop_standard"
   ]
  },
  {
   "cell_type": "code",
   "execution_count": 28,
   "metadata": {},
   "outputs": [
    {
     "data": {
      "text/plain": [
       "<matplotlib.lines.Line2D at 0x7f1e8d263f50>"
      ]
     },
     "execution_count": 28,
     "metadata": {},
     "output_type": "execute_result"
    },
    {
     "data": {
      "image/png": "[encoded data removed]",
      "text/plain": [
       "<Figure size 432x288 with 1 Axes>"
      ]
     },
     "metadata": {
      "needs_background": "light"
     },
     "output_type": "display_data"
    }
   ],
   "source": [
    "# plot area under curve\n",
    "\n",
    "plt.title(\"Area Under Curve (Standard)\")\n",
    "\n",
    "start = centered_and_scaled_sample_dist_mean-5*centered_and_scaled_sample_dist_std\n",
    "stop = centered_and_scaled_sample_dist_mean+5*centered_and_scaled_sample_dist_std\n",
    "x = np.linspace(start, stop, 100)\n",
    "y = norm.pdf(x, centered_and_scaled_sample_dist_mean, centered_and_scaled_sample_dist_std)\n",
    "\n",
    "# plot normal curve\n",
    "plt.plot(x, y, c='r')\n",
    "\n",
    "ix = (x>=lower_standard) & (x<=upper_standard)\n",
    "plt.fill_between(x[ix],y[ix],alpha=0.5)\n",
    "\n",
    "plt.axvline(lower_standard,color='C1')\n",
    "plt.axvline(upper_standard,color='C1')"
   ]
  },
  {
   "cell_type": "markdown",
   "metadata": {},
   "source": [
    "### Using Sample Distribution"
   ]
  },
  {
   "cell_type": "code",
   "execution_count": 29,
   "metadata": {},
   "outputs": [
    {
     "data": {
      "text/plain": [
       "0.394"
      ]
     },
     "execution_count": 29,
     "metadata": {},
     "output_type": "execute_result"
    }
   ],
   "source": [
    "# compute proportion using distribution\n",
    "approx_prop_dist = ((sample_means >= lower_age) & (sample_means <= upper_age)).mean() # SOLUTION\n",
    "approx_prop_dist"
   ]
  },
  {
   "cell_type": "code",
   "execution_count": 30,
   "metadata": {},
   "outputs": [
    {
     "data": {
      "text/plain": [
       "<matplotlib.lines.Line2D at 0x7f1e8d20ff50>"
      ]
     },
     "execution_count": 30,
     "metadata": {},
     "output_type": "execute_result"
    },
    {
     "data": {
      "image/png": "[encoded data removed]",
      "text/plain": [
       "<Figure size 432x288 with 1 Axes>"
      ]
     },
     "metadata": {
      "needs_background": "light"
     },
     "output_type": "display_data"
    }
   ],
   "source": [
    "# plot area under curve\n",
    "\n",
    "plt.title(\"Area Under Curve (Distribution)\")\n",
    "\n",
    "# plot histogram\n",
    "plt.hist(sample_means, bins=get_bins(sample_means, 0.5), density=True)\n",
    "\n",
    "ix = (x>=lower_age) & (x<=upper_age)\n",
    "plt.fill_between(x[ix],y[ix],alpha=0.5)\n",
    "\n",
    "plt.axvline(lower_age,color='C1')\n",
    "plt.axvline(upper_age,color='C1')"
   ]
  }
 ],
 "metadata": {
  "kernelspec": {
   "display_name": "Python 3",
   "language": "python",
   "name": "python3"
  },
  "language_info": {
   "codemirror_mode": {
    "name": "ipython",
    "version": 3
   },
   "file_extension": ".py",
   "mimetype": "text/x-python",
   "name": "python",
   "nbconvert_exporter": "python",
   "pygments_lexer": "ipython3",
   "version": "3.7.6"
  }
 },
 "nbformat": 4,
 "nbformat_minor": 2
}
