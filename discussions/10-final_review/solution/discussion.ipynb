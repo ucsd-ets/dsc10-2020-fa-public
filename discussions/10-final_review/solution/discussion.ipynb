{
 "cells": [
  {
   "cell_type": "code",
   "execution_count": 1,
   "metadata": {},
   "outputs": [],
   "source": [
    "import babypandas as bpd\n",
    "import matplotlib.pyplot as plt\n",
    "import numpy as np\n",
    "plt.style.use('fivethirtyeight')"
   ]
  },
  {
   "cell_type": "markdown",
   "metadata": {
    "slideshow": {
     "slide_type": "slide"
    }
   },
   "source": [
    "# DSC 10 - Final Exam Review\n",
    "\n",
    "<img src=\"data/panda.jpg\" width=\"800\">"
   ]
  },
  {
   "cell_type": "markdown",
   "metadata": {
    "slideshow": {
     "slide_type": "slide"
    }
   },
   "source": [
    "## The Final Exam\n",
    "\n",
    "### Monday, December 14th\n",
    "\n",
    "- Available in a 24 hour window.\n",
    "- 3 hours to complete; designed to take less.\n",
    "- Cumulative, with focus on Weeks 05 -- 10.\n",
    "- Open book, open note, open everything (but no talking about the exam)."
   ]
  },
  {
   "cell_type": "markdown",
   "metadata": {
    "slideshow": {
     "slide_type": "slide"
    }
   },
   "source": [
    "## The Final Project\n",
    "\n",
    "- Don't forget: due next week.\n",
    "- Excellent practice for the final exam."
   ]
  },
  {
   "cell_type": "markdown",
   "metadata": {
    "slideshow": {
     "slide_type": "slide"
    }
   },
   "source": [
    "## The Final Discussion\n",
    "\n",
    "- The stuff from the second part of the quarter was more *conceptual*.\n",
    "- The final exam will therefore have more *conceptual* questions.\n",
    "- Here, we'll review the main concepts from second part of the quarter."
   ]
  },
  {
   "cell_type": "markdown",
   "metadata": {
    "slideshow": {
     "slide_type": "slide"
    }
   },
   "source": [
    "# Concept 1: Distributions"
   ]
  },
  {
   "cell_type": "markdown",
   "metadata": {
    "slideshow": {
     "slide_type": "slide"
    }
   },
   "source": [
    "## Distributions\n",
    "\n",
    "- A *ditribution* tells us the probability of each possible outcome.\n",
    "- Often visualized with a *histogram*."
   ]
  },
  {
   "cell_type": "markdown",
   "metadata": {
    "slideshow": {
     "slide_type": "slide"
    }
   },
   "source": [
    "## Example"
   ]
  },
  {
   "cell_type": "code",
   "execution_count": 2,
   "metadata": {},
   "outputs": [
    {
     "data": {
      "text/plain": [
       "<matplotlib.axes._subplots.AxesSubplot at 0x11d720210>"
      ]
     },
     "execution_count": 2,
     "metadata": {},
     "output_type": "execute_result"
    },
    {
     "data": {
      "image/png": "[encoded data removed]",
      "text/plain": [
       "<Figure size 432x288 with 1 Axes>"
      ]
     },
     "metadata": {},
     "output_type": "display_data"
    }
   ],
   "source": [
    "flights = bpd.read_csv('united_summer2015.csv')\n",
    "flights.plot(kind='hist', y='Delay', bins=20, density=True)"
   ]
  },
  {
   "cell_type": "markdown",
   "metadata": {
    "slideshow": {
     "slide_type": "slide"
    }
   },
   "source": [
    "# Concept 2: Sampling"
   ]
  },
  {
   "cell_type": "markdown",
   "metadata": {
    "slideshow": {
     "slide_type": "slide"
    }
   },
   "source": [
    "## Populations and Samples"
   ]
  },
  {
   "cell_type": "markdown",
   "metadata": {},
   "source": [
    "- The *population* is the \"entire\" data set. We don't usually see it.\n",
    "- Instead, we see a *sample* whose size is smaller than the population.\n",
    "- We usually obtain the sample *randomly*."
   ]
  },
  {
   "cell_type": "code",
   "execution_count": 3,
   "metadata": {},
   "outputs": [],
   "source": [
    "population = flights"
   ]
  },
  {
   "cell_type": "markdown",
   "metadata": {
    "slideshow": {
     "slide_type": "slide"
    }
   },
   "source": [
    "## With/Without Replacement\n",
    "\n",
    "- We have the option to randomly sample with/without replacement."
   ]
  },
  {
   "cell_type": "code",
   "execution_count": 4,
   "metadata": {},
   "outputs": [
    {
     "data": {
      "text/html": [
       "<div>\n",
       "<style scoped>\n",
       "    .dataframe tbody tr th:only-of-type {\n",
       "        vertical-align: middle;\n",
       "    }\n",
       "\n",
       "    .dataframe tbody tr th {\n",
       "        vertical-align: top;\n",
       "    }\n",
       "\n",
       "    .dataframe thead th {\n",
       "        text-align: right;\n",
       "    }\n",
       "</style>\n",
       "<table border=\"1\" class=\"dataframe\">\n",
       "  <thead>\n",
       "    <tr style=\"text-align: right;\">\n",
       "      <th></th>\n",
       "      <th>Date</th>\n",
       "      <th>Flight Number</th>\n",
       "      <th>Destination</th>\n",
       "      <th>Delay</th>\n",
       "    </tr>\n",
       "  </thead>\n",
       "  <tbody>\n",
       "    <tr>\n",
       "      <th>11892</th>\n",
       "      <td>8/18/15</td>\n",
       "      <td>1247</td>\n",
       "      <td>SAN</td>\n",
       "      <td>4</td>\n",
       "    </tr>\n",
       "    <tr>\n",
       "      <th>305</th>\n",
       "      <td>6/3/15</td>\n",
       "      <td>317</td>\n",
       "      <td>IND</td>\n",
       "      <td>25</td>\n",
       "    </tr>\n",
       "    <tr>\n",
       "      <th>13223</th>\n",
       "      <td>8/27/15</td>\n",
       "      <td>1669</td>\n",
       "      <td>ORD</td>\n",
       "      <td>-7</td>\n",
       "    </tr>\n",
       "    <tr>\n",
       "      <th>12070</th>\n",
       "      <td>8/19/15</td>\n",
       "      <td>1670</td>\n",
       "      <td>HNL</td>\n",
       "      <td>-3</td>\n",
       "    </tr>\n",
       "    <tr>\n",
       "      <th>12170</th>\n",
       "      <td>8/20/15</td>\n",
       "      <td>1120</td>\n",
       "      <td>BOS</td>\n",
       "      <td>32</td>\n",
       "    </tr>\n",
       "    <tr>\n",
       "      <th>...</th>\n",
       "      <td>...</td>\n",
       "      <td>...</td>\n",
       "      <td>...</td>\n",
       "      <td>...</td>\n",
       "    </tr>\n",
       "    <tr>\n",
       "      <th>12463</th>\n",
       "      <td>8/22/15</td>\n",
       "      <td>1173</td>\n",
       "      <td>EWR</td>\n",
       "      <td>-4</td>\n",
       "    </tr>\n",
       "    <tr>\n",
       "      <th>5820</th>\n",
       "      <td>7/10/15</td>\n",
       "      <td>249</td>\n",
       "      <td>IAD</td>\n",
       "      <td>6</td>\n",
       "    </tr>\n",
       "    <tr>\n",
       "      <th>6534</th>\n",
       "      <td>7/14/15</td>\n",
       "      <td>1686</td>\n",
       "      <td>DCA</td>\n",
       "      <td>36</td>\n",
       "    </tr>\n",
       "    <tr>\n",
       "      <th>1286</th>\n",
       "      <td>6/9/15</td>\n",
       "      <td>1440</td>\n",
       "      <td>IAD</td>\n",
       "      <td>-2</td>\n",
       "    </tr>\n",
       "    <tr>\n",
       "      <th>3933</th>\n",
       "      <td>6/27/15</td>\n",
       "      <td>273</td>\n",
       "      <td>SEA</td>\n",
       "      <td>-13</td>\n",
       "    </tr>\n",
       "  </tbody>\n",
       "</table>\n",
       "<p>2000 rows × 4 columns</p>\n",
       "</div>"
      ],
      "text/plain": [
       "          Date  Flight Number Destination  Delay\n",
       "11892  8/18/15           1247         SAN      4\n",
       "305     6/3/15            317         IND     25\n",
       "13223  8/27/15           1669         ORD     -7\n",
       "12070  8/19/15           1670         HNL     -3\n",
       "12170  8/20/15           1120         BOS     32\n",
       "...        ...            ...         ...    ...\n",
       "12463  8/22/15           1173         EWR     -4\n",
       "5820   7/10/15            249         IAD      6\n",
       "6534   7/14/15           1686         DCA     36\n",
       "1286    6/9/15           1440         IAD     -2\n",
       "3933   6/27/15            273         SEA    -13\n",
       "\n",
       "[2000 rows x 4 columns]"
      ]
     },
     "execution_count": 4,
     "metadata": {},
     "output_type": "execute_result"
    }
   ],
   "source": [
    "population.sample(2000, replace=True)"
   ]
  },
  {
   "cell_type": "markdown",
   "metadata": {
    "slideshow": {
     "slide_type": "slide"
    }
   },
   "source": [
    "## Examples\n",
    "\n",
    "In each of the following experiments, 1) what is the population? 2) should we sample with or without replacement?\n",
    "\n",
    "- Picking a team of 5 from a class of 100 people.\n",
    "- Rolling a 6-sided die, 20 times.\n",
    "- Randomly generating names for 100 babies born."
   ]
  },
  {
   "cell_type": "markdown",
   "metadata": {
    "slideshow": {
     "slide_type": "slide"
    }
   },
   "source": [
    "# Concept 3: Estimation"
   ]
  },
  {
   "cell_type": "markdown",
   "metadata": {
    "slideshow": {
     "slide_type": "slide"
    }
   },
   "source": [
    "- We want to know some aspect (parameter) of the *population*.\n",
    "    - Example: the average flight delay, or total number of planes produced\n",
    "- We don't have the population, only a sample.\n",
    "- So we try to *estimate* the parameter using the sample."
   ]
  },
  {
   "cell_type": "markdown",
   "metadata": {
    "slideshow": {
     "slide_type": "slide"
    }
   },
   "source": [
    "## Statistics\n",
    "\n",
    "- A statistic is any number computed from a sample.\n",
    "- We compute a *statistic* to *estimate* a population *parameter*.\n",
    "- Example: sample mean flight delay."
   ]
  },
  {
   "cell_type": "markdown",
   "metadata": {
    "slideshow": {
     "slide_type": "slide"
    }
   },
   "source": [
    "## The Problem\n",
    "\n",
    "- You randomly select a sample and compute your statistic.\n",
    "    - Example: the sample mean flight delay is 14 minutes.\n",
    "- Your hope: it is close to the \"right answer\" (the pop. mean).\n",
    "- You can never know *exactly* how close it is without having the population.\n",
    "- The power of statistics: you can say how *likely* it is to be within a certain distance."
   ]
  },
  {
   "cell_type": "markdown",
   "metadata": {
    "slideshow": {
     "slide_type": "slide"
    }
   },
   "source": [
    "## Sampling Distribution\n",
    "\n",
    "- The sample is random; so your sample statistic is, too.\n",
    "- I.e., it could have been different.\n",
    "- The *sampling distribution* tells us the probability of those different outcomes.\n",
    "- I.e., it tells us how different sample mean *could have been*."
   ]
  },
  {
   "cell_type": "code",
   "execution_count": 5,
   "metadata": {},
   "outputs": [
    {
     "data": {
      "text/plain": [
       "16.6685"
      ]
     },
     "execution_count": 5,
     "metadata": {},
     "output_type": "execute_result"
    }
   ],
   "source": [
    "observed_mean = population.sample(2000).get('Delay').mean()\n",
    "observed_mean"
   ]
  },
  {
   "cell_type": "markdown",
   "metadata": {
    "slideshow": {
     "slide_type": "slide"
    }
   },
   "source": [
    "## Simulating the Sampling Distribution\n",
    "\n",
    "- Let's get more samples from the population, compute mean of each.\n",
    "- **Problem**: In the real world we (usually) can't do this."
   ]
  },
  {
   "cell_type": "code",
   "execution_count": 6,
   "metadata": {},
   "outputs": [],
   "source": [
    "sample_means = np.array([])\n",
    "for i in np.arange(1000):\n",
    "    mean = population.get('Delay').sample(2000).mean()\n",
    "    sample_means = np.append(sample_means, mean)"
   ]
  },
  {
   "cell_type": "code",
   "execution_count": 7,
   "metadata": {},
   "outputs": [
    {
     "data": {
      "text/plain": [
       "<matplotlib.collections.PathCollection at 0x11dfe47d0>"
      ]
     },
     "execution_count": 7,
     "metadata": {},
     "output_type": "execute_result"
    },
    {
     "data": {
      "image/png": "[encoded data removed]",
      "text/plain": [
       "<Figure size 432x288 with 1 Axes>"
      ]
     },
     "metadata": {},
     "output_type": "display_data"
    }
   ],
   "source": [
    "plt.hist(sample_means)\n",
    "plt.scatter(observed_mean, 0, color='red', zorder=10)"
   ]
  },
  {
   "cell_type": "markdown",
   "metadata": {
    "slideshow": {
     "slide_type": "slide"
    }
   },
   "source": [
    "## Sampling Distribution\n",
    "\n",
    "- We'd love to know the sampling distribution.\n",
    "- But we just have one sample.\n",
    "- How do we approximate the sampling distribution with just one sample?\n",
    "- Answers: the Bootstrap and the Central Limit Theorem"
   ]
  },
  {
   "cell_type": "markdown",
   "metadata": {
    "slideshow": {
     "slide_type": "slide"
    }
   },
   "source": [
    "# Concept 4: The Bootstrap"
   ]
  },
  {
   "cell_type": "markdown",
   "metadata": {
    "slideshow": {
     "slide_type": "slide"
    }
   },
   "source": [
    "## The Boostrap\n",
    "\n",
    "- Problem: we want to know the sample distribution of our statistic, but we just have one sample."
   ]
  },
  {
   "cell_type": "code",
   "execution_count": 8,
   "metadata": {},
   "outputs": [
    {
     "data": {
      "text/plain": [
       "<matplotlib.collections.PathCollection at 0x11e1dc890>"
      ]
     },
     "execution_count": 8,
     "metadata": {},
     "output_type": "execute_result"
    },
    {
     "data": {
      "image/png": "[encoded data removed]",
      "text/plain": [
       "<Figure size 432x288 with 1 Axes>"
      ]
     },
     "metadata": {},
     "output_type": "display_data"
    }
   ],
   "source": [
    "original_sample = population.sample(2000)\n",
    "plt.hist(sample_means, alpha=.1, color='black')\n",
    "plt.scatter(original_sample.get('Delay').mean(), 0, color='red', zorder=10)"
   ]
  },
  {
   "cell_type": "markdown",
   "metadata": {
    "slideshow": {
     "slide_type": "slide"
    }
   },
   "source": [
    "## Idea\n",
    "\n",
    "- I wish I had the population; then I could get more samples:"
   ]
  },
  {
   "cell_type": "code",
   "execution_count": 9,
   "metadata": {},
   "outputs": [],
   "source": [
    "another_sample = population.sample(2000)"
   ]
  },
  {
   "cell_type": "markdown",
   "metadata": {},
   "source": [
    "- I don't have the population.\n",
    "- But hey, the original sample probably looks like the population. Let's sample from it."
   ]
  },
  {
   "cell_type": "code",
   "execution_count": 10,
   "metadata": {},
   "outputs": [],
   "source": [
    "bootstrap_sample = original_sample.sample(2000, replace=True)"
   ]
  },
  {
   "cell_type": "markdown",
   "metadata": {
    "slideshow": {
     "slide_type": "slide"
    }
   },
   "source": [
    "## Boostrapping and Replacement\n",
    "\n",
    "- **Important**: when we get a boostrap sample, we sample *with* replacement. Why?\n",
    "- If we didn't we'd just get the same data set back:"
   ]
  },
  {
   "cell_type": "code",
   "execution_count": 11,
   "metadata": {},
   "outputs": [
    {
     "data": {
      "text/plain": [
       "16.557"
      ]
     },
     "execution_count": 11,
     "metadata": {},
     "output_type": "execute_result"
    }
   ],
   "source": [
    "original_sample.sample(2000, replace=True).get('Delay').mean()"
   ]
  },
  {
   "cell_type": "markdown",
   "metadata": {
    "slideshow": {
     "slide_type": "slide"
    }
   },
   "source": [
    "## Bootstrapping and Duplicates\n",
    "\n",
    "- If we sample with replacement, we'll get duplicates.\n",
    "- This is OK! In fact, it is necessary.\n",
    "- The mean doesn't care about duplicates.\n",
    "    - mean of [1.9, 2.1, 6.1, 6.2] is $\\approx$ mean of [2, 2, 6, 6]"
   ]
  },
  {
   "cell_type": "code",
   "execution_count": 12,
   "metadata": {},
   "outputs": [
    {
     "data": {
      "image/png": "[encoded data removed]",
      "text/plain": [
       "<Figure size 432x288 with 1 Axes>"
      ]
     },
     "metadata": {},
     "output_type": "display_data"
    },
    {
     "data": {
      "image/png": "[encoded data removed]",
      "text/plain": [
       "<Figure size 432x288 with 1 Axes>"
      ]
     },
     "metadata": {},
     "output_type": "display_data"
    },
    {
     "data": {
      "image/png": "[encoded data removed]",
      "text/plain": [
       "<Figure size 432x288 with 1 Axes>"
      ]
     },
     "metadata": {},
     "output_type": "display_data"
    },
    {
     "data": {
      "image/png": "[encoded data removed]",
      "text/plain": [
       "<Figure size 432x288 with 1 Axes>"
      ]
     },
     "metadata": {},
     "output_type": "display_data"
    },
    {
     "data": {
      "image/png": "[encoded data removed]",
      "text/plain": [
       "<Figure size 432x288 with 1 Axes>"
      ]
     },
     "metadata": {},
     "output_type": "display_data"
    }
   ],
   "source": [
    "for i in range(5):\n",
    "    original_sample.sample(1000, replace=True).plot(kind='hist', y='Delay')"
   ]
  },
  {
   "cell_type": "markdown",
   "metadata": {
    "slideshow": {
     "slide_type": "slide"
    }
   },
   "source": [
    "## Example"
   ]
  },
  {
   "cell_type": "code",
   "execution_count": 13,
   "metadata": {},
   "outputs": [],
   "source": [
    "bootstrap_sample_means = np.array([])\n",
    "for i in np.arange(5000):\n",
    "    bootstrap_sample_mean = original_sample.get('Delay').sample(original_sample.shape[0], replace=True).mean()\n",
    "    bootstrap_sample_means = np.append(bootstrap_sample_means, bootstrap_sample_mean)"
   ]
  },
  {
   "cell_type": "code",
   "execution_count": 14,
   "metadata": {},
   "outputs": [
    {
     "data": {
      "text/plain": [
       "(array([0.00352889, 0.02470225, 0.10939568, 0.25760918, 0.43758271,\n",
       "        0.44816939, 0.30348478, 0.12880459, 0.03705337, 0.01411557]),\n",
       " array([13.7595 , 14.32625, 14.893  , 15.45975, 16.0265 , 16.59325,\n",
       "        17.16   , 17.72675, 18.2935 , 18.86025, 19.427  ]),\n",
       " <a list of 10 Patch objects>)"
      ]
     },
     "execution_count": 14,
     "metadata": {},
     "output_type": "execute_result"
    },
    {
     "data": {
      "image/png": "[encoded data removed]",
      "text/plain": [
       "<Figure size 432x288 with 1 Axes>"
      ]
     },
     "metadata": {},
     "output_type": "display_data"
    }
   ],
   "source": [
    "plt.hist(bootstrap_sample_means, density=True)\n",
    "plt.hist(sample_means, density=True, alpha=.85)"
   ]
  },
  {
   "cell_type": "markdown",
   "metadata": {
    "slideshow": {
     "slide_type": "slide"
    }
   },
   "source": [
    "# Concept 5: The Central Limit Theorem"
   ]
  },
  {
   "cell_type": "markdown",
   "metadata": {
    "slideshow": {
     "slide_type": "slide"
    }
   },
   "source": [
    "## The CLT\n",
    "\n",
    "- Problem: we want to know the sample distribution of our statistic, but we just have one sample."
   ]
  },
  {
   "cell_type": "code",
   "execution_count": 15,
   "metadata": {},
   "outputs": [
    {
     "data": {
      "text/plain": [
       "<matplotlib.collections.PathCollection at 0x11e0416d0>"
      ]
     },
     "execution_count": 15,
     "metadata": {},
     "output_type": "execute_result"
    },
    {
     "data": {
      "image/png": "[encoded data removed]",
      "text/plain": [
       "<Figure size 432x288 with 1 Axes>"
      ]
     },
     "metadata": {},
     "output_type": "display_data"
    }
   ],
   "source": [
    "original_sample = population.sample(2000)\n",
    "plt.hist(sample_means, alpha=.1, color='black')\n",
    "plt.scatter(original_sample.get('Delay').mean(), 0, color='red', zorder=10)"
   ]
  },
  {
   "cell_type": "markdown",
   "metadata": {
    "slideshow": {
     "slide_type": "slide"
    }
   },
   "source": [
    "## Idea\n",
    "\n",
    "- Some smart people proved that the distribution of the *sample mean* will be (approximately) normal.\n",
    "- This is the **Central Limit Theorem**:\n",
    "\n",
    "> The sampling distribution of the sample mean is approximately a normal curve, centered at the population mean, and with standard deviation equal to the population standard deviation over the square root of the sample size."
   ]
  },
  {
   "cell_type": "markdown",
   "metadata": {
    "slideshow": {
     "slide_type": "slide"
    }
   },
   "source": [
    "## CLT\n",
    "\n",
    "- The CLT let's us approximate the sample distribution of the mean without getting more samples or running the bootstrap.\n",
    "- Small problem: we don't have the sample mean/SD. That's OK, just use the sample mean/SD."
   ]
  },
  {
   "cell_type": "markdown",
   "metadata": {
    "slideshow": {
     "slide_type": "slide"
    }
   },
   "source": [
    "## Careful!\n",
    "\n",
    "- There are lots of distributions here. The population distribution, the sample distribution, and the distribution of the sample mean, each with their own mean / SD."
   ]
  },
  {
   "cell_type": "code",
   "execution_count": 16,
   "metadata": {},
   "outputs": [
    {
     "data": {
      "text/plain": [
       "<matplotlib.axes._subplots.AxesSubplot at 0x11e33bd50>"
      ]
     },
     "execution_count": 16,
     "metadata": {},
     "output_type": "execute_result"
    },
    {
     "data": {
      "image/png": "[encoded data removed]",
      "text/plain": [
       "<Figure size 432x288 with 1 Axes>"
      ]
     },
     "metadata": {},
     "output_type": "display_data"
    }
   ],
   "source": [
    "population.plot(kind='hist', y='Delay')"
   ]
  },
  {
   "cell_type": "code",
   "execution_count": 17,
   "metadata": {},
   "outputs": [
    {
     "data": {
      "text/plain": [
       "<matplotlib.axes._subplots.AxesSubplot at 0x11e575f90>"
      ]
     },
     "execution_count": 17,
     "metadata": {},
     "output_type": "execute_result"
    },
    {
     "data": {
      "image/png": "[encoded data removed]",
      "text/plain": [
       "<Figure size 432x288 with 1 Axes>"
      ]
     },
     "metadata": {},
     "output_type": "display_data"
    }
   ],
   "source": [
    "original_sample.plot(kind='hist', y='Delay')"
   ]
  },
  {
   "cell_type": "code",
   "execution_count": 18,
   "metadata": {},
   "outputs": [
    {
     "data": {
      "text/plain": [
       "(array([  2.,  14.,  62., 146., 248., 254., 172.,  73.,  21.,   8.]),\n",
       " array([13.7595 , 14.32625, 14.893  , 15.45975, 16.0265 , 16.59325,\n",
       "        17.16   , 17.72675, 18.2935 , 18.86025, 19.427  ]),\n",
       " <a list of 10 Patch objects>)"
      ]
     },
     "execution_count": 18,
     "metadata": {},
     "output_type": "execute_result"
    },
    {
     "data": {
      "image/png": "[encoded data removed]",
      "text/plain": [
       "<Figure size 432x288 with 1 Axes>"
      ]
     },
     "metadata": {},
     "output_type": "display_data"
    }
   ],
   "source": [
    "plt.hist(sample_means)"
   ]
  },
  {
   "cell_type": "markdown",
   "metadata": {
    "slideshow": {
     "slide_type": "slide"
    }
   },
   "source": [
    "## Example"
   ]
  },
  {
   "cell_type": "code",
   "execution_count": 19,
   "metadata": {},
   "outputs": [],
   "source": [
    "def norm(x, mu, sigma):\n",
    "    return 1/np.sqrt(2 * np.pi * sigma**2) * np.exp(-0.5 * (x - mu)**2 / sigma**2)"
   ]
  },
  {
   "cell_type": "code",
   "execution_count": 20,
   "metadata": {},
   "outputs": [],
   "source": [
    "mu = original_sample.get('Delay').mean()\n",
    "sigma = np.std(original_sample.get('Delay')) / np.sqrt(2000)"
   ]
  },
  {
   "cell_type": "code",
   "execution_count": 21,
   "metadata": {},
   "outputs": [
    {
     "data": {
      "text/plain": [
       "[<matplotlib.lines.Line2D at 0x11e226ad0>]"
      ]
     },
     "execution_count": 21,
     "metadata": {},
     "output_type": "execute_result"
    },
    {
     "data": {
      "image/png": "[encoded data removed]",
      "text/plain": [
       "<Figure size 432x288 with 1 Axes>"
      ]
     },
     "metadata": {},
     "output_type": "display_data"
    }
   ],
   "source": [
    "x_clt = np.linspace(14, 20, 100)\n",
    "y_clt = norm(x_clt, mu, sigma)\n",
    "plt.plot(x_clt, y_clt)"
   ]
  },
  {
   "cell_type": "markdown",
   "metadata": {
    "slideshow": {
     "slide_type": "slide"
    }
   },
   "source": [
    "## CLT vs Boostrapping\n",
    "\n",
    "- The CLT and Boostrapping are two ways of approximating a sampling distribution.\n",
    "    - How different could our estimate have been?\n",
    "- However, the CLT is **only** useful when talking about the sample mean (or sample sum).\n",
    "- The boostrap is more generally useful. Example: the sample median."
   ]
  },
  {
   "cell_type": "markdown",
   "metadata": {
    "slideshow": {
     "slide_type": "slide"
    }
   },
   "source": [
    "## When to use the CLT vs the Boostrap\n",
    "\n",
    "- If we're talking about the sample mean, use the CLT.\n",
    "- *Could* use the boostrap, but it's less accurate/slower.\n",
    "- If we're talking about another statistic (e.g., median), use the bootstrap."
   ]
  },
  {
   "cell_type": "markdown",
   "metadata": {
    "slideshow": {
     "slide_type": "slide"
    }
   },
   "source": [
    "# Concept 6: Confidence Intervals"
   ]
  },
  {
   "cell_type": "markdown",
   "metadata": {
    "slideshow": {
     "slide_type": "slide"
    }
   },
   "source": [
    "## Confidence Intervals\n",
    "\n",
    "- How different could our estimate have been?\n",
    "- Instead of giving a single estimate, give an interval and a \"confidence level\".\n",
    "- E.g., \"I'm 95% sure that the population mean flight delay is between 14 and 17\"."
   ]
  },
  {
   "cell_type": "markdown",
   "metadata": {
    "slideshow": {
     "slide_type": "slide"
    }
   },
   "source": [
    "## CIs and the Sampling Distribution"
   ]
  },
  {
   "cell_type": "markdown",
   "metadata": {},
   "source": [
    "- If we have a sampling distribution, we can construct a CI (no matter how we got the sampling distribution)."
   ]
  },
  {
   "cell_type": "code",
   "execution_count": 22,
   "metadata": {},
   "outputs": [
    {
     "data": {
      "text/plain": [
       "(array([0.00710422, 0.06490676, 0.19988698, 0.40203439, 0.46758699,\n",
       "        0.31323161, 0.127876  , 0.02680229, 0.00387503, 0.00129168]),\n",
       " array([14.015  , 14.63435, 15.2537 , 15.87305, 16.4924 , 17.11175,\n",
       "        17.7311 , 18.35045, 18.9698 , 19.58915, 20.2085 ]),\n",
       " <a list of 10 Patch objects>)"
      ]
     },
     "execution_count": 22,
     "metadata": {},
     "output_type": "execute_result"
    },
    {
     "data": {
      "image/png": "[encoded data removed]",
      "text/plain": [
       "<Figure size 432x288 with 1 Axes>"
      ]
     },
     "metadata": {},
     "output_type": "display_data"
    }
   ],
   "source": [
    "plt.hist(sample_means, density=True)\n",
    "plt.plot(x_clt, y_clt)\n",
    "plt.hist(bootstrap_sample_means, density=True, alpha=0.85)"
   ]
  },
  {
   "cell_type": "markdown",
   "metadata": {
    "slideshow": {
     "slide_type": "slide"
    }
   },
   "source": [
    "## Constructing CIs"
   ]
  },
  {
   "cell_type": "markdown",
   "metadata": {},
   "source": [
    "- An $x$% CI contains the middle $x$% of the sampling distribution.\n",
    "- Two ways:\n",
    "    1. If we have a bunch of sample statistics (like from the boostrap), we can use `np.percentile`.\n",
    "    2. If we're using the CLT, we can use the rule of thumb: 95% of normal curve is within 2 SDs of mean."
   ]
  },
  {
   "cell_type": "markdown",
   "metadata": {
    "slideshow": {
     "slide_type": "slide"
    }
   },
   "source": [
    "## Example: From the Actual Sampling Distribution"
   ]
  },
  {
   "cell_type": "code",
   "execution_count": 23,
   "metadata": {},
   "outputs": [
    {
     "data": {
      "text/plain": [
       "[15.1053625, 18.3181]"
      ]
     },
     "execution_count": 23,
     "metadata": {},
     "output_type": "execute_result"
    }
   ],
   "source": [
    "[left_sms, right_sms] = np.percentile(sample_means, 2.5), np.percentile(sample_means, 97.5)\n",
    "[left_sms, right_sms]"
   ]
  },
  {
   "cell_type": "code",
   "execution_count": 24,
   "metadata": {},
   "outputs": [
    {
     "data": {
      "text/plain": [
       "[<matplotlib.lines.Line2D at 0x11e3ecf10>]"
      ]
     },
     "execution_count": 24,
     "metadata": {},
     "output_type": "execute_result"
    },
    {
     "data": {
      "image/png": "[encoded data removed]",
      "text/plain": [
       "<Figure size 432x288 with 1 Axes>"
      ]
     },
     "metadata": {},
     "output_type": "display_data"
    }
   ],
   "source": [
    "plt.hist(sample_means)\n",
    "plt.plot([left_sms, right_sms], [0,0], color='lime', linewidth=10, zorder=10)"
   ]
  },
  {
   "cell_type": "markdown",
   "metadata": {
    "slideshow": {
     "slide_type": "slide"
    }
   },
   "source": [
    "## Example: From the Boostrap Sampling Distribution"
   ]
  },
  {
   "cell_type": "code",
   "execution_count": 25,
   "metadata": {},
   "outputs": [
    {
     "data": {
      "text/plain": [
       "[15.072474999999999, 18.2891]"
      ]
     },
     "execution_count": 25,
     "metadata": {},
     "output_type": "execute_result"
    }
   ],
   "source": [
    "[left_boot, right_boot] = np.percentile(bootstrap_sample_means, 2.5), np.percentile(bootstrap_sample_means, 97.5)\n",
    "[left_boot, right_boot]"
   ]
  },
  {
   "cell_type": "code",
   "execution_count": 26,
   "metadata": {},
   "outputs": [
    {
     "data": {
      "text/plain": [
       "[<matplotlib.lines.Line2D at 0x11e381a10>]"
      ]
     },
     "execution_count": 26,
     "metadata": {},
     "output_type": "execute_result"
    },
    {
     "data": {
      "image/png": "[encoded data removed]",
      "text/plain": [
       "<Figure size 432x288 with 1 Axes>"
      ]
     },
     "metadata": {},
     "output_type": "display_data"
    }
   ],
   "source": [
    "plt.hist(bootstrap_sample_means, color='C2')\n",
    "plt.plot([left_boot, right_boot], [0,0], color='lime', linewidth=10, zorder=10)"
   ]
  },
  {
   "cell_type": "markdown",
   "metadata": {
    "slideshow": {
     "slide_type": "slide"
    }
   },
   "source": [
    "## Example: From the CLT"
   ]
  },
  {
   "cell_type": "code",
   "execution_count": 27,
   "metadata": {},
   "outputs": [],
   "source": [
    "import scipy.stats"
   ]
  },
  {
   "cell_type": "code",
   "execution_count": 28,
   "metadata": {},
   "outputs": [],
   "source": [
    "[left_clt, right_clt] = [\n",
    "    original_sample.get('Delay').mean() - 2 * np.std(original_sample.get('Delay')) / np.sqrt(2000),\n",
    "    original_sample.get('Delay').mean() + 2 * np.std(original_sample.get('Delay')) / np.sqrt(2000),\n",
    "]"
   ]
  },
  {
   "cell_type": "code",
   "execution_count": 29,
   "metadata": {},
   "outputs": [
    {
     "data": {
      "text/plain": [
       "[<matplotlib.lines.Line2D at 0x11e2e8a50>]"
      ]
     },
     "execution_count": 29,
     "metadata": {},
     "output_type": "execute_result"
    },
    {
     "data": {
      "image/png": "[encoded data removed]",
      "text/plain": [
       "<Figure size 432x288 with 1 Axes>"
      ]
     },
     "metadata": {},
     "output_type": "display_data"
    }
   ],
   "source": [
    "plt.plot(x_clt, y_clt, color='C1')\n",
    "plt.plot([left_clt, right_clt], [0,0], color='lime', linewidth=10, zorder=10)"
   ]
  },
  {
   "cell_type": "markdown",
   "metadata": {
    "slideshow": {
     "slide_type": "slide"
    }
   },
   "source": [
    "## Comparison"
   ]
  },
  {
   "cell_type": "code",
   "execution_count": 30,
   "metadata": {},
   "outputs": [
    {
     "data": {
      "text/plain": [
       "<matplotlib.collections.PathCollection at 0x12279b1d0>"
      ]
     },
     "execution_count": 30,
     "metadata": {},
     "output_type": "execute_result"
    },
    {
     "data": {
      "image/png": "[encoded data removed]",
      "text/plain": [
       "<Figure size 432x288 with 1 Axes>"
      ]
     },
     "metadata": {},
     "output_type": "display_data"
    }
   ],
   "source": [
    "plt.plot([left_clt, right_clt], [.2, .2], color='C1', linewidth=10, zorder=10)\n",
    "plt.plot([left_boot, right_boot], [.1,.1], color='C2', linewidth=10, zorder=10)\n",
    "plt.plot([left_sms, right_sms], [0,0], color='C0', linewidth=10, zorder=10)\n",
    "plt.scatter(population.get('Delay').mean(), -.1, color='black', s=200)"
   ]
  },
  {
   "cell_type": "markdown",
   "metadata": {
    "slideshow": {
     "slide_type": "slide"
    }
   },
   "source": [
    "# Accuracy\n",
    "\n",
    "- The Boostrap and CLT are *approximations*.\n",
    "- As the sample size increases, they get better."
   ]
  },
  {
   "cell_type": "markdown",
   "metadata": {
    "slideshow": {
     "slide_type": "slide"
    }
   },
   "source": [
    "# Concept 7: Hypothesis Testing"
   ]
  },
  {
   "cell_type": "markdown",
   "metadata": {
    "slideshow": {
     "slide_type": "slide"
    }
   },
   "source": [
    "## Assessing Models\n",
    "\n",
    "- We have a *model* of reality (a set of assumptions)\n",
    "    - Example: jury panels are selected at random from eligible population\n",
    "- Is the model plausible or unlikely?\n",
    "- We can use probability and simulation to assess its likelihood."
   ]
  },
  {
   "cell_type": "markdown",
   "metadata": {
    "slideshow": {
     "slide_type": "slide"
    }
   },
   "source": [
    "## Null and Alternative Hypotheses\n",
    "\n",
    "- The *null* hypothesis is the \"default\", \"boring\" model of reality.\n",
    "- The *alternative* hypothesis is the interesting one.\n",
    "- The null hypothesis is (usually) precise and specific enough that it allows us to simulate."
   ]
  },
  {
   "cell_type": "markdown",
   "metadata": {
    "slideshow": {
     "slide_type": "slide"
    }
   },
   "source": [
    "## Example\n",
    "\n",
    "I think a coin is unfair. To test it, I make the following hypotheses:\n",
    "\n",
    "- Null: the coin is fair\n",
    "- Alternative: the coin is not fair"
   ]
  },
  {
   "cell_type": "markdown",
   "metadata": {
    "slideshow": {
     "slide_type": "slide"
    }
   },
   "source": [
    "## Example\n",
    "\n",
    "I think a coin is *biased towards heads*. I make the following hypotheses:\n",
    "    \n",
    "- Null: the coin is fair\n",
    "- Alternative: the coin is unfair and biased towards heads"
   ]
  },
  {
   "cell_type": "markdown",
   "metadata": {
    "slideshow": {
     "slide_type": "slide"
    }
   },
   "source": [
    "## Workflow\n",
    "\n",
    "- Is the null hypothesis false?\n",
    "- Flip the coin a bunch, count *observed* numbers of heads.\n",
    "- Is what we observed consistent with the null model, or very unlikely?\n",
    "- We need probability of seeing observed under the null hypothesis."
   ]
  },
  {
   "cell_type": "markdown",
   "metadata": {
    "slideshow": {
     "slide_type": "slide"
    }
   },
   "source": [
    "## Test Statistics\n",
    "\n",
    "- We must have a way of measuring how far we are from what is expected under the null.\n",
    "- We need to choose a *test statistic*.\n",
    "- The larger the test statistic, the more extreme.\n",
    "- Choice depends on the *alternative* hypothesis."
   ]
  },
  {
   "cell_type": "markdown",
   "metadata": {
    "slideshow": {
     "slide_type": "slide"
    }
   },
   "source": [
    "## Example\n",
    "\n",
    "- Alternative: the coin is not fair\n",
    "- Possible test statistics:\n",
    "    - the absolute difference between proportion of heads and 50%\n",
    "    - the absolute difference between number of heads and 50\n",
    "    - the TVD between sample distribution of heads/tails and the uniform distribution\n",
    "    - ..."
   ]
  },
  {
   "cell_type": "markdown",
   "metadata": {
    "slideshow": {
     "slide_type": "slide"
    }
   },
   "source": [
    "## Example\n",
    "\n",
    "- Alternative: the coin is not fair, and *biased towards heads*.\n",
    "- The statistic should be larger the more extreme the outcome.\n",
    "- Possible test statistics:\n",
    "    - the number of heads\n",
    "    - the signed difference between the number of heads and 50\n",
    "    - the signed difference between the proportion of heads and 50%"
   ]
  },
  {
   "cell_type": "markdown",
   "metadata": {
    "slideshow": {
     "slide_type": "slide"
    }
   },
   "source": [
    "## Example\n",
    "\n",
    "- You flip a coin 100 times and see 57 heads.\n",
    "- Test alternative hypothesis: coin is biased towards heads.\n",
    "- I.e., what is the probability of seeing 57 heads if coin is indeed fair?\n",
    "- This is the *p-value*."
   ]
  },
  {
   "cell_type": "code",
   "execution_count": 31,
   "metadata": {
    "slideshow": {
     "slide_type": "slide"
    }
   },
   "outputs": [],
   "source": [
    "counts = np.array([])\n",
    "for i in np.arange(1000):\n",
    "    # flip fair coin 100 times\n",
    "    flips = np.random.choice(['H', 'T'], 100)\n",
    "    \n",
    "    count = np.count_nonzero(flips == 'H')\n",
    "    counts = np.append(counts, count)"
   ]
  },
  {
   "cell_type": "code",
   "execution_count": 32,
   "metadata": {
    "scrolled": true
   },
   "outputs": [
    {
     "data": {
      "text/plain": [
       "array([57., 53., 53., 54., 59., 41., 50., 52., 49., 40., 58., 51., 44.,\n",
       "       50., 54., 53., 53., 52., 49., 57., 58., 47., 43., 47., 58., 48.,\n",
       "       54., 51., 47., 41., 47., 53., 49., 47., 48., 58., 51., 51., 47.,\n",
       "       50., 54., 57., 56., 46., 47., 50., 56., 54., 52., 46., 56., 51.,\n",
       "       50., 49., 45., 47., 41., 51., 44., 43., 44., 52., 49., 47., 50.,\n",
       "       44., 64., 50., 47., 54., 49., 48., 50., 48., 47., 48., 43., 42.,\n",
       "       46., 47., 43., 42., 51., 54., 48., 49., 53., 55., 47., 50., 44.,\n",
       "       54., 41., 51., 52., 50., 56., 53., 55., 36., 46., 54., 41., 47.,\n",
       "       43., 50., 50., 52., 47., 60., 50., 51., 52., 54., 60., 55., 59.,\n",
       "       52., 55., 43., 49., 41., 52., 46., 48., 49., 53., 54., 59., 44.,\n",
       "       54., 45., 46., 51., 54., 58., 60., 51., 55., 54., 46., 50., 53.,\n",
       "       60., 51., 47., 42., 48., 46., 55., 52., 45., 51., 53., 39., 54.,\n",
       "       50., 60., 55., 52., 54., 53., 51., 49., 48., 48., 51., 53., 53.,\n",
       "       52., 54., 50., 46., 54., 43., 48., 52., 52., 53., 54., 46., 53.,\n",
       "       55., 45., 49., 39., 53., 48., 51., 51., 54., 59., 52., 54., 42.,\n",
       "       53., 49., 61., 50., 55., 50., 52., 47., 54., 46., 52., 44., 56.,\n",
       "       55., 55., 51., 55., 48., 52., 59., 47., 48., 43., 58., 51., 54.,\n",
       "       54., 62., 50., 51., 50., 55., 45., 53., 59., 52., 60., 44., 48.,\n",
       "       44., 46., 50., 63., 53., 42., 50., 48., 52., 50., 45., 47., 44.,\n",
       "       57., 58., 44., 45., 47., 47., 41., 58., 51., 52., 48., 47., 53.,\n",
       "       51., 60., 39., 50., 44., 48., 48., 45., 49., 53., 45., 50., 58.,\n",
       "       48., 50., 44., 46., 47., 38., 52., 56., 54., 61., 44., 41., 47.,\n",
       "       57., 48., 58., 52., 55., 50., 54., 48., 52., 49., 56., 49., 61.,\n",
       "       47., 50., 40., 44., 57., 54., 57., 54., 41., 47., 57., 54., 58.,\n",
       "       50., 54., 54., 46., 51., 47., 54., 49., 49., 51., 56., 51., 44.,\n",
       "       47., 55., 49., 59., 46., 59., 50., 50., 39., 44., 50., 47., 45.,\n",
       "       46., 43., 48., 45., 56., 47., 47., 50., 54., 45., 46., 45., 54.,\n",
       "       55., 49., 48., 50., 56., 51., 46., 46., 53., 46., 48., 43., 47.,\n",
       "       51., 52., 42., 54., 45., 48., 54., 44., 58., 52., 50., 54., 54.,\n",
       "       50., 48., 43., 53., 54., 41., 46., 49., 52., 44., 50., 48., 48.,\n",
       "       52., 51., 53., 48., 53., 52., 43., 47., 43., 43., 51., 48., 54.,\n",
       "       40., 51., 55., 55., 51., 44., 50., 56., 60., 50., 54., 45., 51.,\n",
       "       53., 59., 48., 50., 47., 61., 50., 46., 50., 44., 50., 53., 53.,\n",
       "       49., 54., 48., 47., 59., 52., 43., 55., 53., 48., 43., 54., 52.,\n",
       "       54., 52., 51., 45., 52., 43., 45., 60., 47., 49., 46., 44., 50.,\n",
       "       53., 45., 57., 57., 52., 48., 54., 61., 37., 50., 49., 53., 48.,\n",
       "       46., 49., 53., 52., 43., 44., 55., 43., 52., 52., 49., 44., 50.,\n",
       "       54., 53., 46., 46., 50., 50., 45., 50., 55., 52., 55., 41., 59.,\n",
       "       62., 62., 54., 44., 53., 52., 57., 48., 52., 44., 48., 50., 52.,\n",
       "       45., 47., 53., 56., 52., 48., 46., 50., 53., 49., 49., 50., 47.,\n",
       "       51., 42., 43., 59., 50., 45., 49., 52., 51., 54., 49., 52., 48.,\n",
       "       48., 56., 58., 53., 56., 44., 51., 53., 58., 51., 54., 55., 55.,\n",
       "       45., 50., 53., 49., 54., 48., 48., 63., 46., 49., 54., 45., 55.,\n",
       "       41., 50., 52., 43., 54., 50., 55., 58., 56., 43., 45., 53., 47.,\n",
       "       46., 46., 48., 48., 51., 54., 54., 43., 42., 51., 40., 44., 56.,\n",
       "       58., 43., 45., 49., 52., 49., 48., 47., 43., 51., 53., 61., 49.,\n",
       "       50., 47., 48., 61., 57., 51., 45., 51., 54., 48., 46., 51., 50.,\n",
       "       45., 65., 52., 44., 43., 46., 55., 50., 48., 44., 50., 46., 48.,\n",
       "       43., 51., 50., 60., 52., 51., 48., 52., 51., 57., 48., 51., 47.,\n",
       "       46., 48., 47., 48., 52., 54., 54., 44., 41., 47., 49., 49., 46.,\n",
       "       44., 48., 40., 50., 52., 53., 55., 46., 47., 51., 52., 43., 46.,\n",
       "       43., 50., 54., 50., 57., 48., 53., 46., 45., 54., 51., 51., 56.,\n",
       "       53., 42., 55., 55., 42., 48., 42., 57., 54., 50., 44., 53., 50.,\n",
       "       48., 36., 50., 48., 46., 55., 42., 54., 58., 54., 47., 53., 47.,\n",
       "       51., 50., 53., 49., 53., 47., 48., 57., 46., 49., 54., 55., 53.,\n",
       "       44., 61., 49., 58., 49., 55., 51., 44., 50., 43., 51., 63., 54.,\n",
       "       48., 57., 46., 57., 42., 54., 52., 57., 52., 53., 58., 50., 58.,\n",
       "       48., 49., 54., 54., 55., 53., 54., 55., 43., 49., 44., 50., 45.,\n",
       "       46., 52., 52., 54., 51., 44., 48., 49., 50., 49., 47., 47., 35.,\n",
       "       49., 45., 62., 54., 45., 49., 56., 52., 54., 45., 52., 43., 52.,\n",
       "       53., 41., 53., 49., 52., 51., 49., 62., 59., 45., 51., 47., 51.,\n",
       "       53., 51., 55., 45., 53., 48., 55., 53., 62., 43., 49., 51., 53.,\n",
       "       50., 44., 52., 52., 56., 48., 48., 48., 49., 45., 46., 45., 48.,\n",
       "       53., 47., 53., 47., 53., 39., 47., 58., 46., 54., 47., 46., 49.,\n",
       "       40., 45., 55., 47., 50., 49., 45., 47., 53., 64., 50., 46., 55.,\n",
       "       52., 47., 54., 56., 44., 53., 47., 53., 50., 43., 52., 46., 49.,\n",
       "       56., 58., 52., 49., 53., 53., 51., 50., 54., 48., 42., 48., 51.,\n",
       "       53., 53., 49., 49., 50., 50., 62., 53., 51., 51., 41., 52., 45.,\n",
       "       47., 55., 44., 41., 52., 47., 57., 56., 58., 44., 65., 55., 51.,\n",
       "       44., 47., 59., 52., 64., 58., 42., 53., 55., 53., 37., 42., 39.,\n",
       "       58., 54., 50., 46., 45., 52., 47., 48., 57., 63., 53., 51., 50.,\n",
       "       60., 47., 50., 55., 58., 48., 51., 56., 47., 47., 52., 50., 47.,\n",
       "       63., 53., 52., 38., 48., 51., 53., 55., 44., 50., 47., 52., 46.,\n",
       "       48., 44., 43., 43., 43., 50., 55., 53., 51., 58., 46., 53., 45.,\n",
       "       52., 50., 46., 49., 49., 48., 42., 60., 55., 49., 49., 60., 45.,\n",
       "       43., 51., 54., 54., 54., 53., 49., 49., 48., 55., 51., 60., 54.,\n",
       "       39., 50., 43., 55., 50., 53., 54., 42., 60., 48., 57., 47.])"
      ]
     },
     "execution_count": 32,
     "metadata": {},
     "output_type": "execute_result"
    }
   ],
   "source": [
    "counts"
   ]
  },
  {
   "cell_type": "code",
   "execution_count": 33,
   "metadata": {},
   "outputs": [
    {
     "data": {
      "text/plain": [
       "0.103"
      ]
     },
     "execution_count": 33,
     "metadata": {},
     "output_type": "execute_result"
    }
   ],
   "source": [
    "np.count_nonzero(counts >= 57) / 1000"
   ]
  },
  {
   "cell_type": "markdown",
   "metadata": {
    "slideshow": {
     "slide_type": "slide"
    }
   },
   "source": [
    "## Rejecting and Failing to Reject"
   ]
  },
  {
   "cell_type": "markdown",
   "metadata": {},
   "source": [
    "- The p-value tells us the probability of seeing the observed outcome if the null is true.\n",
    "- If we had set a \"confidence threshold\" before the experiment, we can reject at that confidence level.\n",
    "- E.g., if we had set a 5% threshold (95% confidence) we would fail to reject.\n",
    "- Still, a p-value of $\\approx$ 10% means that we were getting close to rejecting."
   ]
  },
  {
   "cell_type": "markdown",
   "metadata": {
    "slideshow": {
     "slide_type": "slide"
    }
   },
   "source": [
    "## Accepting a null hypothesis?\n",
    "\n",
    "- We never \"accept\" a null hypothesis, we only \"fail to reject\". Why?\n",
    "- If we see 50 heads and 50 tails, this isn't evidence that the coin is fair; only that it is close to fair.\n",
    "- It would be wrong to say that we are \"95% sure that the coin is fair\"."
   ]
  },
  {
   "cell_type": "markdown",
   "metadata": {
    "slideshow": {
     "slide_type": "slide"
    }
   },
   "source": [
    "# Concept 8: A/B Testing"
   ]
  },
  {
   "cell_type": "markdown",
   "metadata": {
    "slideshow": {
     "slide_type": "slide"
    }
   },
   "source": [
    "## A/B Testing\n",
    "\n",
    "- A type of hypothesis test.\n",
    "- We have two groups. Do they come from the same distribution?\n",
    "- Example: baby weights for mothers who smoked / didn't smoke."
   ]
  },
  {
   "cell_type": "markdown",
   "metadata": {
    "slideshow": {
     "slide_type": "slide"
    }
   },
   "source": [
    "## Idea\n",
    "\n",
    "- The null hypothesis: they come from the same distribution.\n",
    "- We can't directly simulate using the null.\n",
    "- Permuting group labels is like sampling more data."
   ]
  },
  {
   "cell_type": "markdown",
   "metadata": {
    "slideshow": {
     "slide_type": "slide"
    }
   },
   "source": [
    "## Permutation Tests\n",
    "\n",
    "- Given a table, one column with group labels, another with quantity of interest.\n",
    "- Repeatedly:\n",
    "    - Shuffle the group labels.\n",
    "    - Compute a test statistic measuring difference between groups.\n",
    "- Plot the distribution of differences, use to calculate p-value."
   ]
  },
  {
   "cell_type": "markdown",
   "metadata": {
    "slideshow": {
     "slide_type": "slide"
    }
   },
   "source": [
    "# Concept 9: Linear Regression"
   ]
  },
  {
   "cell_type": "markdown",
   "metadata": {},
   "source": [
    "## Lets make a scatter plot:\n",
    " - Below is some randomlly generated data, normally you would use real world data"
   ]
  },
  {
   "cell_type": "code",
   "execution_count": 50,
   "metadata": {},
   "outputs": [
    {
     "data": {
      "text/plain": [
       "<matplotlib.axes._subplots.AxesSubplot at 0x122a2a590>"
      ]
     },
     "execution_count": 50,
     "metadata": {},
     "output_type": "execute_result"
    },
    {
     "data": {
      "image/png": "[encoded data removed]",
      "text/plain": [
       "<Figure size 432x288 with 1 Axes>"
      ]
     },
     "metadata": {},
     "output_type": "display_data"
    }
   ],
   "source": [
    "# lets create some random data\n",
    "randomData = bpd.DataFrame(data = {\n",
    "    \"Data_A\" : (np.random.randint(0,100,size=(200)))\n",
    "}, index=np.arange(200))\n",
    "\n",
    "# create a random set of data that is +/-20 from generated Data A  \n",
    "randomCol = randomData.get('Data_A')\n",
    "newCol = np.array([])\n",
    "\n",
    "for i in range(randomCol.shape[0]):\n",
    "    newCol = np.append(newCol, int(randomCol.iloc[i] + np.random.randint(-40,40)))\n",
    "    #check within 0 and 100\n",
    "    if newCol[i] > 100:\n",
    "        newCol[i] = 100\n",
    "    if newCol[i] < 0:\n",
    "        newCol[i] = 0\n",
    "\n",
    "randomData=randomData.assign(Data_B = newCol)\n",
    "\n",
    "\n",
    "#plot the data\n",
    "randomData.plot(kind='scatter', x='Data_A', y='Data_B')"
   ]
  },
  {
   "cell_type": "markdown",
   "metadata": {},
   "source": [
    "### Converting columns to standard units\n",
    "* makes different scatterplots comparable\n",
    "* allows x and y axis to be \"similarly scaled\"\n",
    "    - both axes measure standard deviations from their means\n",
    "* doesn't change shape of the scatterplot (conversion is linear)"
   ]
  },
  {
   "cell_type": "code",
   "execution_count": 51,
   "metadata": {},
   "outputs": [],
   "source": [
    "# a simple function to help up standardize the units\n",
    "def standard_units(any_numbers):\n",
    "    \"Convert any array of numbers to standard units.\"\n",
    "    any_numbers = np.array(any_numbers)\n",
    "    return (any_numbers - np.mean(any_numbers))/np.std(any_numbers)"
   ]
  },
  {
   "cell_type": "code",
   "execution_count": 52,
   "metadata": {},
   "outputs": [
    {
     "data": {
      "text/plain": [
       "<matplotlib.axes._subplots.AxesSubplot at 0x1227cc690>"
      ]
     },
     "execution_count": 52,
     "metadata": {},
     "output_type": "execute_result"
    },
    {
     "data": {
      "image/png": "[encoded data removed]",
      "text/plain": [
       "<Figure size 432x288 with 1 Axes>"
      ]
     },
     "metadata": {},
     "output_type": "display_data"
    }
   ],
   "source": [
    "# Lets standardize the original (randomlly generated) Data\n",
    "Data_A_su = standard_units(randomData.get('Data_A'))\n",
    "Data_B_su = standard_units(randomData.get('Data_B'))\n",
    "\n",
    "#make a new data frame\n",
    "randomData_su = bpd.DataFrame()\n",
    "randomData_su = randomData_su.assign(Data_A_su = Data_A_su)\n",
    "randomData_su = randomData_su.assign(Data_B_su = Data_B_su)\n",
    "\n",
    "randomData_su\n",
    "\n",
    "#plot the data\n",
    "randomData_su.plot(kind='scatter', x='Data_A_su', y='Data_B_su')"
   ]
  },
  {
   "cell_type": "markdown",
   "metadata": {},
   "source": [
    "## Definition: Correlation Coefficient\n",
    "\n",
    "**Definition**: The correlation coefficient $r$ of two attributes $x$ and $y$ is the average value of the product of $x$ and $y$ when measured in standard units.\n",
    "\n",
    "* If `x` and `y` are arrays (i.e. columns in a table): \n",
    "```\n",
    "r = np.mean(x_su * y_su)\n",
    "```\n",
    "where `x_su` and `y_su` are `x` and `y` converted to standard units.\n",
    "\n",
    "\n",
    "* Measures how clustered points are around a straight line (linear association)\n",
    "* Based on standard units\n",
    "* $-1 \\leq r \\leq 1$\n",
    "    - $r = 1$: scatterplot is a line of slope 1.\n",
    "    - $r = -1$: scatterplot is a line of slope -1.\n",
    "* $r = 0$: no linear association; *uncorrelated*."
   ]
  },
  {
   "cell_type": "code",
   "execution_count": 53,
   "metadata": {},
   "outputs": [
    {
     "data": {
      "text/plain": [
       "0.755492800054725"
      ]
     },
     "execution_count": 53,
     "metadata": {},
     "output_type": "execute_result"
    }
   ],
   "source": [
    "r = (randomData_su.get('Data_A_su') * randomData_su.get('Data_B_su')).mean()\n",
    "r"
   ]
  },
  {
   "cell_type": "markdown",
   "metadata": {},
   "source": [
    "## Using the correlation coefficient for prediction\n",
    "In standard units:\n",
    "* The line through $(0,0)$ with slope $r$ is called the regression line.\n",
    "* If the association between attributes is linear, the graph of averages is approximately the regression line.\n",
    "* If the line is given by $f(x) = mx + b$, then the prediction for $x$ is given by $f(x)$."
   ]
  },
  {
   "cell_type": "markdown",
   "metadata": {},
   "source": [
    "## Regression line equation:\n",
    "\n",
    "* In standard units:\n",
    "$$ y = r \\times x $$\n",
    "* In original units, \n",
    "    - where $m_x$, $m_y$ are the averages of $x$ and $y$\n",
    "    - where $s_x$, $s_y$ are the standard deviations of $x$ and $y$,\n",
    "$$\\frac{(y - m_y)}{s_y} = r \\times \\frac{(x - m_x)}{s_x}$$\n",
    "* This equation reworked into the point-slope form of a line:\n",
    "$$(y - m_y) = \\left(\\frac{r\\cdot s_y}{s_x}\\right)(x - m_x)$$\n",
    "\n",
    "* Or in the slope-intercept form:\n",
    "\n",
    "$$y = \\left(\\frac{r\\cdot s_y}{s_x}\\right)x + \\left(m_y - \\frac{r\\cdot s_y\\cdot m_x}{s_x}\\right)$$"
   ]
  },
  {
   "cell_type": "markdown",
   "metadata": {},
   "source": [
    "## Slope and intercept\n",
    "\n",
    "* The regression line is given by $y = mx + b$, where:\n",
    "    - the slope $m$ is: $$m = r\\cdot\\frac{SD\\ of\\ x}{SD\\ of\\ y}$$\n",
    "    - the y-intercept $b$ is: $$b = (avg\\ of\\ y) - m\\cdot(avg\\ of\\ x)$$\n"
   ]
  },
  {
   "cell_type": "code",
   "execution_count": 54,
   "metadata": {},
   "outputs": [],
   "source": [
    "#define the correlation, slop and intercept function\n",
    "def correlation(t, x, y):\n",
    "    return np.mean(standard_units(t.get(x))*standard_units(t.get(y)))\n",
    "\n",
    "def slope(t, x, y):\n",
    "    \"\"\"The slope of the regression line (original units)\"\"\"\n",
    "    r = correlation(t, x, y)\n",
    "    return r * np.std(t.get(y)) / np.std(t.get(x))\n",
    "\n",
    "def intercept(t, x, y):\n",
    "    \"\"\"The intercept of the regression line (original units)\"\"\"\n",
    "    return t.get(y).mean() - slope(t, x, y) * t.get(x).mean()\n"
   ]
  },
  {
   "cell_type": "code",
   "execution_count": 55,
   "metadata": {},
   "outputs": [
    {
     "name": "stdout",
     "output_type": "stream",
     "text": [
      "Slope: 0.8329543878866209  y-intercept: 7.949968183665078\n"
     ]
    },
    {
     "data": {
      "image/png": "[encoded data removed]",
      "text/plain": [
       "<Figure size 432x288 with 1 Axes>"
      ]
     },
     "metadata": {},
     "output_type": "display_data"
    }
   ],
   "source": [
    "#use our defined functions to find slope and intercept\n",
    "m = slope(randomData, 'Data_A', 'Data_B')\n",
    "b = intercept(randomData, 'Data_A', 'Data_B')\n",
    "\n",
    "print('Slope: ' + str(m) + '  y-intercept: ' + str(b))\n",
    "\n",
    "#polt with our dataFrame:\n",
    "randomData.plot(kind='scatter', x='Data_A', y='Data_B')\n",
    "x = np.arange(0,100)\n",
    "plt.plot(x, m * x + b, color='C1');\n"
   ]
  },
  {
   "cell_type": "code",
   "execution_count": null,
   "metadata": {},
   "outputs": [],
   "source": []
  }
 ],
 "metadata": {
  "celltoolbar": "Slideshow",
  "kernelspec": {
   "display_name": "Python 3",
   "language": "python",
   "name": "python3"
  },
  "language_info": {
   "codemirror_mode": {
    "name": "ipython",
    "version": 3
   },
   "file_extension": ".py",
   "mimetype": "text/x-python",
   "name": "python",
   "nbconvert_exporter": "python",
   "pygments_lexer": "ipython3",
   "version": "3.7.6"
  }
 },
 "nbformat": 4,
 "nbformat_minor": 4
}
