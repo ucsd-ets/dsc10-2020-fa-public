{
 "cells": [
  {
   "cell_type": "markdown",
   "metadata": {},
   "source": [
    "# DSC 10 Discussion Week 8\n",
    "\n",
    "<img src=\"data/panda_baby.jpg\" width=\"500\">"
   ]
  },
  {
   "cell_type": "markdown",
   "metadata": {},
   "source": [
    "# Bootstrapping - sampling within a sample\n",
    "- Problem : statistics about the data population are often unavailable, costly to acquire, unknown, etc.\n",
    "- Solution : utilize random sampling (and re-sampling) of available data to estimate population statistics\n",
    "    - The result of bootstrapping will be a distribution over sample statistics!\n",
    "    - Hopefully we'll see that these *sample statistics* $\\approx$ *population statistics*\n",
    "    \n",
    "### Bootstrapping basic procedure\n",
    "- Sample from the population\n",
    "- Re-sample from that same sample (make sure to have replace=True!)\n",
    "- Repeat\n",
    "- **Note** - after re-sampling, we will likely see duplicate data entries within a single sample, but that's okay! \n",
    "    - If we didn't have duplicates, then we would have the same exact data in every single sample (this would be bad!)\n",
    "\n",
    "# Bootstrapped Confidence Intervals\n",
    "- Goal : return a range of values that we are confident contain the true population statistic \n",
    "    - Bootstrapping gives us a distribution of sample statistics\n",
    "    - The true population statistic often lies within the bulk of that distribution \n",
    "- $X$% confidence interval \n",
    "    - Interpretation\n",
    "        - **YES**: $X$% of all bootstrapped sample statistics fall within that interval\n",
    "        - **YES**: ~$X$% of the time, the interval will capture the correct population statistic\n",
    "        - **YES**: I'm $X$% sure that the true population statistic is in the interval\n",
    "        - **NO**: the true population statistic has an $X$% change of being in the interval\n",
    "    - Computation\n",
    "        - Use $\\frac{100-X}{2}$ and $100-\\frac{100-X}{2}$ for lower and upper percentiles\n",
    "        \n",
    "### CIs for testing\n",
    "- Given P-value $p$ and null hypothesis \"population statistic = $a$\":\n",
    "    - Construct $(100-p)$ CI for populatiton statistic\n",
    "    - Reject null hypothesis if $a$ is not in the interval\n",
    "\n",
    "# Describing a Distribution : Mean and Spread\n",
    "- Center of a distribution \n",
    "    - *Mean* : balance point\n",
    "    - *Median* : half-way point (robust to outliers) \n",
    "- Spread of distribution \n",
    "    - *Range* : biggest - smallest\n",
    "    - *Standard deviation* : variability around the mean\n",
    "- Chebyshev's Inequality\n",
    "    - Proportion of values in the range \"average $\\pm\\ z$ SDs\" is ≥ $1-\\frac{1}{z^2}$\n",
    "- Looking forward\n",
    "    - We'll look at other types of distributions and ones that can be parameterized "
   ]
  },
  {
   "cell_type": "markdown",
   "metadata": {},
   "source": [
    "#### Extra\n",
    "- You can find additional help on these topics in the course [textbook](https://eldridgejm.github.io/dive_into_data_science/front.html).\n",
    "- [Here](https://ucsd-ets.github.io/dsc10-2020-fa/published/default/reference/babypandas-reference.pdf) is a pointer to that reference sheet we saw last time."
   ]
  },
  {
   "cell_type": "code",
   "execution_count": 1,
   "metadata": {},
   "outputs": [
    {
     "data": {
      "text/plain": [
       "{'width': 1500, 'height': 700, 'scroll': True}"
      ]
     },
     "execution_count": 1,
     "metadata": {},
     "output_type": "execute_result"
    }
   ],
   "source": [
    "import babypandas as bpd\n",
    "import numpy as np\n",
    "import matplotlib.pyplot as plt\n",
    "%matplotlib inline\n",
    "\n",
    "import otter\n",
    "grader = otter.Notebook()\n",
    "\n",
    "from notebook.services.config import ConfigManager\n",
    "\n",
    "cm = ConfigManager()\n",
    "cm.update(\n",
    "    \"livereveal\", {\n",
    "        'width': 1500,\n",
    "        'height': 700,\n",
    "        \"scroll\": True,\n",
    "})"
   ]
  },
  {
   "cell_type": "markdown",
   "metadata": {},
   "source": [
    "<div style=\"padding: 15px; border: 1px solid transparent; border-color: transparent; margin-bottom: 20px; border-radius: 4px; color: #3c763d; background-color: #dff0d8; border-color: #d6e9c6;\">\n",
    "\n",
    "# RECALL FROM LAST WEEK\n",
    "    \n",
    "Quick outline\n",
    "- data : life expectancy \n",
    "- population : all countries\n",
    "- sample : smaller random selection of countries\n",
    "- visualizations : histograms of life expectancy data and mean\n",
    "    \n",
    "</div>"
   ]
  },
  {
   "cell_type": "markdown",
   "metadata": {},
   "source": [
    "## Life expectancy data\n",
    "\n",
    "This data comes from the World Health Organization.  We can learn more about the meanings of the columns by looking here: https://www.kaggle.com/kumarajarshi/life-expectancy-who\n",
    "\n",
    "Let's travel back in time to the year 2015 and collect some data!  For the duration of this discussion, we're going to consider the following data to be our *\"population\"*.\n",
    "\n",
    "Let's take a look at it."
   ]
  },
  {
   "cell_type": "code",
   "execution_count": 2,
   "metadata": {},
   "outputs": [
    {
     "data": {
      "text/html": [
       "<div>\n",
       "<style scoped>\n",
       "    .dataframe tbody tr th:only-of-type {\n",
       "        vertical-align: middle;\n",
       "    }\n",
       "\n",
       "    .dataframe tbody tr th {\n",
       "        vertical-align: top;\n",
       "    }\n",
       "\n",
       "    .dataframe thead th {\n",
       "        text-align: right;\n",
       "    }\n",
       "</style>\n",
       "<table border=\"1\" class=\"dataframe\">\n",
       "  <thead>\n",
       "    <tr style=\"text-align: right;\">\n",
       "      <th></th>\n",
       "      <th>Country</th>\n",
       "      <th>Year</th>\n",
       "      <th>Status</th>\n",
       "      <th>Life expectancy</th>\n",
       "      <th>Adult Mortality</th>\n",
       "      <th>infant deaths</th>\n",
       "      <th>Alcohol</th>\n",
       "      <th>percentage expenditure</th>\n",
       "      <th>Hepatitis B</th>\n",
       "      <th>Measles</th>\n",
       "      <th>...</th>\n",
       "      <th>Polio</th>\n",
       "      <th>Total expenditure</th>\n",
       "      <th>Diphtheria</th>\n",
       "      <th>HIV/AIDS</th>\n",
       "      <th>GDP</th>\n",
       "      <th>Population</th>\n",
       "      <th>thinness  1-19 years</th>\n",
       "      <th>thinness 5-9 years</th>\n",
       "      <th>Income composition of resources</th>\n",
       "      <th>Schooling</th>\n",
       "    </tr>\n",
       "  </thead>\n",
       "  <tbody>\n",
       "    <tr>\n",
       "      <th>0</th>\n",
       "      <td>Afghanistan</td>\n",
       "      <td>2015</td>\n",
       "      <td>Developing</td>\n",
       "      <td>65.0</td>\n",
       "      <td>263.0</td>\n",
       "      <td>62</td>\n",
       "      <td>0.01</td>\n",
       "      <td>71.279624</td>\n",
       "      <td>65.0</td>\n",
       "      <td>1154</td>\n",
       "      <td>...</td>\n",
       "      <td>6.0</td>\n",
       "      <td>8.16</td>\n",
       "      <td>65.0</td>\n",
       "      <td>0.1</td>\n",
       "      <td>584.259210</td>\n",
       "      <td>33736494.0</td>\n",
       "      <td>17.2</td>\n",
       "      <td>17.3</td>\n",
       "      <td>0.479</td>\n",
       "      <td>10.1</td>\n",
       "    </tr>\n",
       "    <tr>\n",
       "      <th>16</th>\n",
       "      <td>Albania</td>\n",
       "      <td>2015</td>\n",
       "      <td>Developing</td>\n",
       "      <td>77.8</td>\n",
       "      <td>74.0</td>\n",
       "      <td>0</td>\n",
       "      <td>4.60</td>\n",
       "      <td>364.975229</td>\n",
       "      <td>99.0</td>\n",
       "      <td>0</td>\n",
       "      <td>...</td>\n",
       "      <td>99.0</td>\n",
       "      <td>6.00</td>\n",
       "      <td>99.0</td>\n",
       "      <td>0.1</td>\n",
       "      <td>3954.227830</td>\n",
       "      <td>28873.0</td>\n",
       "      <td>1.2</td>\n",
       "      <td>1.3</td>\n",
       "      <td>0.762</td>\n",
       "      <td>14.2</td>\n",
       "    </tr>\n",
       "    <tr>\n",
       "      <th>32</th>\n",
       "      <td>Algeria</td>\n",
       "      <td>2015</td>\n",
       "      <td>Developing</td>\n",
       "      <td>75.6</td>\n",
       "      <td>19.0</td>\n",
       "      <td>21</td>\n",
       "      <td>NaN</td>\n",
       "      <td>0.000000</td>\n",
       "      <td>95.0</td>\n",
       "      <td>63</td>\n",
       "      <td>...</td>\n",
       "      <td>95.0</td>\n",
       "      <td>NaN</td>\n",
       "      <td>95.0</td>\n",
       "      <td>0.1</td>\n",
       "      <td>4132.762920</td>\n",
       "      <td>39871528.0</td>\n",
       "      <td>6.0</td>\n",
       "      <td>5.8</td>\n",
       "      <td>0.743</td>\n",
       "      <td>14.4</td>\n",
       "    </tr>\n",
       "    <tr>\n",
       "      <th>48</th>\n",
       "      <td>Angola</td>\n",
       "      <td>2015</td>\n",
       "      <td>Developing</td>\n",
       "      <td>52.4</td>\n",
       "      <td>335.0</td>\n",
       "      <td>66</td>\n",
       "      <td>NaN</td>\n",
       "      <td>0.000000</td>\n",
       "      <td>64.0</td>\n",
       "      <td>118</td>\n",
       "      <td>...</td>\n",
       "      <td>7.0</td>\n",
       "      <td>NaN</td>\n",
       "      <td>64.0</td>\n",
       "      <td>1.9</td>\n",
       "      <td>3695.793748</td>\n",
       "      <td>2785935.0</td>\n",
       "      <td>8.3</td>\n",
       "      <td>8.2</td>\n",
       "      <td>0.531</td>\n",
       "      <td>11.4</td>\n",
       "    </tr>\n",
       "    <tr>\n",
       "      <th>64</th>\n",
       "      <td>Antigua and Barbuda</td>\n",
       "      <td>2015</td>\n",
       "      <td>Developing</td>\n",
       "      <td>76.4</td>\n",
       "      <td>13.0</td>\n",
       "      <td>0</td>\n",
       "      <td>NaN</td>\n",
       "      <td>0.000000</td>\n",
       "      <td>99.0</td>\n",
       "      <td>0</td>\n",
       "      <td>...</td>\n",
       "      <td>86.0</td>\n",
       "      <td>NaN</td>\n",
       "      <td>99.0</td>\n",
       "      <td>0.2</td>\n",
       "      <td>13566.954100</td>\n",
       "      <td>NaN</td>\n",
       "      <td>3.3</td>\n",
       "      <td>3.3</td>\n",
       "      <td>0.784</td>\n",
       "      <td>13.9</td>\n",
       "    </tr>\n",
       "    <tr>\n",
       "      <th>...</th>\n",
       "      <td>...</td>\n",
       "      <td>...</td>\n",
       "      <td>...</td>\n",
       "      <td>...</td>\n",
       "      <td>...</td>\n",
       "      <td>...</td>\n",
       "      <td>...</td>\n",
       "      <td>...</td>\n",
       "      <td>...</td>\n",
       "      <td>...</td>\n",
       "      <td>...</td>\n",
       "      <td>...</td>\n",
       "      <td>...</td>\n",
       "      <td>...</td>\n",
       "      <td>...</td>\n",
       "      <td>...</td>\n",
       "      <td>...</td>\n",
       "      <td>...</td>\n",
       "      <td>...</td>\n",
       "      <td>...</td>\n",
       "      <td>...</td>\n",
       "    </tr>\n",
       "    <tr>\n",
       "      <th>2858</th>\n",
       "      <td>Venezuela (Bolivarian Republic of)</td>\n",
       "      <td>2015</td>\n",
       "      <td>Developing</td>\n",
       "      <td>74.1</td>\n",
       "      <td>157.0</td>\n",
       "      <td>9</td>\n",
       "      <td>NaN</td>\n",
       "      <td>0.000000</td>\n",
       "      <td>87.0</td>\n",
       "      <td>0</td>\n",
       "      <td>...</td>\n",
       "      <td>87.0</td>\n",
       "      <td>NaN</td>\n",
       "      <td>87.0</td>\n",
       "      <td>0.1</td>\n",
       "      <td>NaN</td>\n",
       "      <td>NaN</td>\n",
       "      <td>1.6</td>\n",
       "      <td>1.5</td>\n",
       "      <td>0.769</td>\n",
       "      <td>14.3</td>\n",
       "    </tr>\n",
       "    <tr>\n",
       "      <th>2874</th>\n",
       "      <td>Viet Nam</td>\n",
       "      <td>2015</td>\n",
       "      <td>Developing</td>\n",
       "      <td>76.0</td>\n",
       "      <td>127.0</td>\n",
       "      <td>28</td>\n",
       "      <td>NaN</td>\n",
       "      <td>0.000000</td>\n",
       "      <td>97.0</td>\n",
       "      <td>256</td>\n",
       "      <td>...</td>\n",
       "      <td>97.0</td>\n",
       "      <td>NaN</td>\n",
       "      <td>97.0</td>\n",
       "      <td>0.1</td>\n",
       "      <td>NaN</td>\n",
       "      <td>NaN</td>\n",
       "      <td>14.2</td>\n",
       "      <td>14.5</td>\n",
       "      <td>0.678</td>\n",
       "      <td>12.6</td>\n",
       "    </tr>\n",
       "    <tr>\n",
       "      <th>2890</th>\n",
       "      <td>Yemen</td>\n",
       "      <td>2015</td>\n",
       "      <td>Developing</td>\n",
       "      <td>65.7</td>\n",
       "      <td>224.0</td>\n",
       "      <td>37</td>\n",
       "      <td>NaN</td>\n",
       "      <td>0.000000</td>\n",
       "      <td>69.0</td>\n",
       "      <td>468</td>\n",
       "      <td>...</td>\n",
       "      <td>63.0</td>\n",
       "      <td>NaN</td>\n",
       "      <td>69.0</td>\n",
       "      <td>0.1</td>\n",
       "      <td>NaN</td>\n",
       "      <td>NaN</td>\n",
       "      <td>13.6</td>\n",
       "      <td>13.4</td>\n",
       "      <td>0.499</td>\n",
       "      <td>9.0</td>\n",
       "    </tr>\n",
       "    <tr>\n",
       "      <th>2906</th>\n",
       "      <td>Zambia</td>\n",
       "      <td>2015</td>\n",
       "      <td>Developing</td>\n",
       "      <td>61.8</td>\n",
       "      <td>33.0</td>\n",
       "      <td>27</td>\n",
       "      <td>NaN</td>\n",
       "      <td>0.000000</td>\n",
       "      <td>9.0</td>\n",
       "      <td>9</td>\n",
       "      <td>...</td>\n",
       "      <td>9.0</td>\n",
       "      <td>NaN</td>\n",
       "      <td>9.0</td>\n",
       "      <td>4.1</td>\n",
       "      <td>1313.889646</td>\n",
       "      <td>161587.0</td>\n",
       "      <td>6.3</td>\n",
       "      <td>6.1</td>\n",
       "      <td>0.576</td>\n",
       "      <td>12.5</td>\n",
       "    </tr>\n",
       "    <tr>\n",
       "      <th>2922</th>\n",
       "      <td>Zimbabwe</td>\n",
       "      <td>2015</td>\n",
       "      <td>Developing</td>\n",
       "      <td>67.0</td>\n",
       "      <td>336.0</td>\n",
       "      <td>22</td>\n",
       "      <td>NaN</td>\n",
       "      <td>0.000000</td>\n",
       "      <td>87.0</td>\n",
       "      <td>0</td>\n",
       "      <td>...</td>\n",
       "      <td>88.0</td>\n",
       "      <td>NaN</td>\n",
       "      <td>87.0</td>\n",
       "      <td>6.2</td>\n",
       "      <td>118.693830</td>\n",
       "      <td>15777451.0</td>\n",
       "      <td>5.6</td>\n",
       "      <td>5.5</td>\n",
       "      <td>0.507</td>\n",
       "      <td>10.3</td>\n",
       "    </tr>\n",
       "  </tbody>\n",
       "</table>\n",
       "<p>183 rows × 22 columns</p>\n",
       "</div>"
      ],
      "text/plain": [
       "                                 Country  Year      Status  Life expectancy   \\\n",
       "0                            Afghanistan  2015  Developing              65.0   \n",
       "16                               Albania  2015  Developing              77.8   \n",
       "32                               Algeria  2015  Developing              75.6   \n",
       "48                                Angola  2015  Developing              52.4   \n",
       "64                   Antigua and Barbuda  2015  Developing              76.4   \n",
       "...                                  ...   ...         ...               ...   \n",
       "2858  Venezuela (Bolivarian Republic of)  2015  Developing              74.1   \n",
       "2874                            Viet Nam  2015  Developing              76.0   \n",
       "2890                               Yemen  2015  Developing              65.7   \n",
       "2906                              Zambia  2015  Developing              61.8   \n",
       "2922                            Zimbabwe  2015  Developing              67.0   \n",
       "\n",
       "      Adult Mortality  infant deaths  Alcohol  percentage expenditure  \\\n",
       "0               263.0             62     0.01               71.279624   \n",
       "16               74.0              0     4.60              364.975229   \n",
       "32               19.0             21      NaN                0.000000   \n",
       "48              335.0             66      NaN                0.000000   \n",
       "64               13.0              0      NaN                0.000000   \n",
       "...               ...            ...      ...                     ...   \n",
       "2858            157.0              9      NaN                0.000000   \n",
       "2874            127.0             28      NaN                0.000000   \n",
       "2890            224.0             37      NaN                0.000000   \n",
       "2906             33.0             27      NaN                0.000000   \n",
       "2922            336.0             22      NaN                0.000000   \n",
       "\n",
       "      Hepatitis B  Measles   ...  Polio  Total expenditure  Diphtheria   \\\n",
       "0            65.0      1154  ...    6.0               8.16         65.0   \n",
       "16           99.0         0  ...   99.0               6.00         99.0   \n",
       "32           95.0        63  ...   95.0                NaN         95.0   \n",
       "48           64.0       118  ...    7.0                NaN         64.0   \n",
       "64           99.0         0  ...   86.0                NaN         99.0   \n",
       "...           ...       ...  ...    ...                ...          ...   \n",
       "2858         87.0         0  ...   87.0                NaN         87.0   \n",
       "2874         97.0       256  ...   97.0                NaN         97.0   \n",
       "2890         69.0       468  ...   63.0                NaN         69.0   \n",
       "2906          9.0         9  ...    9.0                NaN          9.0   \n",
       "2922         87.0         0  ...   88.0                NaN         87.0   \n",
       "\n",
       "       HIV/AIDS           GDP  Population   thinness  1-19 years  \\\n",
       "0           0.1    584.259210  33736494.0                   17.2   \n",
       "16          0.1   3954.227830     28873.0                    1.2   \n",
       "32          0.1   4132.762920  39871528.0                    6.0   \n",
       "48          1.9   3695.793748   2785935.0                    8.3   \n",
       "64          0.2  13566.954100         NaN                    3.3   \n",
       "...         ...           ...         ...                    ...   \n",
       "2858        0.1           NaN         NaN                    1.6   \n",
       "2874        0.1           NaN         NaN                   14.2   \n",
       "2890        0.1           NaN         NaN                   13.6   \n",
       "2906        4.1   1313.889646    161587.0                    6.3   \n",
       "2922        6.2    118.693830  15777451.0                    5.6   \n",
       "\n",
       "       thinness 5-9 years  Income composition of resources  Schooling  \n",
       "0                    17.3                            0.479       10.1  \n",
       "16                    1.3                            0.762       14.2  \n",
       "32                    5.8                            0.743       14.4  \n",
       "48                    8.2                            0.531       11.4  \n",
       "64                    3.3                            0.784       13.9  \n",
       "...                   ...                              ...        ...  \n",
       "2858                  1.5                            0.769       14.3  \n",
       "2874                 14.5                            0.678       12.6  \n",
       "2890                 13.4                            0.499        9.0  \n",
       "2906                  6.1                            0.576       12.5  \n",
       "2922                  5.5                            0.507       10.3  \n",
       "\n",
       "[183 rows x 22 columns]"
      ]
     },
     "execution_count": 2,
     "metadata": {},
     "output_type": "execute_result"
    }
   ],
   "source": [
    "# load in all the data\n",
    "life_expectancy = bpd.read_csv(\"data/Life Expectancy Data.csv\")\n",
    "\n",
    "# choose only data from 2015\n",
    "recent_data = life_expectancy[life_expectancy.get(\"Year\") == 2015]\n",
    "\n",
    "recent_data"
   ]
  },
  {
   "cell_type": "code",
   "execution_count": 3,
   "metadata": {},
   "outputs": [
    {
     "data": {
      "text/plain": [
       "71.61693989071036"
      ]
     },
     "execution_count": 3,
     "metadata": {},
     "output_type": "execute_result"
    }
   ],
   "source": [
    "# compute population mean to compare\n",
    "\n",
    "pop_mean = recent_data.get('Life expectancy ').mean()\n",
    "pop_mean"
   ]
  },
  {
   "cell_type": "markdown",
   "metadata": {},
   "source": [
    "# Quick recap about sampling!\n",
    "\n",
    "Here we'll take a look at the same life expectancy data and do some sampling exercises."
   ]
  },
  {
   "cell_type": "code",
   "execution_count": 4,
   "metadata": {},
   "outputs": [],
   "source": [
    "# Let's visualize our population distribution.\n",
    "\n",
    "# Defining a function to create bins easily\n",
    "def get_bins(array, bin_size=1):\n",
    "    smallestNum = int(array.min())\n",
    "    \n",
    "    largestNum = int(array.max())\n",
    "    upperLimit = largestNum + bin_size + 1\n",
    "    \n",
    "    return np.arange(smallestNum, upperLimit, bin_size)"
   ]
  },
  {
   "cell_type": "code",
   "execution_count": 5,
   "metadata": {},
   "outputs": [
    {
     "data": {
      "text/plain": [
       "<matplotlib.axes._subplots.AxesSubplot at 0x7fe7a92ef850>"
      ]
     },
     "execution_count": 5,
     "metadata": {},
     "output_type": "execute_result"
    },
    {
     "data": {
      "image/png": "[encoded data removed]",
      "text/plain": [
       "<Figure size 432x288 with 1 Axes>"
      ]
     },
     "metadata": {
      "needs_background": "light"
     },
     "output_type": "display_data"
    }
   ],
   "source": [
    "measured = recent_data.get(\"Life expectancy \")\n",
    "\n",
    "#generate number of bins\n",
    "n_bins = get_bins(measured, 1) # <-- Try playing around with the bin size\n",
    "\n",
    "#lets plot the histogram\n",
    "recent_data.get('Life expectancy ').plot(kind='hist', bins=n_bins, density=True)"
   ]
  },
  {
   "cell_type": "markdown",
   "metadata": {},
   "source": [
    "## POPULATION DISTRIBUTION\n",
    "- life expectancy of all countries in our POPULATION (entire dataset)"
   ]
  },
  {
   "cell_type": "code",
   "execution_count": 6,
   "metadata": {},
   "outputs": [],
   "source": [
    "# different sample sizes\n",
    "\n",
    "num_samples = 50\n",
    "\n",
    "# num_samples = 40"
   ]
  },
  {
   "cell_type": "code",
   "execution_count": 7,
   "metadata": {},
   "outputs": [
    {
     "data": {
      "text/plain": [
       "<matplotlib.axes._subplots.AxesSubplot at 0x7fe7a7166750>"
      ]
     },
     "execution_count": 7,
     "metadata": {},
     "output_type": "execute_result"
    },
    {
     "data": {
      "image/png": "[encoded data removed]",
      "text/plain": [
       "<Figure size 432x288 with 1 Axes>"
      ]
     },
     "metadata": {
      "needs_background": "light"
     },
     "output_type": "display_data"
    }
   ],
   "source": [
    "# How do we create a representative sample?\n",
    "collected = recent_data.sample(n=num_samples, replace=False)\n",
    "\n",
    "#we need new bin sizes\n",
    "n_bins = get_bins(collected.get('Life expectancy '),1)\n",
    "\n",
    "\n",
    "#lets plot the histogram\n",
    "plt.title(\"Sample Distribution\")\n",
    "collected.get('Life expectancy ').plot(kind='hist', bins=n_bins, density=True)\n",
    "# plt.show()"
   ]
  },
  {
   "cell_type": "markdown",
   "metadata": {},
   "source": [
    "## SAMPLE DISTRIBUTION\n",
    "- life expectancy of all countries in our SAMPLE (random selection of 15 countries)"
   ]
  },
  {
   "cell_type": "code",
   "execution_count": 8,
   "metadata": {},
   "outputs": [
    {
     "data": {
      "text/plain": [
       "<matplotlib.lines.Line2D at 0x7fe7a7069a10>"
      ]
     },
     "execution_count": 8,
     "metadata": {},
     "output_type": "execute_result"
    },
    {
     "data": {
      "image/png": "[encoded data removed]",
      "text/plain": [
       "<Figure size 432x288 with 1 Axes>"
      ]
     },
     "metadata": {
      "needs_background": "light"
     },
     "output_type": "display_data"
    }
   ],
   "source": [
    "sample_mean = collected.get('Life expectancy ').mean()\n",
    "sample_mean\n",
    "\n",
    "# We can show our mean in relation to the sample:\n",
    "\n",
    "#plot the historgram again\n",
    "collected.get('Life expectancy ').plot(kind='hist', bins=n_bins, density=True)\n",
    "\n",
    "#draw the sample mean\n",
    "plt.title(\"Sample Mean\")\n",
    "plt.axvline(sample_mean, c='r')\n",
    "# plt.show()"
   ]
  },
  {
   "cell_type": "markdown",
   "metadata": {},
   "source": [
    "## SAMPLE MEAN\n",
    "- **mean** life expectancy of all countries in our SAMPLE (random selection of 40 countries)"
   ]
  },
  {
   "cell_type": "code",
   "execution_count": 9,
   "metadata": {},
   "outputs": [
    {
     "name": "stdout",
     "output_type": "stream",
     "text": [
      "The resampled mean is:\t\t 69.78399999999996 \n",
      "Compared to the original:\t 69.832\n"
     ]
    },
    {
     "data": {
      "text/plain": [
       "<matplotlib.lines.Line2D at 0x7fe79f740410>"
      ]
     },
     "execution_count": 9,
     "metadata": {},
     "output_type": "execute_result"
    },
    {
     "data": {
      "image/png": "[encoded data removed]",
      "text/plain": [
       "<Figure size 432x288 with 1 Axes>"
      ]
     },
     "metadata": {
      "needs_background": "light"
     },
     "output_type": "display_data"
    }
   ],
   "source": [
    "# Run this multiple time to see what changes.\n",
    "\n",
    "resampled = collected.sample(num_samples,replace=True)\n",
    "resampled_mean = resampled.get('Life expectancy ').mean()\n",
    "n_bins = get_bins(collected.get('Life expectancy '), 1)\n",
    "\n",
    "print(\"The resampled mean is:\\t\\t\", resampled_mean, \"\\nCompared to the original:\\t\", sample_mean)\n",
    "\n",
    "#plot the historgram again\n",
    "resampled.get('Life expectancy ').plot(kind='hist', bins=n_bins, density=True)\n",
    "\n",
    "#lets show the sampled_mean and resampled_mean\n",
    "plt.title(\"Resampled mean\")\n",
    "plt.axvline(resampled_mean, c='r')\n",
    "plt.axvline(sample_mean, c='b')\n",
    "# plt.show()"
   ]
  },
  {
   "cell_type": "markdown",
   "metadata": {},
   "source": [
    "## RESAMPLED MEAN\n",
    "- **mean** life expectancy of all countries in our NEW SAMPLE"
   ]
  },
  {
   "cell_type": "code",
   "execution_count": 10,
   "metadata": {},
   "outputs": [],
   "source": [
    "# bootstrapping loop\n",
    "\n",
    "sample_means = np.array([])\n",
    "\n",
    "for i in range(1000):\n",
    "    bootstrapped = collected.sample(num_samples,replace=True)\n",
    "    boot_mean = bootstrapped.get('Life expectancy ').mean()\n",
    "    sample_means = np.append(sample_means, boot_mean)"
   ]
  },
  {
   "cell_type": "code",
   "execution_count": 11,
   "metadata": {},
   "outputs": [
    {
     "data": {
      "text/plain": [
       "(array([  2.,  10.,  15.,  44.,  68., 139., 150., 129., 162., 119.,  82.,\n",
       "         37.,  30.,  10.,   1.,   2.]),\n",
       " array([66. , 66.5, 67. , 67.5, 68. , 68.5, 69. , 69.5, 70. , 70.5, 71. ,\n",
       "        71.5, 72. , 72.5, 73. , 73.5, 74. ]),\n",
       " <a list of 16 Patch objects>)"
      ]
     },
     "execution_count": 11,
     "metadata": {},
     "output_type": "execute_result"
    },
    {
     "data": {
      "image/png": "[encoded data removed]",
      "text/plain": [
       "<Figure size 432x288 with 1 Axes>"
      ]
     },
     "metadata": {
      "needs_background": "light"
     },
     "output_type": "display_data"
    }
   ],
   "source": [
    "plt.title(\"Distribution of Sample Means\")\n",
    "plt.hist(sample_means, bins=get_bins(sample_means, 0.5))\n",
    "# plt.show()"
   ]
  },
  {
   "cell_type": "markdown",
   "metadata": {},
   "source": [
    "## DISTRIBUTION OF SAMPLE MEANS\n",
    "- distribution of **mean** life expectancy from 1000 different samples (bootstrapping!)"
   ]
  },
  {
   "cell_type": "code",
   "execution_count": 12,
   "metadata": {},
   "outputs": [
    {
     "data": {
      "image/png": "[encoded data removed]",
      "text/plain": [
       "<Figure size 432x288 with 1 Axes>"
      ]
     },
     "metadata": {
      "needs_background": "light"
     },
     "output_type": "display_data"
    }
   ],
   "source": [
    "plt.hist(sample_means, bins=get_bins(sample_means, 0.5))\n",
    "plt.scatter(pop_mean, 0, color='red', s=80).set_zorder(2)"
   ]
  },
  {
   "cell_type": "markdown",
   "metadata": {},
   "source": [
    "## POPULATION MEAN TOO\n",
    "- comparing population mean to the distribution of sample means"
   ]
  },
  {
   "cell_type": "markdown",
   "metadata": {},
   "source": [
    "<div style=\"padding: 15px; border: 1px solid transparent; border-color: transparent; margin-bottom: 20px; border-radius: 4px; color: #3c763d; background-color: #dff0d8; border-color: #d6e9c6;\">\n",
    "\n",
    "### Everything above should hopefully be familiar from last week\n",
    "- if not [here](https://ucsd.zoom.us/rec/play/FNbiilaGa1BNkSAKGdIAIuBtvTMnua2wyZGWCKZ7SEj1l426mV18AkgUHnFTMypCepd5t5mm8cD85Ukp.dSsb2q67ubzlcB55?startTime=1605664878000&_x_zm_rtaid=0Oagfxv1TH6w3vwvZqPTbQ.1606170859635.ea29f4b90ffe94632dd6376dbf87eb23&_x_zm_rhtaid=235) is a link to last week's discussion!\n",
    "\n",
    "</div>"
   ]
  },
  {
   "cell_type": "markdown",
   "metadata": {},
   "source": [
    "# So now what? \n",
    "\n",
    "- What conclusions can we make about the **population mean** based on our distribution of sample means?"
   ]
  },
  {
   "cell_type": "markdown",
   "metadata": {},
   "source": [
    "# Confidence Intervals\n",
    "\n",
    "- We would like to come up with a range of values that contain X% of all bootstrapped sample means. \n",
    "- This interval corresponds to an X% confidence interval\n",
    "\n",
    "### How to do this?\n",
    "- We need our array of sample means and we need to compute a few percentiles based on what X% confidence interval we'd like to return"
   ]
  },
  {
   "cell_type": "markdown",
   "metadata": {},
   "source": [
    "# Question 1 \n",
    "Suppose we'd like to construct 90% and 82% Confidence Intervals over some statistic.\n",
    "\n",
    "What are the upper and lower percentiles we need in each case?"
   ]
  },
  {
   "cell_type": "code",
   "execution_count": 13,
   "metadata": {},
   "outputs": [],
   "source": [
    "# compute the lower percentile given a confidence interval\n",
    "def compute_lower_percentile(perc_conf):\n",
    "    \n",
    "    lower_perc = (100-perc_conf)/2 # SOLUTION\n",
    "    \n",
    "    return lower_perc\n",
    "\n",
    "# compute the upper percentile given a confidence interval\n",
    "def compute_upper_percentile(perc_conf):\n",
    "    \n",
    "    upper_perc = 100 - (100-perc_conf)/2 # SOLUTION\n",
    "    \n",
    "    return upper_perc"
   ]
  },
  {
   "cell_type": "code",
   "execution_count": 14,
   "metadata": {},
   "outputs": [
    {
     "name": "stdout",
     "output_type": "stream",
     "text": [
      "Lower percentile for 90% C.I. : 5.0\n",
      "Upper percentile for 90% C.I. : 95.0\n"
     ]
    }
   ],
   "source": [
    "lower_perc_90 = compute_lower_percentile(90) # SOLUTION\n",
    "print(f\"Lower percentile for 90% C.I. : {lower_perc_90}\")\n",
    "\n",
    "upper_perc_90 = compute_upper_percentile(90) # SOLUTION\n",
    "print(f\"Upper percentile for 90% C.I. : {upper_perc_90}\")"
   ]
  },
  {
   "cell_type": "code",
   "execution_count": 15,
   "metadata": {},
   "outputs": [
    {
     "name": "stdout",
     "output_type": "stream",
     "text": [
      "Lower percentile for 82% C.I. : 9.0\n",
      "Upper percentile for 82% C.I. : 91.0\n"
     ]
    }
   ],
   "source": [
    "lower_perc_82 = compute_lower_percentile(82) # SOLUTION\n",
    "print(f\"Lower percentile for 82% C.I. : {lower_perc_82}\")\n",
    "\n",
    "upper_perc_82 = compute_upper_percentile(82) # SOLUTION\n",
    "print(f\"Upper percentile for 82% C.I. : {upper_perc_82}\")"
   ]
  },
  {
   "cell_type": "markdown",
   "metadata": {},
   "source": [
    "# Question 2 \n",
    "\n",
    "Which of the two confidence intervals (90% or 82%) is larger? Why?"
   ]
  },
  {
   "cell_type": "code",
   "execution_count": 16,
   "metadata": {},
   "outputs": [],
   "source": [
    "# choose 90 or 82\n",
    " \n",
    "larger_ci = 90 # SOLUTION\n",
    "\n",
    "# BEGIN SOLUTION\n",
    "reason = \"width increases with confidence.\"\n",
    "reason = \"100% C.I. includes entire distribution.\"\n",
    "reason = \"lower percentile is lower and higher percentile is higher.\"\n",
    "reason = \"area under curve of distribution is larger.\"\n",
    "# END SOLUTION"
   ]
  },
  {
   "cell_type": "markdown",
   "metadata": {},
   "source": [
    "# Question 3\n",
    "\n",
    "Compute the upper and lower bounds of a 95% confidence interval for our ```sample_means``` data from above."
   ]
  },
  {
   "cell_type": "code",
   "execution_count": 17,
   "metadata": {},
   "outputs": [],
   "source": [
    "def compute_ci(confidence_level, sample_means):\n",
    "\n",
    "    # What is the mean we're estimating?\n",
    "    mean = np.mean(sample_means) # SOLUTION\n",
    "\n",
    "    # What are the percentiles?\n",
    "    # Use the functions we made above\n",
    "    lower_perc = compute_lower_percentile(confidence_level) # SOLUTION\n",
    "    upper_perc = compute_upper_percentile(confidence_level) # SOLUTION\n",
    "\n",
    "    # And then our lower and upper bounds?\n",
    "    lower_bound = np.percentile(sample_means, lower_perc) # SOLUTION\n",
    "    upper_bound = np.percentile(sample_means, upper_perc) # SOLUTION\n",
    "\n",
    "    # Printing it out so we can easily see our results.\n",
    "    print(\"\"\"\n",
    "    Mean:\\t{}\n",
    "\n",
    "    Lower Percentile:\\t{}\n",
    "    Upper Percentile:\\t{}\n",
    "\n",
    "    Lower Bound:\\t{}\n",
    "    Upper Bound:\\t{}\n",
    "\n",
    "    Confidence Level:\\t{}%\n",
    "    \"\"\".format(mean, lower_perc, upper_perc, lower_bound, upper_bound, confidence_level))\n",
    "    \n",
    "    return lower_bound, upper_bound"
   ]
  },
  {
   "cell_type": "code",
   "execution_count": 18,
   "metadata": {},
   "outputs": [
    {
     "name": "stdout",
     "output_type": "stream",
     "text": [
      "\n",
      "    Mean:\t69.78662400000002\n",
      "\n",
      "    Lower Percentile:\t2.5\n",
      "    Upper Percentile:\t97.5\n",
      "\n",
      "    Lower Bound:\t67.40995\n",
      "    Upper Bound:\t72.2221\n",
      "\n",
      "    Confidence Level:\t95%\n",
      "    \n"
     ]
    }
   ],
   "source": [
    "confidence_level = 95 # SOLUTION\n",
    "\n",
    "# compute the ci\n",
    "lower_bound, upper_bound = compute_ci(confidence_level, sample_means) # SOLUTION"
   ]
  },
  {
   "cell_type": "markdown",
   "metadata": {},
   "source": [
    "### Lets visualize the confidence interval on the histogram from earlier"
   ]
  },
  {
   "cell_type": "code",
   "execution_count": 19,
   "metadata": {},
   "outputs": [],
   "source": [
    "def plot_ci(ci, lower_bound, upper_bound, sample_means, pop_mean):\n",
    "    plt.title(f\"{ci}% confidence interval\")\n",
    "    plt.hist(sample_means, bins=get_bins(sample_means, 0.5))\n",
    "    plt.scatter(pop_mean, 0, color='red', s=80).set_zorder(3)\n",
    "    plt.plot([lower_bound, upper_bound], [0,0], color='lime', linewidth=4, zorder=2)"
   ]
  },
  {
   "cell_type": "code",
   "execution_count": 20,
   "metadata": {},
   "outputs": [
    {
     "data": {
      "image/png": "[encoded data removed]",
      "text/plain": [
       "<Figure size 432x288 with 1 Axes>"
      ]
     },
     "metadata": {
      "needs_background": "light"
     },
     "output_type": "display_data"
    }
   ],
   "source": [
    "plot_ci(confidence_level, lower_bound, upper_bound, sample_means, pop_mean)"
   ]
  },
  {
   "cell_type": "markdown",
   "metadata": {},
   "source": [
    "# Question 4\n",
    "\n",
    "Interpret what the confidence interval means in the context of this problem. "
   ]
  },
  {
   "cell_type": "code",
   "execution_count": 21,
   "metadata": {},
   "outputs": [],
   "source": [
    "# BEGIN SOLUTION \n",
    "interpretation = f\"We are 95% confident that the mean life expectancy is between {lower_bound} and {upper_bound} years\"\n",
    "# END SOLUTION"
   ]
  },
  {
   "cell_type": "code",
   "execution_count": 22,
   "metadata": {},
   "outputs": [
    {
     "data": {
      "text/plain": [
       "67.40995"
      ]
     },
     "execution_count": 22,
     "metadata": {},
     "output_type": "execute_result"
    }
   ],
   "source": [
    "lower_bound"
   ]
  },
  {
   "cell_type": "code",
   "execution_count": 23,
   "metadata": {},
   "outputs": [
    {
     "data": {
      "text/plain": [
       "72.2221"
      ]
     },
     "execution_count": 23,
     "metadata": {},
     "output_type": "execute_result"
    }
   ],
   "source": [
    "upper_bound"
   ]
  },
  {
   "cell_type": "markdown",
   "metadata": {},
   "source": [
    "# Question 5\n",
    "\n",
    "Compute 100%, 80%, and 50% confidence intervals using the same ```sample_means``` and visualize the results of each."
   ]
  },
  {
   "cell_type": "code",
   "execution_count": 24,
   "metadata": {},
   "outputs": [
    {
     "name": "stdout",
     "output_type": "stream",
     "text": [
      "100% CI\n",
      "\n",
      "    Mean:\t69.78662400000002\n",
      "\n",
      "    Lower Percentile:\t0.0\n",
      "    Upper Percentile:\t100.0\n",
      "\n",
      "    Lower Bound:\t66.044\n",
      "    Upper Bound:\t73.80199999999999\n",
      "\n",
      "    Confidence Level:\t100%\n",
      "    \n",
      "80% CI\n",
      "\n",
      "    Mean:\t69.78662400000002\n",
      "\n",
      "    Lower Percentile:\t10.0\n",
      "    Upper Percentile:\t90.0\n",
      "\n",
      "    Lower Bound:\t68.28820000000002\n",
      "    Upper Bound:\t71.35819999999998\n",
      "\n",
      "    Confidence Level:\t80%\n",
      "    \n",
      "50% CI\n",
      "\n",
      "    Mean:\t69.78662400000002\n",
      "\n",
      "    Lower Percentile:\t25.0\n",
      "    Upper Percentile:\t75.0\n",
      "\n",
      "    Lower Bound:\t68.93750000000001\n",
      "    Upper Bound:\t70.66199999999998\n",
      "\n",
      "    Confidence Level:\t50%\n",
      "    \n"
     ]
    }
   ],
   "source": [
    "# compute the bounds\n",
    "print(\"100% CI\")\n",
    "lower_100, upper_100 = compute_ci(100, sample_means) # SOLUTION\n",
    "\n",
    "print(\"80% CI\")\n",
    "lower_80, upper_80 = compute_ci(80, sample_means) # SOLUTION \n",
    "\n",
    "print(\"50% CI\")\n",
    "lower_50, upper_50 = compute_ci(50, sample_means) # SOLUTION"
   ]
  },
  {
   "cell_type": "code",
   "execution_count": 25,
   "metadata": {},
   "outputs": [
    {
     "data": {
      "image/png": "[encoded data removed]",
      "text/plain": [
       "<Figure size 432x288 with 1 Axes>"
      ]
     },
     "metadata": {
      "needs_background": "light"
     },
     "output_type": "display_data"
    }
   ],
   "source": [
    "# visualize the results\n",
    "plot_ci(100, lower_100, upper_100, sample_means, pop_mean)\n",
    "plot_ci(80, lower_80, upper_80, sample_means, pop_mean)\n",
    "plot_ci(50, lower_50, upper_50, sample_means, pop_mean)"
   ]
  },
  {
   "cell_type": "markdown",
   "metadata": {},
   "source": [
    "# Question 6\n",
    "\n",
    "Do any of the above confidence intervals (100%, 95%, 80%, 50%) NOT contain the true population mean?"
   ]
  },
  {
   "cell_type": "code",
   "execution_count": 26,
   "metadata": {},
   "outputs": [
    {
     "data": {
      "text/plain": [
       "71.61693989071036"
      ]
     },
     "execution_count": 26,
     "metadata": {},
     "output_type": "execute_result"
    }
   ],
   "source": [
    "pop_mean"
   ]
  },
  {
   "cell_type": "code",
   "execution_count": 27,
   "metadata": {},
   "outputs": [
    {
     "data": {
      "text/plain": [
       "True"
      ]
     },
     "execution_count": 27,
     "metadata": {},
     "output_type": "execute_result"
    }
   ],
   "source": [
    "# answer True or False\n",
    "exists_interval = (lower_50 > pop_mean) or (upper_50 < pop_mean) # SOLUTION\n",
    "exists_interval"
   ]
  },
  {
   "cell_type": "markdown",
   "metadata": {},
   "source": [
    "# Question 7\n",
    "\n",
    "Is it possible for the 80% confidence interval to contain the true population mean while the 95% confidence interval does not?"
   ]
  },
  {
   "cell_type": "code",
   "execution_count": 28,
   "metadata": {},
   "outputs": [
    {
     "data": {
      "text/plain": [
       "False"
      ]
     },
     "execution_count": 28,
     "metadata": {},
     "output_type": "execute_result"
    }
   ],
   "source": [
    "# answer True or False\n",
    "possible = False # SOLUTION\n",
    "possible"
   ]
  }
 ],
 "metadata": {
  "kernelspec": {
   "display_name": "Python 3",
   "language": "python",
   "name": "python3"
  },
  "language_info": {
   "codemirror_mode": {
    "name": "ipython",
    "version": 3
   },
   "file_extension": ".py",
   "mimetype": "text/x-python",
   "name": "python",
   "nbconvert_exporter": "python",
   "pygments_lexer": "ipython3",
   "version": "3.7.6"
  }
 },
 "nbformat": 4,
 "nbformat_minor": 2
}
