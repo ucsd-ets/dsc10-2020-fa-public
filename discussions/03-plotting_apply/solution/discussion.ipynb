{
 "cells": [
  {
   "cell_type": "markdown",
   "metadata": {},
   "source": [
    "# Discussion 03: Plotting and Functions\n",
    "\n",
    "Welcome to Discussion 03! \n",
    "\n",
    "This week, we will go over plotting, writing functions, and utilizing the ```.apply()``` function to modify DataFrames.\n",
    "\n",
    "You can find additional help on these topics in the course [textbook](https://eldridgejm.github.io/dive_into_data_science/front.html).\n",
    "\n",
    "[Here](https://ucsd-ets.github.io/dsc10-2020-fa/published/default/reference/babypandas-reference.pdf) is a pointer to that reference sheet we saw last time.\n",
    "\n",
    "<img src=\"data/panda_lounging.jpeg\" width=\"1000\">"
   ]
  },
  {
   "cell_type": "markdown",
   "metadata": {
    "slideshow": {
     "slide_type": "slide"
    }
   },
   "source": [
    "### Remember the calfire dataset?\n",
    "We're going to use it again!"
   ]
  },
  {
   "cell_type": "code",
   "execution_count": 1,
   "metadata": {},
   "outputs": [
    {
     "data": {
      "text/html": [
       "<div>\n",
       "<style scoped>\n",
       "    .dataframe tbody tr th:only-of-type {\n",
       "        vertical-align: middle;\n",
       "    }\n",
       "\n",
       "    .dataframe tbody tr th {\n",
       "        vertical-align: top;\n",
       "    }\n",
       "\n",
       "    .dataframe thead th {\n",
       "        text-align: right;\n",
       "    }\n",
       "</style>\n",
       "<table border=\"1\" class=\"dataframe\">\n",
       "  <thead>\n",
       "    <tr style=\"text-align: right;\">\n",
       "      <th></th>\n",
       "      <th>year</th>\n",
       "      <th>month</th>\n",
       "      <th>name</th>\n",
       "      <th>cause</th>\n",
       "      <th>acres</th>\n",
       "      <th>county</th>\n",
       "      <th>longitude</th>\n",
       "      <th>latitude</th>\n",
       "    </tr>\n",
       "  </thead>\n",
       "  <tbody>\n",
       "    <tr>\n",
       "      <th>0</th>\n",
       "      <td>1898</td>\n",
       "      <td>9</td>\n",
       "      <td>LOS PADRES</td>\n",
       "      <td>14 - Unknown</td>\n",
       "      <td>20539.949219</td>\n",
       "      <td>Ventura</td>\n",
       "      <td>-119.367830</td>\n",
       "      <td>34.446830</td>\n",
       "    </tr>\n",
       "    <tr>\n",
       "      <th>1</th>\n",
       "      <td>1898</td>\n",
       "      <td>4</td>\n",
       "      <td>MATILIJA</td>\n",
       "      <td>14 - Unknown</td>\n",
       "      <td>2641.123047</td>\n",
       "      <td>Ventura</td>\n",
       "      <td>-119.299625</td>\n",
       "      <td>34.488614</td>\n",
       "    </tr>\n",
       "    <tr>\n",
       "      <th>2</th>\n",
       "      <td>1898</td>\n",
       "      <td>9</td>\n",
       "      <td>COZY DELL</td>\n",
       "      <td>14 - Unknown</td>\n",
       "      <td>2974.585205</td>\n",
       "      <td>Ventura</td>\n",
       "      <td>-119.265380</td>\n",
       "      <td>34.482316</td>\n",
       "    </tr>\n",
       "    <tr>\n",
       "      <th>3</th>\n",
       "      <td>1902</td>\n",
       "      <td>8</td>\n",
       "      <td>FEROUD</td>\n",
       "      <td>14 - Unknown</td>\n",
       "      <td>731.481567</td>\n",
       "      <td>Ventura</td>\n",
       "      <td>-119.320979</td>\n",
       "      <td>34.417515</td>\n",
       "    </tr>\n",
       "    <tr>\n",
       "      <th>4</th>\n",
       "      <td>1903</td>\n",
       "      <td>10</td>\n",
       "      <td>SAN ANTONIO</td>\n",
       "      <td>14 - Unknown</td>\n",
       "      <td>380.260590</td>\n",
       "      <td>Ventura</td>\n",
       "      <td>-119.253422</td>\n",
       "      <td>34.430616</td>\n",
       "    </tr>\n",
       "    <tr>\n",
       "      <th>...</th>\n",
       "      <td>...</td>\n",
       "      <td>...</td>\n",
       "      <td>...</td>\n",
       "      <td>...</td>\n",
       "      <td>...</td>\n",
       "      <td>...</td>\n",
       "      <td>...</td>\n",
       "      <td>...</td>\n",
       "    </tr>\n",
       "    <tr>\n",
       "      <th>13459</th>\n",
       "      <td>2019</td>\n",
       "      <td>9</td>\n",
       "      <td>STAGE</td>\n",
       "      <td>7 - Arson</td>\n",
       "      <td>13.019149</td>\n",
       "      <td>Monterey</td>\n",
       "      <td>-121.599207</td>\n",
       "      <td>36.764065</td>\n",
       "    </tr>\n",
       "    <tr>\n",
       "      <th>13460</th>\n",
       "      <td>2019</td>\n",
       "      <td>10</td>\n",
       "      <td>CROSS</td>\n",
       "      <td>14 - Unknown</td>\n",
       "      <td>289.151428</td>\n",
       "      <td>Monterey</td>\n",
       "      <td>-120.726245</td>\n",
       "      <td>35.793698</td>\n",
       "    </tr>\n",
       "    <tr>\n",
       "      <th>13461</th>\n",
       "      <td>2019</td>\n",
       "      <td>9</td>\n",
       "      <td>FRUDDEN</td>\n",
       "      <td>2 - Equipment Use</td>\n",
       "      <td>11.789393</td>\n",
       "      <td>Monterey</td>\n",
       "      <td>-120.908061</td>\n",
       "      <td>35.908627</td>\n",
       "    </tr>\n",
       "    <tr>\n",
       "      <th>13462</th>\n",
       "      <td>2019</td>\n",
       "      <td>9</td>\n",
       "      <td>JOLON</td>\n",
       "      <td>11 - Powerline</td>\n",
       "      <td>61.592369</td>\n",
       "      <td>Monterey</td>\n",
       "      <td>-121.010025</td>\n",
       "      <td>35.910750</td>\n",
       "    </tr>\n",
       "    <tr>\n",
       "      <th>13463</th>\n",
       "      <td>2019</td>\n",
       "      <td>10</td>\n",
       "      <td>SADDLE RIDGE</td>\n",
       "      <td>14 - Unknown</td>\n",
       "      <td>8799.325195</td>\n",
       "      <td>Los Angeles</td>\n",
       "      <td>-118.516473</td>\n",
       "      <td>34.321859</td>\n",
       "    </tr>\n",
       "  </tbody>\n",
       "</table>\n",
       "<p>13464 rows × 8 columns</p>\n",
       "</div>"
      ],
      "text/plain": [
       "       year  month          name              cause         acres  \\\n",
       "0      1898      9    LOS PADRES       14 - Unknown  20539.949219   \n",
       "1      1898      4      MATILIJA       14 - Unknown   2641.123047   \n",
       "2      1898      9     COZY DELL       14 - Unknown   2974.585205   \n",
       "3      1902      8        FEROUD       14 - Unknown    731.481567   \n",
       "4      1903     10   SAN ANTONIO       14 - Unknown    380.260590   \n",
       "...     ...    ...           ...                ...           ...   \n",
       "13459  2019      9         STAGE          7 - Arson     13.019149   \n",
       "13460  2019     10         CROSS       14 - Unknown    289.151428   \n",
       "13461  2019      9       FRUDDEN  2 - Equipment Use     11.789393   \n",
       "13462  2019      9         JOLON     11 - Powerline     61.592369   \n",
       "13463  2019     10  SADDLE RIDGE       14 - Unknown   8799.325195   \n",
       "\n",
       "            county   longitude   latitude  \n",
       "0          Ventura -119.367830  34.446830  \n",
       "1          Ventura -119.299625  34.488614  \n",
       "2          Ventura -119.265380  34.482316  \n",
       "3          Ventura -119.320979  34.417515  \n",
       "4          Ventura -119.253422  34.430616  \n",
       "...            ...         ...        ...  \n",
       "13459     Monterey -121.599207  36.764065  \n",
       "13460     Monterey -120.726245  35.793698  \n",
       "13461     Monterey -120.908061  35.908627  \n",
       "13462     Monterey -121.010025  35.910750  \n",
       "13463  Los Angeles -118.516473  34.321859  \n",
       "\n",
       "[13464 rows x 8 columns]"
      ]
     },
     "execution_count": 1,
     "metadata": {},
     "output_type": "execute_result"
    }
   ],
   "source": [
    "import babypandas as bpd\n",
    "import numpy as np\n",
    "\n",
    "import otter\n",
    "grader = otter.Notebook()\n",
    "\n",
    "calfire = bpd.read_csv('data/calfire-full.csv')\n",
    "calfire"
   ]
  },
  {
   "cell_type": "markdown",
   "metadata": {
    "slideshow": {
     "slide_type": "slide"
    }
   },
   "source": [
    "# Plotting\n",
    "\n",
    "We can visualize and plot our data directly from DataFrames! \n",
    "This can be very beneficial to help us draw conclusions that would be difficult to come up with otherwise.\n",
    "\n",
    "`df.plot(kind='...', x=..., y=...)`\n",
    "- `kind= ` \"scatter\", \"line\", \"bar\", \"barh\"\n",
    "\n",
    "`df.get(col_name).plot(kind='hist', bins=n_bins, density=True)`"
   ]
  },
  {
   "cell_type": "markdown",
   "metadata": {
    "deletable": false,
    "editable": false,
    "slideshow": {
     "slide_type": "slide"
    }
   },
   "source": [
    "## Question 1: Is the number of fires increasing?\n",
    "\n",
    "*set ```count_is_increasing``` to True if the the number of fires is increasing*\n",
    "\n",
    "<!--\n",
    "BEGIN QUESTION\n",
    "name: q11\n",
    "-->"
   ]
  },
  {
   "cell_type": "code",
   "execution_count": 2,
   "metadata": {},
   "outputs": [
    {
     "data": {
      "text/plain": [
       "True"
      ]
     },
     "execution_count": 2,
     "metadata": {},
     "output_type": "execute_result"
    }
   ],
   "source": [
    "count_is_increasing = True # SOLUTION\n",
    "count_is_increasing"
   ]
  },
  {
   "cell_type": "code",
   "execution_count": null,
   "metadata": {
    "deletable": false,
    "editable": false
   },
   "outputs": [],
   "source": [
    "grader.check(\"q11\")"
   ]
  },
  {
   "cell_type": "code",
   "execution_count": 4,
   "metadata": {},
   "outputs": [
    {
     "data": {
      "text/plain": [
       "<matplotlib.axes._subplots.AxesSubplot at 0x11c1b8d90>"
      ]
     },
     "execution_count": 4,
     "metadata": {},
     "output_type": "execute_result"
    },
    {
     "data": {
      "image/png": "[encoded data removed]",
      "text/plain": [
       "<Figure size 432x288 with 1 Axes>"
      ]
     },
     "metadata": {
      "needs_background": "light"
     },
     "output_type": "display_data"
    }
   ],
   "source": [
    "counts_by_year = ( # SOLUTION NO PROMPT\n",
    "    calfire # original dataset # SOLUTION NO PROMPT\n",
    "    .drop(columns=[\"month\",\"cause\",\"acres\",\"county\",\"longitude\",\"latitude\"]) # drop other columns # SOLUTION NO PROMPT\n",
    "    .groupby(\"year\").count() # get fire counts per year # SOLUTION NO PROMPT\n",
    "    .reset_index() # move year back to column # SOLUTION NO PROMPT\n",
    ") # SOLUTION NO PROMPT\n",
    "\n",
    "counts_by_year.plot(kind='scatter', x='year', y='name') # choose x and y axes data # SOLUTION NO PROMPT"
   ]
  },
  {
   "cell_type": "markdown",
   "metadata": {
    "deletable": false,
    "editable": false,
    "slideshow": {
     "slide_type": "slide"
    }
   },
   "source": [
    "## Question 2: What about the median size of a fire? (is it also increasing?)\n",
    "*set ```median_is_increasing``` to True if the the median fire size is increasing*\n",
    "\n",
    "<!--\n",
    "BEGIN QUESTION\n",
    "name: q12\n",
    "-->"
   ]
  },
  {
   "cell_type": "code",
   "execution_count": 5,
   "metadata": {},
   "outputs": [
    {
     "data": {
      "text/plain": [
       "False"
      ]
     },
     "execution_count": 5,
     "metadata": {},
     "output_type": "execute_result"
    }
   ],
   "source": [
    "median_is_increasing = False # SOLUTION\n",
    "median_is_increasing"
   ]
  },
  {
   "cell_type": "code",
   "execution_count": null,
   "metadata": {
    "deletable": false,
    "editable": false
   },
   "outputs": [],
   "source": [
    "grader.check(\"q12\")"
   ]
  },
  {
   "cell_type": "code",
   "execution_count": 7,
   "metadata": {},
   "outputs": [
    {
     "data": {
      "text/plain": [
       "<matplotlib.axes._subplots.AxesSubplot at 0x11c32c290>"
      ]
     },
     "execution_count": 7,
     "metadata": {},
     "output_type": "execute_result"
    },
    {
     "data": {
      "image/png": "[encoded data removed]",
      "text/plain": [
       "<Figure size 432x288 with 1 Axes>"
      ]
     },
     "metadata": {
      "needs_background": "light"
     },
     "output_type": "display_data"
    }
   ],
   "source": [
    "median_by_year = ( # SOLUTION NO PROMPT\n",
    "    calfire # original dataset # SOLUTION NO PROMPT\n",
    "    .drop(columns=[\"month\",\"name\",\"cause\",\"county\",\"longitude\",\"latitude\"]) # drop other columns # SOLUTION NO PROMPT\n",
    "    .groupby(\"year\").median() # get fire median per year # SOLUTION NO PROMPT\n",
    "    .reset_index() # move year back to column # SOLUTION NO PROMPT\n",
    ") # SOLUTION NO PROMPT\n",
    "\n",
    "median_by_year.plot(kind='scatter', x='year', y='acres') # choose x and y axes data # SOLUTION NO PROMPT"
   ]
  },
  {
   "cell_type": "markdown",
   "metadata": {
    "deletable": false,
    "editable": false,
    "slideshow": {
     "slide_type": "slide"
    }
   },
   "source": [
    "## Question 3: Is the largest fire per year increasing?\n",
    "*set ```max_fire_is_increasing``` to True if the the largest fire per year is increasing*\n",
    "\n",
    "<!--\n",
    "BEGIN QUESTION\n",
    "name: q13\n",
    "-->"
   ]
  },
  {
   "cell_type": "code",
   "execution_count": 8,
   "metadata": {},
   "outputs": [
    {
     "data": {
      "text/plain": [
       "True"
      ]
     },
     "execution_count": 8,
     "metadata": {},
     "output_type": "execute_result"
    }
   ],
   "source": [
    "max_is_increasing = True # SOLUTION\n",
    "max_is_increasing"
   ]
  },
  {
   "cell_type": "code",
   "execution_count": null,
   "metadata": {
    "deletable": false,
    "editable": false
   },
   "outputs": [],
   "source": [
    "grader.check(\"q13\")"
   ]
  },
  {
   "cell_type": "code",
   "execution_count": 10,
   "metadata": {},
   "outputs": [
    {
     "data": {
      "text/plain": [
       "<matplotlib.axes._subplots.AxesSubplot at 0x11e7debd0>"
      ]
     },
     "execution_count": 10,
     "metadata": {},
     "output_type": "execute_result"
    },
    {
     "data": {
      "image/png": "[encoded data removed]",
      "text/plain": [
       "<Figure size 432x288 with 1 Axes>"
      ]
     },
     "metadata": {
      "needs_background": "light"
     },
     "output_type": "display_data"
    }
   ],
   "source": [
    "max_by_year = ( # SOLUTION NO PROMPT\n",
    "    calfire # original dataset # SOLUTION NO PROMPT\n",
    "    .drop(columns=[\"month\",\"name\",\"cause\",\"county\",\"longitude\",\"latitude\"]) # drop other columns # SOLUTION NO PROMPT\n",
    "    .groupby(\"year\").max() # get fire max per year # SOLUTION NO PROMPT\n",
    "    .reset_index() # move year back to column # SOLUTION NO PROMPT\n",
    ") # SOLUTION NO PROMPT\n",
    "\n",
    "max_by_year.plot(kind='scatter', x='year', y='acres') # choose x and y axes data # SOLUTION NO PROMPT"
   ]
  },
  {
   "cell_type": "markdown",
   "metadata": {
    "deletable": false,
    "editable": false,
    "slideshow": {
     "slide_type": "slide"
    }
   },
   "source": [
    "## Question 4: Is there an association between latitude and fire size?\n",
    "*set ```latitude_size_association``` to True if there is an association between latitude and fire size*\n",
    "\n",
    "<!--\n",
    "BEGIN QUESTION\n",
    "name: q14\n",
    "-->"
   ]
  },
  {
   "cell_type": "code",
   "execution_count": 11,
   "metadata": {},
   "outputs": [
    {
     "data": {
      "text/plain": [
       "False"
      ]
     },
     "execution_count": 11,
     "metadata": {},
     "output_type": "execute_result"
    }
   ],
   "source": [
    "latitude_size_association = False # SOLUTION\n",
    "latitude_size_association "
   ]
  },
  {
   "cell_type": "code",
   "execution_count": null,
   "metadata": {
    "deletable": false,
    "editable": false
   },
   "outputs": [],
   "source": [
    "grader.check(\"q14\")"
   ]
  },
  {
   "cell_type": "code",
   "execution_count": 13,
   "metadata": {},
   "outputs": [
    {
     "data": {
      "text/plain": [
       "<matplotlib.axes._subplots.AxesSubplot at 0x11e844b50>"
      ]
     },
     "execution_count": 13,
     "metadata": {},
     "output_type": "execute_result"
    },
    {
     "data": {
      "image/png": "[encoded data removed]",
      "text/plain": [
       "<Figure size 432x288 with 1 Axes>"
      ]
     },
     "metadata": {
      "needs_background": "light"
     },
     "output_type": "display_data"
    }
   ],
   "source": [
    "lat_fire = ( # SOLUTION NO PROMPT\n",
    "    calfire # original dataset # SOLUTION NO PROMPT\n",
    "    .drop(columns=['month','name','cause','longitude','county','year']) # drop other data # SOLUTION NO PROMPT\n",
    ") # SOLUTION NO PROMPT\n",
    "lat_fire.plot(kind='scatter', x='acres', y='latitude') # SOLUTION NO PROMPT"
   ]
  },
  {
   "cell_type": "markdown",
   "metadata": {
    "slideshow": {
     "slide_type": "slide"
    }
   },
   "source": [
    "## Question 5: What is the distribution of fire sizes?"
   ]
  },
  {
   "cell_type": "code",
   "execution_count": 14,
   "metadata": {},
   "outputs": [
    {
     "data": {
      "text/plain": [
       "<matplotlib.axes._subplots.AxesSubplot at 0x11e8a3e90>"
      ]
     },
     "execution_count": 14,
     "metadata": {},
     "output_type": "execute_result"
    },
    {
     "data": {
      "image/png": "[encoded data removed]",
      "text/plain": [
       "<Figure size 432x288 with 1 Axes>"
      ]
     },
     "metadata": {
      "needs_background": "light"
     },
     "output_type": "display_data"
    }
   ],
   "source": [
    "acres_df = calfire.drop(columns=['month','name','cause','latitude','longitude','county','year']) # SOLUTION NO PROMPT\n",
    "acres_df.get('acres').plot(kind='hist', bins=100, density=True) # SOLUTION NO PROMPT"
   ]
  },
  {
   "cell_type": "code",
   "execution_count": 15,
   "metadata": {},
   "outputs": [
    {
     "data": {
      "text/plain": [
       "<matplotlib.axes._subplots.AxesSubplot at 0x11ea32450>"
      ]
     },
     "execution_count": 15,
     "metadata": {},
     "output_type": "execute_result"
    },
    {
     "data": {
      "image/png": "[encoded data removed]",
      "text/plain": [
       "<Figure size 432x288 with 1 Axes>"
      ]
     },
     "metadata": {
      "needs_background": "light"
     },
     "output_type": "display_data"
    }
   ],
   "source": [
    "small_fires = acres_df[(acres_df.get(\"acres\") < 100)] # SOLUTION NO PROMPT\n",
    "small_fires.get('acres').plot(kind='hist', bins=100, density=True) # SOLUTION NO PROMPT"
   ]
  },
  {
   "cell_type": "markdown",
   "metadata": {
    "slideshow": {
     "slide_type": "slide"
    }
   },
   "source": [
    "## Question 6: Plot the number of fires due to each cause."
   ]
  },
  {
   "cell_type": "code",
   "execution_count": 16,
   "metadata": {},
   "outputs": [
    {
     "data": {
      "text/plain": [
       "<matplotlib.axes._subplots.AxesSubplot at 0x11ebc1390>"
      ]
     },
     "execution_count": 16,
     "metadata": {},
     "output_type": "execute_result"
    },
    {
     "data": {
      "image/png": "[encoded data removed]",
      "text/plain": [
       "<Figure size 432x288 with 1 Axes>"
      ]
     },
     "metadata": {
      "needs_background": "light"
     },
     "output_type": "display_data"
    }
   ],
   "source": [
    "( # SOLUTION NO PROMPT\n",
    "    calfire # SOLUTION NO PROMPT\n",
    "    .groupby('cause').count() # SOLUTION NO PROMPT\n",
    "    .get(\"year\") # SOLUTION NO PROMPT\n",
    "    .sort_values(ascending = False) # SOLUTION NO PROMPT\n",
    "    .plot(kind = 'bar') # SOLUTION NO PROMPT\n",
    ") # SOLUTION NO PROMPT"
   ]
  },
  {
   "cell_type": "markdown",
   "metadata": {
    "slideshow": {
     "slide_type": "slide"
    }
   },
   "source": [
    "## Question 7a: In what times of the year are fires most common?"
   ]
  },
  {
   "cell_type": "code",
   "execution_count": 17,
   "metadata": {},
   "outputs": [
    {
     "data": {
      "text/plain": [
       "<matplotlib.axes._subplots.AxesSubplot at 0x11ebfa510>"
      ]
     },
     "execution_count": 17,
     "metadata": {},
     "output_type": "execute_result"
    },
    {
     "data": {
      "image/png": "[encoded data removed]",
      "text/plain": [
       "<Figure size 432x288 with 1 Axes>"
      ]
     },
     "metadata": {
      "needs_background": "light"
     },
     "output_type": "display_data"
    }
   ],
   "source": [
    "( # SOLUTION NO PROMPT\n",
    "    calfire # SOLUTION NO PROMPT\n",
    "    .groupby('month').count() # SOLUTION NO PROMPT\n",
    "    .get(\"year\") # SOLUTION NO PROMPT\n",
    "    .plot(kind = 'bar') # SOLUTION NO PROMPT\n",
    ") # SOLUTION NO PROMPT"
   ]
  },
  {
   "cell_type": "markdown",
   "metadata": {
    "slideshow": {
     "slide_type": "slide"
    }
   },
   "source": [
    "## Question 7b: In what times of the year are *large* fires most common in *Southern California*?\n",
    "\n",
    "By large, say over 5,000 acres. By SoCal, we mean latitude < 37."
   ]
  },
  {
   "cell_type": "code",
   "execution_count": 18,
   "metadata": {},
   "outputs": [
    {
     "data": {
      "text/plain": [
       "<matplotlib.axes._subplots.AxesSubplot at 0x11ed0e0d0>"
      ]
     },
     "execution_count": 18,
     "metadata": {},
     "output_type": "execute_result"
    },
    {
     "data": {
      "image/png": "[encoded data removed]",
      "text/plain": [
       "<Figure size 432x288 with 1 Axes>"
      ]
     },
     "metadata": {
      "needs_background": "light"
     },
     "output_type": "display_data"
    }
   ],
   "source": [
    "# BEGIN SOLUTION\n",
    "(\n",
    "    calfire[(calfire.get('latitude') < 36.5) & (calfire.get('acres') > 5_000)]\n",
    "    .groupby('month').count()\n",
    "    .get('year').plot(kind='bar')\n",
    ")\n",
    "# END SOLUTION"
   ]
  },
  {
   "cell_type": "markdown",
   "metadata": {
    "slideshow": {
     "slide_type": "slide"
    }
   },
   "source": [
    "## Question 8: On the same plot, show natural vs. human-caused over time.\n",
    "\n",
    "- That is, have one line for the number of fires caused by lightning over time.\n",
    "- Another line for all other causes over time."
   ]
  },
  {
   "cell_type": "code",
   "execution_count": 19,
   "metadata": {},
   "outputs": [
    {
     "data": {
      "text/plain": [
       "<matplotlib.axes._subplots.AxesSubplot at 0x11ec83190>"
      ]
     },
     "execution_count": 19,
     "metadata": {},
     "output_type": "execute_result"
    },
    {
     "data": {
      "image/png": "[encoded data removed]",
      "text/plain": [
       "<Figure size 432x288 with 1 Axes>"
      ]
     },
     "metadata": {
      "needs_background": "light"
     },
     "output_type": "display_data"
    }
   ],
   "source": [
    "cause_only = calfire.drop(columns=[\"month\",\"name\",\"acres\",\"county\",\"longitude\",\"latitude\"]) # drop other columns # SOLUTION NO PROMPT\n",
    "\n",
    "natural_fires = ( # SOLUTION NO PROMPT\n",
    "    cause_only[cause_only.get(\"cause\") == \"1 - Lightning\"] # SOLUTION NO PROMPT\n",
    "    .groupby(\"year\").count() # get fire counts per year # SOLUTION NO PROMPT\n",
    "    .get(\"cause\") # SOLUTION NO PROMPT\n",
    ") # SOLUTION NO PROMPT\n",
    "\n",
    "human_caused_fires = ( # SOLUTION NO PROMPT\n",
    "    cause_only[cause_only.get(\"cause\") != \"1 - Lightning\"] # SOLUTION NO PROMPT\n",
    "    .groupby(\"year\").count() # get fire counts per year # SOLUTION NO PROMPT\n",
    "    .get(\"cause\") # SOLUTION NO PROMPT\n",
    ") # SOLUTION NO PROMPT\n",
    "\n",
    "natural_fires.plot(kind='line') # choose x and y axes data # SOLUTION NO PROMPT\n",
    "(human_caused_fires.plot(kind='line')) # choose x and y axes data # SOLUTION NO PROMPT"
   ]
  },
  {
   "cell_type": "code",
   "execution_count": 20,
   "metadata": {},
   "outputs": [
    {
     "data": {
      "text/plain": [
       "<matplotlib.axes._subplots.AxesSubplot at 0x11f7fc710>"
      ]
     },
     "execution_count": 20,
     "metadata": {},
     "output_type": "execute_result"
    },
    {
     "data": {
      "image/png": "[encoded data removed]",
      "text/plain": [
       "<Figure size 432x288 with 1 Axes>"
      ]
     },
     "metadata": {
      "needs_background": "light"
     },
     "output_type": "display_data"
    }
   ],
   "source": [
    "calfire_binarized = calfire.assign(lightning_caused = (calfire.get('cause') == '1 - Lightning')) # SOLUTION NO PROMPT\n",
    "calfire_binarized.groupby('year').sum().get(\"lightning_caused\").plot(kind = 'line') # SOLUTION NO PROMPT\n",
    "(calfire_binarized.groupby('year').count().get(\"lightning_caused\") - calfire_binarized.groupby('year').sum().get(\"lightning_caused\")).plot(kind = 'line') # SOLUTION NO PROMPT"
   ]
  },
  {
   "cell_type": "markdown",
   "metadata": {
    "slideshow": {
     "slide_type": "slide"
    }
   },
   "source": [
    "# Functions and Apply\n",
    "\n",
    "Now lets take a look at writing our own functions and then applying these functions to DataFrames."
   ]
  },
  {
   "cell_type": "markdown",
   "metadata": {
    "slideshow": {
     "slide_type": "slide"
    }
   },
   "source": [
    "## Question 9: Cause Codes\n",
    "\n",
    "- Currently, the causes are written as `<code> - <name>`. Like: `7 - Arson`.\n",
    "- Write a function which takes in the cause and outputs only the name."
   ]
  },
  {
   "cell_type": "code",
   "execution_count": 21,
   "metadata": {},
   "outputs": [
    {
     "data": {
      "text/plain": [
       "['1 - Lightning',\n",
       " '10 - Vehicle',\n",
       " '11 - Powerline',\n",
       " '12 - Firefighter Training',\n",
       " '13 - Non-Firefighter Training',\n",
       " '14 - Unknown',\n",
       " '15 - Structure',\n",
       " '16 - Aircraft',\n",
       " '18 - Escaped Prescribed Burn',\n",
       " '2 - Equipment Use',\n",
       " '3 - Smoking',\n",
       " '4 - Campfire',\n",
       " '5 - Debris',\n",
       " '6 - Railroad',\n",
       " '7 - Arson',\n",
       " '8 - Playing with fire',\n",
       " '9 - Miscellaneous']"
      ]
     },
     "execution_count": 21,
     "metadata": {},
     "output_type": "execute_result"
    }
   ],
   "source": [
    "causes_old = list(calfire.groupby(\"cause\").count().index) # visualize old causes # SOLUTION NO PROMPT\n",
    "causes_old # SOLUTION NO PROMPT"
   ]
  },
  {
   "cell_type": "code",
   "execution_count": 22,
   "metadata": {},
   "outputs": [],
   "source": [
    "def convert_cause(cause): # SOLUTION NO PROMPT\n",
    "    '''Takes in cause of form [## - <name>] and returns name''' # SOLUTION NO PROMPT\n",
    "    split = cause.split(\" \") # split by space character # SOLUTION NO PROMPT\n",
    "    cause_name = \" \".join(split[2:]) # grab just the name # SOLUTION NO PROMPT\n",
    "    return cause_name # SOLUTION NO PROMPT"
   ]
  },
  {
   "cell_type": "code",
   "execution_count": 23,
   "metadata": {},
   "outputs": [
    {
     "name": "stdout",
     "output_type": "stream",
     "text": [
      "1 - Lightning --> Lightning\n",
      "10 - Vehicle --> Vehicle\n",
      "11 - Powerline --> Powerline\n",
      "12 - Firefighter Training --> Firefighter Training\n",
      "13 - Non-Firefighter Training --> Non-Firefighter Training\n",
      "14 - Unknown --> Unknown\n",
      "15 - Structure --> Structure\n",
      "16 - Aircraft --> Aircraft\n",
      "18 - Escaped Prescribed Burn --> Escaped Prescribed Burn\n",
      "2 - Equipment Use --> Equipment Use\n",
      "3 - Smoking --> Smoking\n",
      "4 - Campfire --> Campfire\n",
      "5 - Debris --> Debris\n",
      "6 - Railroad --> Railroad\n",
      "7 - Arson --> Arson\n",
      "8 - Playing with fire --> Playing with fire\n",
      "9 - Miscellaneous --> Miscellaneous\n"
     ]
    }
   ],
   "source": [
    "# print out causes before and after # SOLUTION NO PROMPT\n",
    "for cause in causes_old: # SOLUTION NO PROMPT\n",
    "    print(f\"{cause} --> {convert_cause(cause)}\") # SOLUTION NO PROMPT"
   ]
  },
  {
   "cell_type": "markdown",
   "metadata": {
    "slideshow": {
     "slide_type": "slide"
    }
   },
   "source": [
    "## Question 10:  Replace the `cause` column with one containing only the names"
   ]
  },
  {
   "cell_type": "code",
   "execution_count": 24,
   "metadata": {},
   "outputs": [
    {
     "data": {
      "text/html": [
       "<div>\n",
       "<style scoped>\n",
       "    .dataframe tbody tr th:only-of-type {\n",
       "        vertical-align: middle;\n",
       "    }\n",
       "\n",
       "    .dataframe tbody tr th {\n",
       "        vertical-align: top;\n",
       "    }\n",
       "\n",
       "    .dataframe thead th {\n",
       "        text-align: right;\n",
       "    }\n",
       "</style>\n",
       "<table border=\"1\" class=\"dataframe\">\n",
       "  <thead>\n",
       "    <tr style=\"text-align: right;\">\n",
       "      <th></th>\n",
       "      <th>year</th>\n",
       "      <th>month</th>\n",
       "      <th>name</th>\n",
       "      <th>cause</th>\n",
       "      <th>acres</th>\n",
       "      <th>county</th>\n",
       "      <th>longitude</th>\n",
       "      <th>latitude</th>\n",
       "    </tr>\n",
       "  </thead>\n",
       "  <tbody>\n",
       "    <tr>\n",
       "      <th>0</th>\n",
       "      <td>1898</td>\n",
       "      <td>9</td>\n",
       "      <td>LOS PADRES</td>\n",
       "      <td>Unknown</td>\n",
       "      <td>20539.949219</td>\n",
       "      <td>Ventura</td>\n",
       "      <td>-119.367830</td>\n",
       "      <td>34.446830</td>\n",
       "    </tr>\n",
       "    <tr>\n",
       "      <th>1</th>\n",
       "      <td>1898</td>\n",
       "      <td>4</td>\n",
       "      <td>MATILIJA</td>\n",
       "      <td>Unknown</td>\n",
       "      <td>2641.123047</td>\n",
       "      <td>Ventura</td>\n",
       "      <td>-119.299625</td>\n",
       "      <td>34.488614</td>\n",
       "    </tr>\n",
       "    <tr>\n",
       "      <th>2</th>\n",
       "      <td>1898</td>\n",
       "      <td>9</td>\n",
       "      <td>COZY DELL</td>\n",
       "      <td>Unknown</td>\n",
       "      <td>2974.585205</td>\n",
       "      <td>Ventura</td>\n",
       "      <td>-119.265380</td>\n",
       "      <td>34.482316</td>\n",
       "    </tr>\n",
       "    <tr>\n",
       "      <th>3</th>\n",
       "      <td>1902</td>\n",
       "      <td>8</td>\n",
       "      <td>FEROUD</td>\n",
       "      <td>Unknown</td>\n",
       "      <td>731.481567</td>\n",
       "      <td>Ventura</td>\n",
       "      <td>-119.320979</td>\n",
       "      <td>34.417515</td>\n",
       "    </tr>\n",
       "    <tr>\n",
       "      <th>4</th>\n",
       "      <td>1903</td>\n",
       "      <td>10</td>\n",
       "      <td>SAN ANTONIO</td>\n",
       "      <td>Unknown</td>\n",
       "      <td>380.260590</td>\n",
       "      <td>Ventura</td>\n",
       "      <td>-119.253422</td>\n",
       "      <td>34.430616</td>\n",
       "    </tr>\n",
       "    <tr>\n",
       "      <th>...</th>\n",
       "      <td>...</td>\n",
       "      <td>...</td>\n",
       "      <td>...</td>\n",
       "      <td>...</td>\n",
       "      <td>...</td>\n",
       "      <td>...</td>\n",
       "      <td>...</td>\n",
       "      <td>...</td>\n",
       "    </tr>\n",
       "    <tr>\n",
       "      <th>13459</th>\n",
       "      <td>2019</td>\n",
       "      <td>9</td>\n",
       "      <td>STAGE</td>\n",
       "      <td>Arson</td>\n",
       "      <td>13.019149</td>\n",
       "      <td>Monterey</td>\n",
       "      <td>-121.599207</td>\n",
       "      <td>36.764065</td>\n",
       "    </tr>\n",
       "    <tr>\n",
       "      <th>13460</th>\n",
       "      <td>2019</td>\n",
       "      <td>10</td>\n",
       "      <td>CROSS</td>\n",
       "      <td>Unknown</td>\n",
       "      <td>289.151428</td>\n",
       "      <td>Monterey</td>\n",
       "      <td>-120.726245</td>\n",
       "      <td>35.793698</td>\n",
       "    </tr>\n",
       "    <tr>\n",
       "      <th>13461</th>\n",
       "      <td>2019</td>\n",
       "      <td>9</td>\n",
       "      <td>FRUDDEN</td>\n",
       "      <td>Equipment Use</td>\n",
       "      <td>11.789393</td>\n",
       "      <td>Monterey</td>\n",
       "      <td>-120.908061</td>\n",
       "      <td>35.908627</td>\n",
       "    </tr>\n",
       "    <tr>\n",
       "      <th>13462</th>\n",
       "      <td>2019</td>\n",
       "      <td>9</td>\n",
       "      <td>JOLON</td>\n",
       "      <td>Powerline</td>\n",
       "      <td>61.592369</td>\n",
       "      <td>Monterey</td>\n",
       "      <td>-121.010025</td>\n",
       "      <td>35.910750</td>\n",
       "    </tr>\n",
       "    <tr>\n",
       "      <th>13463</th>\n",
       "      <td>2019</td>\n",
       "      <td>10</td>\n",
       "      <td>SADDLE RIDGE</td>\n",
       "      <td>Unknown</td>\n",
       "      <td>8799.325195</td>\n",
       "      <td>Los Angeles</td>\n",
       "      <td>-118.516473</td>\n",
       "      <td>34.321859</td>\n",
       "    </tr>\n",
       "  </tbody>\n",
       "</table>\n",
       "<p>13464 rows × 8 columns</p>\n",
       "</div>"
      ],
      "text/plain": [
       "       year  month          name          cause         acres       county  \\\n",
       "0      1898      9    LOS PADRES        Unknown  20539.949219      Ventura   \n",
       "1      1898      4      MATILIJA        Unknown   2641.123047      Ventura   \n",
       "2      1898      9     COZY DELL        Unknown   2974.585205      Ventura   \n",
       "3      1902      8        FEROUD        Unknown    731.481567      Ventura   \n",
       "4      1903     10   SAN ANTONIO        Unknown    380.260590      Ventura   \n",
       "...     ...    ...           ...            ...           ...          ...   \n",
       "13459  2019      9         STAGE          Arson     13.019149     Monterey   \n",
       "13460  2019     10         CROSS        Unknown    289.151428     Monterey   \n",
       "13461  2019      9       FRUDDEN  Equipment Use     11.789393     Monterey   \n",
       "13462  2019      9         JOLON      Powerline     61.592369     Monterey   \n",
       "13463  2019     10  SADDLE RIDGE        Unknown   8799.325195  Los Angeles   \n",
       "\n",
       "        longitude   latitude  \n",
       "0     -119.367830  34.446830  \n",
       "1     -119.299625  34.488614  \n",
       "2     -119.265380  34.482316  \n",
       "3     -119.320979  34.417515  \n",
       "4     -119.253422  34.430616  \n",
       "...           ...        ...  \n",
       "13459 -121.599207  36.764065  \n",
       "13460 -120.726245  35.793698  \n",
       "13461 -120.908061  35.908627  \n",
       "13462 -121.010025  35.910750  \n",
       "13463 -118.516473  34.321859  \n",
       "\n",
       "[13464 rows x 8 columns]"
      ]
     },
     "execution_count": 24,
     "metadata": {},
     "output_type": "execute_result"
    }
   ],
   "source": [
    "cause_names = calfire.get(\"cause\").apply(convert_cause) # apply function to cause # SOLUTION NO PROMPT\n",
    "calfire = calfire.assign(cause=cause_names) # assign new column # SOLUTION NO PROMPT\n",
    "calfire # visualize # SOLUTION NO PROMPT"
   ]
  },
  {
   "cell_type": "markdown",
   "metadata": {
    "slideshow": {
     "slide_type": "slide"
    }
   },
   "source": [
    "## Question 11:  Convert months numbers to names.\n",
    "\n",
    "- Write a function that converts a month's number (1, 2, 3, ..., 12) to the word (January, ..., December)."
   ]
  },
  {
   "cell_type": "code",
   "execution_count": 25,
   "metadata": {},
   "outputs": [],
   "source": [
    "def month_number_to_name(month_number):\n",
    "    import calendar\n",
    "    month_name = calendar.month_name[month_number]\n",
    "    return month_name"
   ]
  },
  {
   "cell_type": "code",
   "execution_count": 26,
   "metadata": {},
   "outputs": [
    {
     "data": {
      "text/plain": [
       "[1, 2, 3, 4, 5, 6, 7, 8, 9, 10, 11, 12]"
      ]
     },
     "execution_count": 26,
     "metadata": {},
     "output_type": "execute_result"
    }
   ],
   "source": [
    "months = list(calfire.groupby(\"month\").count().index) # visualize old causes # SOLUTION NO PROMPT\n",
    "months # SOLUTION NO PROMPT"
   ]
  },
  {
   "cell_type": "code",
   "execution_count": 27,
   "metadata": {},
   "outputs": [
    {
     "name": "stdout",
     "output_type": "stream",
     "text": [
      "1 --> January\n",
      "2 --> February\n",
      "3 --> March\n",
      "4 --> April\n",
      "5 --> May\n",
      "6 --> June\n",
      "7 --> July\n",
      "8 --> August\n",
      "9 --> September\n",
      "10 --> October\n",
      "11 --> November\n",
      "12 --> December\n"
     ]
    }
   ],
   "source": [
    "# print out months before and after # SOLUTION NO PROMPT\n",
    "for cause in months: # SOLUTION NO PROMPT\n",
    "    print(f\"{cause} --> {month_number_to_name(cause)}\") # SOLUTION NO PROMPT"
   ]
  },
  {
   "cell_type": "code",
   "execution_count": 28,
   "metadata": {},
   "outputs": [
    {
     "data": {
      "text/html": [
       "<div>\n",
       "<style scoped>\n",
       "    .dataframe tbody tr th:only-of-type {\n",
       "        vertical-align: middle;\n",
       "    }\n",
       "\n",
       "    .dataframe tbody tr th {\n",
       "        vertical-align: top;\n",
       "    }\n",
       "\n",
       "    .dataframe thead th {\n",
       "        text-align: right;\n",
       "    }\n",
       "</style>\n",
       "<table border=\"1\" class=\"dataframe\">\n",
       "  <thead>\n",
       "    <tr style=\"text-align: right;\">\n",
       "      <th></th>\n",
       "      <th>year</th>\n",
       "      <th>month</th>\n",
       "      <th>name</th>\n",
       "      <th>cause</th>\n",
       "      <th>acres</th>\n",
       "      <th>county</th>\n",
       "      <th>longitude</th>\n",
       "      <th>latitude</th>\n",
       "    </tr>\n",
       "  </thead>\n",
       "  <tbody>\n",
       "    <tr>\n",
       "      <th>0</th>\n",
       "      <td>1898</td>\n",
       "      <td>September</td>\n",
       "      <td>LOS PADRES</td>\n",
       "      <td>Unknown</td>\n",
       "      <td>20539.949219</td>\n",
       "      <td>Ventura</td>\n",
       "      <td>-119.367830</td>\n",
       "      <td>34.446830</td>\n",
       "    </tr>\n",
       "    <tr>\n",
       "      <th>1</th>\n",
       "      <td>1898</td>\n",
       "      <td>April</td>\n",
       "      <td>MATILIJA</td>\n",
       "      <td>Unknown</td>\n",
       "      <td>2641.123047</td>\n",
       "      <td>Ventura</td>\n",
       "      <td>-119.299625</td>\n",
       "      <td>34.488614</td>\n",
       "    </tr>\n",
       "    <tr>\n",
       "      <th>2</th>\n",
       "      <td>1898</td>\n",
       "      <td>September</td>\n",
       "      <td>COZY DELL</td>\n",
       "      <td>Unknown</td>\n",
       "      <td>2974.585205</td>\n",
       "      <td>Ventura</td>\n",
       "      <td>-119.265380</td>\n",
       "      <td>34.482316</td>\n",
       "    </tr>\n",
       "    <tr>\n",
       "      <th>3</th>\n",
       "      <td>1902</td>\n",
       "      <td>August</td>\n",
       "      <td>FEROUD</td>\n",
       "      <td>Unknown</td>\n",
       "      <td>731.481567</td>\n",
       "      <td>Ventura</td>\n",
       "      <td>-119.320979</td>\n",
       "      <td>34.417515</td>\n",
       "    </tr>\n",
       "    <tr>\n",
       "      <th>4</th>\n",
       "      <td>1903</td>\n",
       "      <td>October</td>\n",
       "      <td>SAN ANTONIO</td>\n",
       "      <td>Unknown</td>\n",
       "      <td>380.260590</td>\n",
       "      <td>Ventura</td>\n",
       "      <td>-119.253422</td>\n",
       "      <td>34.430616</td>\n",
       "    </tr>\n",
       "    <tr>\n",
       "      <th>...</th>\n",
       "      <td>...</td>\n",
       "      <td>...</td>\n",
       "      <td>...</td>\n",
       "      <td>...</td>\n",
       "      <td>...</td>\n",
       "      <td>...</td>\n",
       "      <td>...</td>\n",
       "      <td>...</td>\n",
       "    </tr>\n",
       "    <tr>\n",
       "      <th>13459</th>\n",
       "      <td>2019</td>\n",
       "      <td>September</td>\n",
       "      <td>STAGE</td>\n",
       "      <td>Arson</td>\n",
       "      <td>13.019149</td>\n",
       "      <td>Monterey</td>\n",
       "      <td>-121.599207</td>\n",
       "      <td>36.764065</td>\n",
       "    </tr>\n",
       "    <tr>\n",
       "      <th>13460</th>\n",
       "      <td>2019</td>\n",
       "      <td>October</td>\n",
       "      <td>CROSS</td>\n",
       "      <td>Unknown</td>\n",
       "      <td>289.151428</td>\n",
       "      <td>Monterey</td>\n",
       "      <td>-120.726245</td>\n",
       "      <td>35.793698</td>\n",
       "    </tr>\n",
       "    <tr>\n",
       "      <th>13461</th>\n",
       "      <td>2019</td>\n",
       "      <td>September</td>\n",
       "      <td>FRUDDEN</td>\n",
       "      <td>Equipment Use</td>\n",
       "      <td>11.789393</td>\n",
       "      <td>Monterey</td>\n",
       "      <td>-120.908061</td>\n",
       "      <td>35.908627</td>\n",
       "    </tr>\n",
       "    <tr>\n",
       "      <th>13462</th>\n",
       "      <td>2019</td>\n",
       "      <td>September</td>\n",
       "      <td>JOLON</td>\n",
       "      <td>Powerline</td>\n",
       "      <td>61.592369</td>\n",
       "      <td>Monterey</td>\n",
       "      <td>-121.010025</td>\n",
       "      <td>35.910750</td>\n",
       "    </tr>\n",
       "    <tr>\n",
       "      <th>13463</th>\n",
       "      <td>2019</td>\n",
       "      <td>October</td>\n",
       "      <td>SADDLE RIDGE</td>\n",
       "      <td>Unknown</td>\n",
       "      <td>8799.325195</td>\n",
       "      <td>Los Angeles</td>\n",
       "      <td>-118.516473</td>\n",
       "      <td>34.321859</td>\n",
       "    </tr>\n",
       "  </tbody>\n",
       "</table>\n",
       "<p>13464 rows × 8 columns</p>\n",
       "</div>"
      ],
      "text/plain": [
       "       year      month          name          cause         acres  \\\n",
       "0      1898  September    LOS PADRES        Unknown  20539.949219   \n",
       "1      1898      April      MATILIJA        Unknown   2641.123047   \n",
       "2      1898  September     COZY DELL        Unknown   2974.585205   \n",
       "3      1902     August        FEROUD        Unknown    731.481567   \n",
       "4      1903    October   SAN ANTONIO        Unknown    380.260590   \n",
       "...     ...        ...           ...            ...           ...   \n",
       "13459  2019  September         STAGE          Arson     13.019149   \n",
       "13460  2019    October         CROSS        Unknown    289.151428   \n",
       "13461  2019  September       FRUDDEN  Equipment Use     11.789393   \n",
       "13462  2019  September         JOLON      Powerline     61.592369   \n",
       "13463  2019    October  SADDLE RIDGE        Unknown   8799.325195   \n",
       "\n",
       "            county   longitude   latitude  \n",
       "0          Ventura -119.367830  34.446830  \n",
       "1          Ventura -119.299625  34.488614  \n",
       "2          Ventura -119.265380  34.482316  \n",
       "3          Ventura -119.320979  34.417515  \n",
       "4          Ventura -119.253422  34.430616  \n",
       "...            ...         ...        ...  \n",
       "13459     Monterey -121.599207  36.764065  \n",
       "13460     Monterey -120.726245  35.793698  \n",
       "13461     Monterey -120.908061  35.908627  \n",
       "13462     Monterey -121.010025  35.910750  \n",
       "13463  Los Angeles -118.516473  34.321859  \n",
       "\n",
       "[13464 rows x 8 columns]"
      ]
     },
     "execution_count": 28,
     "metadata": {},
     "output_type": "execute_result"
    }
   ],
   "source": [
    "month_names = calfire.get(\"month\").apply(month_number_to_name) # apply function to month # SOLUTION NO PROMPT\n",
    "calfire = calfire.assign(month=month_names) # assign new column # SOLUTION NO PROMPT\n",
    "calfire # visualize # SOLUTION NO PROMPT"
   ]
  },
  {
   "cell_type": "markdown",
   "metadata": {
    "slideshow": {
     "slide_type": "slide"
    }
   },
   "source": [
    "## Question 12:  Closest fire\n",
    "\n",
    "- Write a function that accepts a latitude/longitude pair and returns the name of the closest fire."
   ]
  },
  {
   "cell_type": "code",
   "execution_count": 29,
   "metadata": {},
   "outputs": [],
   "source": [
    "def get_closest_fire(latitude, longitude): # SOLUTION NO PROMPT\n",
    "    \n",
    "    # target point # SOLUTION NO PROMPT\n",
    "    target = [latitude, longitude] # SOLUTION NO PROMPT\n",
    "    \n",
    "    # get fire coords # SOLUTION NO PROMPT\n",
    "    fire_coords = calfire.get([\"latitude\",\"longitude\"]).to_numpy() # SOLUTION NO PROMPT\n",
    "    \n",
    "    # distance and index variables # SOLUTION NO PROMPT\n",
    "    min_dist = np.Inf # SOLUTION NO PROMPT\n",
    "    fire_index = -1 # SOLUTION NO PROMPT\n",
    "\n",
    "    # loop over all fires # SOLUTION NO PROMPT\n",
    "    for index,fire in enumerate(fire_coords): # SOLUTION NO PROMPT\n",
    "        # distance from input to current fire # SOLUTION NO PROMPT\n",
    "        cur_dist = np.linalg.norm(fire-target) # SOLUTION NO PROMPT\n",
    "        # reset minimum if we find a closer fire # SOLUTION NO PROMPT\n",
    "        if cur_dist < min_dist: # SOLUTION NO PROMPT\n",
    "            min_dist = cur_dist # SOLUTION NO PROMPT\n",
    "            fire_index = index # SOLUTION NO PROMPT\n",
    "    \n",
    "    # get the name of the fire # SOLUTION NO PROMPT\n",
    "    closest_fire = calfire.iloc[fire_index].get(\"name\") # SOLUTION NO PROMPT\n",
    "    \n",
    "    return closest_fire # SOLUTION NO PROMPT"
   ]
  },
  {
   "cell_type": "code",
   "execution_count": 30,
   "metadata": {},
   "outputs": [],
   "source": [
    "from scipy.spatial.distance import cdist # SOLUTION NO PROMPT\n",
    "def get_closest_fire_cdist(latitude, longitude): # SOLUTION NO PROMPT\n",
    "    \n",
    "    # target point # SOLUTION NO PROMPT\n",
    "    target = [latitude, longitude] # SOLUTION NO PROMPT\n",
    "    \n",
    "    # get fire coords # SOLUTION NO PROMPT\n",
    "    fire_coords = calfire.get([\"latitude\",\"longitude\"]).to_numpy() # SOLUTION NO PROMPT\n",
    "    \n",
    "    # get index of min fire # SOLUTION NO PROMPT\n",
    "    fire_index = cdist([target], fire_coords).argmin() # SOLUTION NO PROMPT\n",
    "    \n",
    "    # get the name of the fire # SOLUTION NO PROMPT\n",
    "    closest_fire = calfire.iloc[fire_index].get(\"name\") # SOLUTION NO PROMPT\n",
    "\n",
    "    return closest_fire # SOLUTION NO PROMPT"
   ]
  },
  {
   "cell_type": "code",
   "execution_count": 31,
   "metadata": {},
   "outputs": [
    {
     "data": {
      "text/plain": [
       "'LOCAL ASSIST #22'"
      ]
     },
     "execution_count": 31,
     "metadata": {},
     "output_type": "execute_result"
    }
   ],
   "source": [
    "geisel = [32.881158, -117.237566] # SOLUTION NO PROMPT\n",
    "closest_fire = get_closest_fire(geisel[0], geisel[1]) # SOLUTION NO PROMPT\n",
    "closest_fire # SOLUTION NO PROMPT"
   ]
  },
  {
   "cell_type": "code",
   "execution_count": 32,
   "metadata": {},
   "outputs": [
    {
     "data": {
      "text/html": [],
      "text/plain": []
     },
     "execution_count": 32,
     "metadata": {},
     "output_type": "execute_result"
    }
   ],
   "source": [
    "grader.check_all()"
   ]
  }
 ],
 "metadata": {
  "celltoolbar": "Slideshow",
  "kernelspec": {
   "display_name": "Python 3",
   "language": "python",
   "name": "python3"
  },
  "language_info": {
   "codemirror_mode": {
    "name": "ipython",
    "version": 3
   },
   "file_extension": ".py",
   "mimetype": "text/x-python",
   "name": "python",
   "nbconvert_exporter": "python",
   "pygments_lexer": "ipython3",
   "version": "3.7.6"
  }
 },
 "nbformat": 4,
 "nbformat_minor": 4
}
